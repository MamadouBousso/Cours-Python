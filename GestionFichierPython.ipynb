{
  "nbformat": 4,
  "nbformat_minor": 0,
  "metadata": {
    "kernelspec": {
      "display_name": "Python 3",
      "language": "python",
      "name": "python3"
    },
    "language_info": {
      "codemirror_mode": {
        "name": "ipython",
        "version": 3
      },
      "file_extension": ".py",
      "mimetype": "text/x-python",
      "name": "python",
      "nbconvert_exporter": "python",
      "pygments_lexer": "ipython3",
      "version": "3.7.3"
    },
    "colab": {
      "name": "GestionFichierPython.ipynb",
      "provenance": [],
      "include_colab_link": true
    }
  },
  "cells": [
    {
      "cell_type": "markdown",
      "metadata": {
        "id": "view-in-github",
        "colab_type": "text"
      },
      "source": [
        "<a href=\"https://colab.research.google.com/github/MamadouBousso/Cours-Python/blob/main/GestionFichierPython.ipynb\" target=\"_parent\"><img src=\"https://colab.research.google.com/assets/colab-badge.svg\" alt=\"Open In Colab\"/></a>"
      ]
    },
    {
      "cell_type": "markdown",
      "metadata": {
        "id": "XZlcjGdzhxxR"
      },
      "source": [
        "---\n",
        "---\n",
        "\n",
        "<center><h1> GESTION DES FICHIERS PYTHON </h1></center>\n",
        "\n",
        "\n",
        "#### `FICHIER TEXTE`\n",
        "\n",
        "---\n",
        "\n",
        "* ***.txt***\n",
        "\n",
        "\n",
        "**MODES D'ACCES DES FICHIERS**\n",
        "\n",
        " * ***`Lecture seule (‘r’)`*** : Il ouvre le fichier texte en mode lecture. Si le fichier n'existe pas, génère une erreur d'E/S.\n",
        " * ***`Lecture et ecriture (‘r+’)`*** : Il ouvre le fichier texte en lecture et ecriture. Si le fichier n'existe pas, génère une erreur d'E/S.\n",
        " * ***`Ecriture seule (‘w’)`*** : Il ouvre le fichier texte en ecriture. Si le fichier existe alors les données sont écrasées. Cree le fichier s'il n'existe pas. \n",
        " * ***`Write and Read (‘w+’)`*** : Il ouvre le fichier texte en lecture et ecriture. Si le fichier existe alors les données sont réécrites. Si le fichier existe alors les données sont tronquées et écrasées.\n",
        " * ***`Append Only (‘a’)`*** : Il ouvre le fichier texte en ecriture. Le fichier est cree s'il n'existe pas. Les nouvelles données seront insérées à la fin du fichier aprés les données existantes. \n",
        " * ***`Append and Read (‘a+’)`*** : Il ouvre le fichier texte en lecture et ecriture. Le fichier est cree s'il n'existe pas. Les nouvelles données seront insérées à la fin du fichier aprés les données existantes. \n",
        "\n",
        "---\n",
        "\n",
        "---"
      ]
    },
    {
      "cell_type": "markdown",
      "metadata": {
        "id": "thg1vbcQhxxb"
      },
      "source": [
        "#### `LECTURE DE FICHIER TEXTE`\n",
        "\n",
        "\n",
        "\n",
        "\n",
        "\n",
        "---"
      ]
    },
    {
      "cell_type": "code",
      "source": [
        "!pip install opendatasets"
      ],
      "metadata": {
        "colab": {
          "base_uri": "https://localhost:8080/"
        },
        "id": "9JfaYcd31Gg5",
        "outputId": "0b354aef-e45f-4309-c7ee-4d5003452470"
      },
      "execution_count": 3,
      "outputs": [
        {
          "output_type": "stream",
          "name": "stdout",
          "text": [
            "Looking in indexes: https://pypi.org/simple, https://us-python.pkg.dev/colab-wheels/public/simple/\n",
            "Collecting opendatasets\n",
            "  Downloading opendatasets-0.1.22-py3-none-any.whl (15 kB)\n",
            "Requirement already satisfied: tqdm in /usr/local/lib/python3.7/dist-packages (from opendatasets) (4.64.0)\n",
            "Requirement already satisfied: kaggle in /usr/local/lib/python3.7/dist-packages (from opendatasets) (1.5.12)\n",
            "Requirement already satisfied: click in /usr/local/lib/python3.7/dist-packages (from opendatasets) (7.1.2)\n",
            "Requirement already satisfied: six>=1.10 in /usr/local/lib/python3.7/dist-packages (from kaggle->opendatasets) (1.15.0)\n",
            "Requirement already satisfied: requests in /usr/local/lib/python3.7/dist-packages (from kaggle->opendatasets) (2.23.0)\n",
            "Requirement already satisfied: python-slugify in /usr/local/lib/python3.7/dist-packages (from kaggle->opendatasets) (6.1.2)\n",
            "Requirement already satisfied: python-dateutil in /usr/local/lib/python3.7/dist-packages (from kaggle->opendatasets) (2.8.2)\n",
            "Requirement already satisfied: urllib3 in /usr/local/lib/python3.7/dist-packages (from kaggle->opendatasets) (1.24.3)\n",
            "Requirement already satisfied: certifi in /usr/local/lib/python3.7/dist-packages (from kaggle->opendatasets) (2022.6.15)\n",
            "Requirement already satisfied: text-unidecode>=1.3 in /usr/local/lib/python3.7/dist-packages (from python-slugify->kaggle->opendatasets) (1.3)\n",
            "Requirement already satisfied: idna<3,>=2.5 in /usr/local/lib/python3.7/dist-packages (from requests->kaggle->opendatasets) (2.10)\n",
            "Requirement already satisfied: chardet<4,>=3.0.2 in /usr/local/lib/python3.7/dist-packages (from requests->kaggle->opendatasets) (3.0.4)\n",
            "Installing collected packages: opendatasets\n",
            "Successfully installed opendatasets-0.1.22\n"
          ]
        }
      ]
    },
    {
      "cell_type": "code",
      "source": [
        "import opendatasets as od\n",
        "import sys"
      ],
      "metadata": {
        "id": "x9yvOZ6c1P-Q"
      },
      "execution_count": 30,
      "outputs": []
    },
    {
      "cell_type": "code",
      "source": [
        "dataset_path = '/content/drive/MyDrive/Colab Notebooks/IntroMLAMAS2022/file_handling-200323-223440/dataset/'"
      ],
      "metadata": {
        "id": "pAbvV22c1gSv"
      },
      "execution_count": 32,
      "outputs": []
    },
    {
      "cell_type": "code",
      "source": [
        "sys.path.append(dataset_path)"
      ],
      "metadata": {
        "id": "5FDLAMkw1Uvr"
      },
      "execution_count": 33,
      "outputs": []
    },
    {
      "cell_type": "code",
      "metadata": {
        "id": "v-RDWQLShxxj"
      },
      "source": [
        "# Ouvrir le fihcier en mode lecture seule.\n",
        "\n",
        "text_file = open(dataset_path + \"file_1.txt\", \"r\")"
      ],
      "execution_count": 34,
      "outputs": []
    },
    {
      "cell_type": "code",
      "metadata": {
        "id": "6AGE86_hhxx5",
        "outputId": "65224925-7359-4992-ff0b-f1257a854467",
        "colab": {
          "base_uri": "https://localhost:8080/",
          "height": 142
        }
      },
      "source": [
        "# Lecture du fichier et mettre le contenu dans un string\n",
        "complete_text = text_file.read()\n",
        "complete_text"
      ],
      "execution_count": 35,
      "outputs": [
        {
          "output_type": "execute_result",
          "data": {
            "text/plain": [
              "'This is line number 1.\\nThis is line number 2.\\nThis is line number 3.\\nThis is line number 4.\\nThis is line number 5.\\nThis is line number 6.\\nThis is line number 7.\\nThis is line number 8.\\nThis is line number 9.\\nThis is line number 10.\\nThis is line number 11.\\nThis is line number 12.\\nThis is line number 13.\\nThis is line number 14.\\nThis is line number 15.\\nThis is line number 16.\\nThis is line number 17.\\nThis is line number 18.\\nThis is line number 19.\\nThis is line number 20.\\nThis is line number 21.\\nThis is line number 22.\\nThis is line number 23.\\nThis is line number 24.\\nThis is line number 25.\\nThis is line number 26.\\nThis is line number 27.\\nThis is line number 28.\\nThis is line number 29.\\nThis is line number 30.\\n'"
            ],
            "application/vnd.google.colaboratory.intrinsic+json": {
              "type": "string"
            }
          },
          "metadata": {},
          "execution_count": 35
        }
      ]
    },
    {
      "cell_type": "markdown",
      "metadata": {
        "id": "fHI9KsiDhxyM"
      },
      "source": [
        "***Relire le fichier***\n",
        "\n",
        "---"
      ]
    },
    {
      "cell_type": "code",
      "metadata": {
        "id": "wbFhUC5yhxyS",
        "outputId": "8cec57ea-4200-4b59-b4f1-4defa1794e7b",
        "colab": {
          "base_uri": "https://localhost:8080/",
          "height": 36
        }
      },
      "source": [
        "# read the file again\n",
        "complete_text = text_file.read()\n",
        "\n",
        "complete_text"
      ],
      "execution_count": 36,
      "outputs": [
        {
          "output_type": "execute_result",
          "data": {
            "text/plain": [
              "''"
            ],
            "application/vnd.google.colaboratory.intrinsic+json": {
              "type": "string"
            }
          },
          "metadata": {},
          "execution_count": 36
        }
      ]
    },
    {
      "cell_type": "markdown",
      "source": [
        "\n",
        "**<center><h3> Pourquoi obtenez-vous le resultat ci-dessous à la relecture du fichier ? </h3></center>**\n"
      ],
      "metadata": {
        "id": "Kl61n9zQ65PB"
      }
    },
    {
      "cell_type": "code",
      "metadata": {
        "id": "Ed_NBdXEhxyi"
      },
      "source": [
        "'''\n",
        "\n",
        "Comme vous pouvez le voir, nous avons une chaîne vide.\n",
        "C'est parce que le fichier est déjà ouvert\n",
        "et le pointeur de fichier est à la fin du fichier\n",
        "donc une façon de faire est de fermer d'abord le fichier pour le relire.\n",
        "'''\n",
        "\n",
        "text_file.close()"
      ],
      "execution_count": 37,
      "outputs": []
    },
    {
      "cell_type": "code",
      "metadata": {
        "id": "5l0294PKhxyw"
      },
      "source": [
        "complete_text = open(dataset_path + \"file_1.txt\", \"r\")"
      ],
      "execution_count": 39,
      "outputs": []
    },
    {
      "cell_type": "code",
      "metadata": {
        "id": "OZ_FbxMwhxy8",
        "outputId": "964fb3af-3be2-43c4-e732-6c74889f6bbc",
        "colab": {
          "base_uri": "https://localhost:8080/",
          "height": 142
        }
      },
      "source": [
        "complete_text.read()"
      ],
      "execution_count": 40,
      "outputs": [
        {
          "output_type": "execute_result",
          "data": {
            "text/plain": [
              "'This is line number 1.\\nThis is line number 2.\\nThis is line number 3.\\nThis is line number 4.\\nThis is line number 5.\\nThis is line number 6.\\nThis is line number 7.\\nThis is line number 8.\\nThis is line number 9.\\nThis is line number 10.\\nThis is line number 11.\\nThis is line number 12.\\nThis is line number 13.\\nThis is line number 14.\\nThis is line number 15.\\nThis is line number 16.\\nThis is line number 17.\\nThis is line number 18.\\nThis is line number 19.\\nThis is line number 20.\\nThis is line number 21.\\nThis is line number 22.\\nThis is line number 23.\\nThis is line number 24.\\nThis is line number 25.\\nThis is line number 26.\\nThis is line number 27.\\nThis is line number 28.\\nThis is line number 29.\\nThis is line number 30.\\n'"
            ],
            "application/vnd.google.colaboratory.intrinsic+json": {
              "type": "string"
            }
          },
          "metadata": {},
          "execution_count": 40
        }
      ]
    },
    {
      "cell_type": "markdown",
      "metadata": {
        "id": "gZJrZhPShxzI"
      },
      "source": [
        "***Une autre façon de faire pour relire le fichier consiste à déplacer à nouveau le pointeur vers le point de départ à l'aide de la fonction \"seek\".***\n",
        "\n",
        "---\n"
      ]
    },
    {
      "cell_type": "code",
      "metadata": {
        "id": "gQI7yWSehxzN",
        "outputId": "aa36f1d0-477e-4af0-b9e1-ce5a1e6a024f",
        "colab": {
          "base_uri": "https://localhost:8080/"
        }
      },
      "source": [
        "complete_text.seek(0)"
      ],
      "execution_count": 41,
      "outputs": [
        {
          "output_type": "execute_result",
          "data": {
            "text/plain": [
              "0"
            ]
          },
          "metadata": {},
          "execution_count": 41
        }
      ]
    },
    {
      "cell_type": "code",
      "metadata": {
        "id": "BUMzpDFuhxzc",
        "outputId": "5fcf55da-010e-4a6c-b73e-733dc9f201ac",
        "colab": {
          "base_uri": "https://localhost:8080/",
          "height": 142
        }
      },
      "source": [
        "complete_text.read()"
      ],
      "execution_count": 42,
      "outputs": [
        {
          "output_type": "execute_result",
          "data": {
            "text/plain": [
              "'This is line number 1.\\nThis is line number 2.\\nThis is line number 3.\\nThis is line number 4.\\nThis is line number 5.\\nThis is line number 6.\\nThis is line number 7.\\nThis is line number 8.\\nThis is line number 9.\\nThis is line number 10.\\nThis is line number 11.\\nThis is line number 12.\\nThis is line number 13.\\nThis is line number 14.\\nThis is line number 15.\\nThis is line number 16.\\nThis is line number 17.\\nThis is line number 18.\\nThis is line number 19.\\nThis is line number 20.\\nThis is line number 21.\\nThis is line number 22.\\nThis is line number 23.\\nThis is line number 24.\\nThis is line number 25.\\nThis is line number 26.\\nThis is line number 27.\\nThis is line number 28.\\nThis is line number 29.\\nThis is line number 30.\\n'"
            ],
            "application/vnd.google.colaboratory.intrinsic+json": {
              "type": "string"
            }
          },
          "metadata": {},
          "execution_count": 42
        }
      ]
    },
    {
      "cell_type": "markdown",
      "metadata": {
        "id": "j70sULbFhxzn"
      },
      "source": [
        "***En utilisant la fonction `seek`, nous pouvons nous déplacer à n'importe quel point du fichier et le lire à partir de ce point.***\n",
        "\n",
        "---\n"
      ]
    },
    {
      "cell_type": "code",
      "metadata": {
        "id": "UPaghT12hxzr",
        "outputId": "28a6cb58-46bb-400b-ad6b-70dd96fffb17",
        "colab": {
          "base_uri": "https://localhost:8080/"
        }
      },
      "source": [
        "# Lire à partir du caractére 300 du fichier\n",
        "complete_text.seek(300)"
      ],
      "execution_count": 43,
      "outputs": [
        {
          "output_type": "execute_result",
          "data": {
            "text/plain": [
              "300"
            ]
          },
          "metadata": {},
          "execution_count": 43
        }
      ]
    },
    {
      "cell_type": "code",
      "metadata": {
        "id": "C0kOqSANhxz6",
        "outputId": "4afc6f45-8083-4db0-c747-91cad0f12885",
        "colab": {
          "base_uri": "https://localhost:8080/",
          "height": 107
        }
      },
      "source": [
        "# lire le fichier\n",
        "complete_text.read()"
      ],
      "execution_count": 44,
      "outputs": [
        {
          "output_type": "execute_result",
          "data": {
            "text/plain": [
              "'3.\\nThis is line number 14.\\nThis is line number 15.\\nThis is line number 16.\\nThis is line number 17.\\nThis is line number 18.\\nThis is line number 19.\\nThis is line number 20.\\nThis is line number 21.\\nThis is line number 22.\\nThis is line number 23.\\nThis is line number 24.\\nThis is line number 25.\\nThis is line number 26.\\nThis is line number 27.\\nThis is line number 28.\\nThis is line number 29.\\nThis is line number 30.\\n'"
            ],
            "application/vnd.google.colaboratory.intrinsic+json": {
              "type": "string"
            }
          },
          "metadata": {},
          "execution_count": 44
        }
      ]
    },
    {
      "cell_type": "code",
      "metadata": {
        "id": "FwgOwcW1hx0G"
      },
      "source": [
        "# Fermer le fichier\n",
        "complete_text.close()"
      ],
      "execution_count": 45,
      "outputs": []
    },
    {
      "cell_type": "markdown",
      "metadata": {
        "id": "VkZ_OMzWhx0T"
      },
      "source": [
        "***Lire le fichier ligne par ligne***\n",
        "\n",
        "---"
      ]
    },
    {
      "cell_type": "code",
      "metadata": {
        "id": "53iUSxefhx0U",
        "outputId": "e8b36d8d-7931-46ca-b6f5-d932b52afce3",
        "colab": {
          "base_uri": "https://localhost:8080/"
        }
      },
      "source": [
        "# Relire le fichier et stocker chaque ligne dans une liste \n",
        "text_file = open(dataset_path+ \"file_1.txt\", \"r\")\n",
        "\n",
        "lines = text_file.readlines()\n",
        "\n",
        "# nombre  de lignes\n",
        "print('Nombre de lignes est ',format(len(lines)))"
      ],
      "execution_count": 47,
      "outputs": [
        {
          "output_type": "stream",
          "name": "stdout",
          "text": [
            "Nombre de lignes est  30\n"
          ]
        }
      ]
    },
    {
      "cell_type": "code",
      "metadata": {
        "id": "TXiZwNbzhx0e",
        "outputId": "5614e699-9a81-46ca-fec4-91c1b46113d7",
        "colab": {
          "base_uri": "https://localhost:8080/"
        }
      },
      "source": [
        "# Afficher chaque ligne du texte\n",
        "for line in lines :\n",
        "    print(line)\n",
        "\n",
        "# Fermer le fichier\n",
        "text_file.close()"
      ],
      "execution_count": 48,
      "outputs": [
        {
          "output_type": "stream",
          "name": "stdout",
          "text": [
            "This is line number 1.\n",
            "\n",
            "This is line number 2.\n",
            "\n",
            "This is line number 3.\n",
            "\n",
            "This is line number 4.\n",
            "\n",
            "This is line number 5.\n",
            "\n",
            "This is line number 6.\n",
            "\n",
            "This is line number 7.\n",
            "\n",
            "This is line number 8.\n",
            "\n",
            "This is line number 9.\n",
            "\n",
            "This is line number 10.\n",
            "\n",
            "This is line number 11.\n",
            "\n",
            "This is line number 12.\n",
            "\n",
            "This is line number 13.\n",
            "\n",
            "This is line number 14.\n",
            "\n",
            "This is line number 15.\n",
            "\n",
            "This is line number 16.\n",
            "\n",
            "This is line number 17.\n",
            "\n",
            "This is line number 18.\n",
            "\n",
            "This is line number 19.\n",
            "\n",
            "This is line number 20.\n",
            "\n",
            "This is line number 21.\n",
            "\n",
            "This is line number 22.\n",
            "\n",
            "This is line number 23.\n",
            "\n",
            "This is line number 24.\n",
            "\n",
            "This is line number 25.\n",
            "\n",
            "This is line number 26.\n",
            "\n",
            "This is line number 27.\n",
            "\n",
            "This is line number 28.\n",
            "\n",
            "This is line number 29.\n",
            "\n",
            "This is line number 30.\n",
            "\n"
          ]
        }
      ]
    },
    {
      "cell_type": "markdown",
      "metadata": {
        "id": "eJfAiMhVhx0q"
      },
      "source": [
        "---\n",
        "\n",
        "***Une autre façon de lire un fichier avec with***\n",
        "\n",
        "---"
      ]
    },
    {
      "cell_type": "code",
      "metadata": {
        "id": "FtecXDR0hx0t"
      },
      "source": [
        "with open(dataset_path + 'file_1.txt','r') as f:\n",
        "    complete_text =  f.read()"
      ],
      "execution_count": 50,
      "outputs": []
    },
    {
      "cell_type": "code",
      "metadata": {
        "id": "XjnIjU2Khx03",
        "outputId": "d042a88e-3982-452f-fb46-3ce5959768a5",
        "colab": {
          "base_uri": "https://localhost:8080/",
          "height": 142
        }
      },
      "source": [
        "complete_text"
      ],
      "execution_count": 51,
      "outputs": [
        {
          "output_type": "execute_result",
          "data": {
            "text/plain": [
              "'This is line number 1.\\nThis is line number 2.\\nThis is line number 3.\\nThis is line number 4.\\nThis is line number 5.\\nThis is line number 6.\\nThis is line number 7.\\nThis is line number 8.\\nThis is line number 9.\\nThis is line number 10.\\nThis is line number 11.\\nThis is line number 12.\\nThis is line number 13.\\nThis is line number 14.\\nThis is line number 15.\\nThis is line number 16.\\nThis is line number 17.\\nThis is line number 18.\\nThis is line number 19.\\nThis is line number 20.\\nThis is line number 21.\\nThis is line number 22.\\nThis is line number 23.\\nThis is line number 24.\\nThis is line number 25.\\nThis is line number 26.\\nThis is line number 27.\\nThis is line number 28.\\nThis is line number 29.\\nThis is line number 30.\\n'"
            ],
            "application/vnd.google.colaboratory.intrinsic+json": {
              "type": "string"
            }
          },
          "metadata": {},
          "execution_count": 51
        }
      ]
    },
    {
      "cell_type": "markdown",
      "metadata": {
        "id": "8OITSz2nhx1A"
      },
      "source": [
        "***En utilisant l'instruction `with`, python fermera  automatiquement le fichier aprés l'avoir lu.***\n",
        "\n",
        "---"
      ]
    },
    {
      "cell_type": "markdown",
      "metadata": {
        "id": "Jc8qx8aChx1D"
      },
      "source": [
        "#### `ECRITURE DE FICHIERS TEXTE`\n",
        "\n",
        "\n",
        "---"
      ]
    },
    {
      "cell_type": "code",
      "metadata": {
        "id": "MvTcwOMKhx1F",
        "outputId": "707b852e-4933-43a1-94b1-bfeee5616124",
        "colab": {
          "base_uri": "https://localhost:8080/"
        }
      },
      "source": [
        "# Ouvrons le fichier en mode ecriture\n",
        "my_file = open(dataset_path+'new_file.txt','w')\n",
        "\n",
        "# Ecrire une ligne de texte dans le fichier\n",
        "my_file.write('Super les Data Science!')"
      ],
      "execution_count": 54,
      "outputs": [
        {
          "output_type": "execute_result",
          "data": {
            "text/plain": [
              "23"
            ]
          },
          "metadata": {},
          "execution_count": 54
        }
      ]
    },
    {
      "cell_type": "markdown",
      "metadata": {
        "id": "s6RK7oF9hx1P"
      },
      "source": [
        "***La fonction `write` function retournera le nombre de caractéres écrit dans le fichier***\n",
        "\n",
        "___"
      ]
    },
    {
      "cell_type": "code",
      "metadata": {
        "id": "FFQyZ40-hx1R",
        "outputId": "e60ef556-f0ca-4152-bf12-985b72253696",
        "colab": {
          "base_uri": "https://localhost:8080/",
          "height": 36
        }
      },
      "source": [
        "# ouvrir le fichier en mode lecture et ecriture\n",
        "my_file = open(dataset_path + 'new_file.txt','w+')\n",
        "#  lire le fichier\n",
        "my_file.read()"
      ],
      "execution_count": 53,
      "outputs": [
        {
          "output_type": "execute_result",
          "data": {
            "text/plain": [
              "''"
            ],
            "application/vnd.google.colaboratory.intrinsic+json": {
              "type": "string"
            }
          },
          "metadata": {},
          "execution_count": 53
        }
      ]
    },
    {
      "cell_type": "code",
      "metadata": {
        "id": "NqUWMsw6hx1a"
      },
      "source": [
        "# fermer le fichier\n",
        "my_file.close()"
      ],
      "execution_count": 56,
      "outputs": []
    },
    {
      "cell_type": "code",
      "metadata": {
        "id": "-MtvfJO4hx1l"
      },
      "source": [
        "# Maintenant, ajoutez à nouveau quelques lignes au fichier\n",
        "\n",
        "my_file = open(dataset_path+'new_file.txt','w+')"
      ],
      "execution_count": 57,
      "outputs": []
    },
    {
      "cell_type": "code",
      "metadata": {
        "id": "51gSiFNDhx1s"
      },
      "source": [
        "# creer une liste de chaines de caractéres \n",
        "lines = ['Line 1','Line 2','Line 3','Line 4']\n",
        "my_file.writelines(lines)"
      ],
      "execution_count": 58,
      "outputs": []
    },
    {
      "cell_type": "code",
      "metadata": {
        "id": "3ZwdGrArhx10",
        "outputId": "14e04c43-0152-4bec-c6d4-1d3bb56fdb7f",
        "colab": {
          "base_uri": "https://localhost:8080/"
        }
      },
      "source": [
        "# Placer le pointeur à la position initiale\n",
        "my_file.seek(0)\n",
        "# lire les données\n",
        "print(my_file.read())\n",
        "my_file.close()"
      ],
      "execution_count": 59,
      "outputs": [
        {
          "output_type": "stream",
          "name": "stdout",
          "text": [
            "Line 1Line 2Line 3Line 4\n"
          ]
        }
      ]
    },
    {
      "cell_type": "markdown",
      "metadata": {
        "id": "t8_vbKFOhx19"
      },
      "source": [
        "*** Le contenu est écrasé lorsque nous avons essayé d'écrire à nouveau sur le même fichier***\n",
        "\n",
        "---\n",
        "\n",
        "####  `AJOUT D'UN TEXTE DANS UN FICHIER`"
      ]
    },
    {
      "cell_type": "code",
      "metadata": {
        "id": "aOlqrSXdhx2A",
        "colab": {
          "base_uri": "https://localhost:8080/",
          "height": 36
        },
        "outputId": "89a267ba-9c59-4d09-bedc-dff2f981125e"
      },
      "source": [
        "# ouvrir le fichier en mode lecture et ecriture.\n",
        "my_file = open('dataset/new_file.txt','a+')\n",
        "\n",
        "my_file.write('Bienvenu au cours de python')\n",
        "# Placer le pointeur à la position initiale\n",
        "my_file.seek(0)\n",
        "\n",
        "# lire le fichier\n",
        "my_file.read()"
      ],
      "execution_count": 61,
      "outputs": [
        {
          "output_type": "execute_result",
          "data": {
            "text/plain": [
              "'Welcome to the python courseBienvenu au cours de python'"
            ],
            "application/vnd.google.colaboratory.intrinsic+json": {
              "type": "string"
            }
          },
          "metadata": {},
          "execution_count": 61
        }
      ]
    }
  ]
}