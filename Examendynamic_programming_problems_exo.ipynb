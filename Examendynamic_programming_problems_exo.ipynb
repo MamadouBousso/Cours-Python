{
  "cells": [
    {
      "cell_type": "markdown",
      "metadata": {
        "id": "view-in-github",
        "colab_type": "text"
      },
      "source": [
        "<a href=\"https://colab.research.google.com/github/MamadouBousso/Cours-Python/blob/main/Examendynamic_programming_problems_exo.ipynb\" target=\"_parent\"><img src=\"https://colab.research.google.com/assets/colab-badge.svg\" alt=\"Open In Colab\"/></a>"
      ]
    },
    {
      "cell_type": "markdown",
      "source": [
        "# Examen ALgorithmique et complexité\n",
        "Vous completerez certaines cellules de code par les solutions que vous proposerez. \n",
        "Pour chaque probléme, vous proposerez une batterie de test que votres algorithme devra passer.\n",
        "\n",
        "\n"
      ],
      "metadata": {
        "id": "LQ8QNfdiexrn"
      }
    },
    {
      "cell_type": "markdown",
      "source": [
        "### Rappel Programmation dynamique\n",
        "Objectifs d'apprentissage\n",
        "* Comprendre la stratégie de conception d'algorithmes de programmation dynamique\n",
        "* Comprendre les applications de la conception d'algorithmes de programmation dynamique\n",
        "* Comprendre la récupération de solution à partir de tables de mémo\n",
        "* Comprendre la mémorisation et comment construire des tables de mémo à partir de solutions récursives\n",
        "* Comprendre comment encadrer les définitions récursives pour la programmation dynamique"
      ],
      "metadata": {
        "id": "5294OIS83TtB"
      }
    },
    {
      "cell_type": "markdown",
      "source": [
        "### Exercice 1: Programmation dynamique, probléme de monnaie\n",
        "\n",
        "On nous donne une liste de dénominations possibles $lst : [c_1, \\ldots, c_k]$ et un montant $x$ pour lequel nous souhaitons rendre la monnaie.\n",
        "\n",
        "Choisissez des nombres de pièces $n_1, \\ldots, n_k$ de pièces de monnaie $c_1, \\ldots, c_k$, respectivement de sorte que\n",
        "   1. $n_1 c_1 + \\ldots + n_k c_k = x$, c'est-à-dire  nous fournissons la monnaie _exacte_\n",
        "   2. Le nombre de pièces $n_1 + \\ldots + n_k$ doit être minimisé."
      ],
      "metadata": {
        "id": "lGJ_ECHMHxPx"
      }
    },
    {
      "cell_type": "code",
      "source": [
        "## Creer une batterie  de 5 tests que votre algorithme devra passer"
      ],
      "metadata": {
        "id": "G17lQbqOiSFU"
      },
      "execution_count": null,
      "outputs": []
    },
    {
      "cell_type": "code",
      "source": [
        "%matplotlib inline\n",
        "import matplotlib.pyplot as plt\n",
        "import time\n",
        "lst0 = [1, 4, 7, 9, 16, 43]\n",
        "x0 = 33\n",
        "lst1 = [1, 5, 10]\n",
        "x1 = 50"
      ],
      "metadata": {
        "id": "gRYLPfU_JOJP"
      },
      "execution_count": null,
      "outputs": []
    },
    {
      "cell_type": "markdown",
      "source": [
        "#### 1. Identifier la sous-structure optimale\n",
        "\n",
        "Pour identifier la sous-structure optimale, nous _échelonnons_ nos décisions. La décision à prendre est de savoir quelles pièces fournir comme monnaie.\n",
        "Nous pouvons échelonner ces décisions comme suit :\n",
        "  1. Engagez-vous à fournir une pièce maintenant. Disons pièce $c_i$.\n",
        "  2. Il reste alors à rendre la monnaie de $x - c_i$ en utilisant le nombre minimum de pièces possible. En particulier, nous remarquons que le problème restant est une instance du problème original lui-même pour une plus petite quantité.\n",
        "  3. Une fois (2) résolu, nous pouvons ajouter la pièce $c_i$ de (1) à l'ensemble des pièces qui résolvent (2).\n",
        "  \n",
        "Par conséquent, nous procédons à la formulation d'une fonction récursive pour le nombre minimum de pièces.\n",
        "\n",
        "#### 2. Formuler une récurrence pour la valeur\n",
        "\n",
        "La récurrence $\\text{minPieces}(x)$ prend un montant à changer (elle a également un paramètre lst de la liste des pièces mais laissons-le de côté pour plus de lisibilité).\n",
        "\n",
        "La définition récursive est\n",
        "\n",
        "$$\\text{minPieces}(x) = \\ \\min\\ \\left\\{ \\begin{array}{ll}\n",
        "1 + \\text{minPieces}(x - c_1) & \\leftarrow\\ \\ \\text{utiliser piece}\\ c_1 \\\\\n",
        "\\vdots & \\\\\n",
        "1 + \\text{minPieces}(x - c_n) & \\leftarrow\\ \\ \\text{utiliser piece}\\ c_n \\\\\n",
        "\\end{array}\\right.$$\n",
        "\n",
        "Les cas de base sont\n",
        "\n",
        "  * $\\text{minPieces}(0) = 0$\n",
        "  * $\\text{minPieces}(x) = \\infty$ chaque fois que $x < 0$. __Q :__ Interprétez ce cas de base !"
      ],
      "metadata": {
        "id": "d3X0PAqQJQ-k"
      }
    },
    {
      "cell_type": "code",
      "source": [
        "import numpy as np\n",
        "def minPieces(x,lstPieces):\n",
        "  pass\n",
        "\n"
      ],
      "metadata": {
        "id": "srAVeOjdKXnA"
      },
      "execution_count": null,
      "outputs": []
    },
    {
      "cell_type": "markdown",
      "source": [
        "##### Mémorisation\n",
        "\n",
        "Vous avez déjà vu que la fonction récursive est d'un coût prohibitif. Si vous ajoutez une instruction `print(x)` à la première ligne du\n",
        "fonction, vous comprendrez pourquoi. Mais attention à la taille de la sortie !\n",
        "\n",
        "Pour résoudre ce problème, nous utilisons une table mémo $T$ avec des entrées $T[0], \\ldots, T[x]$ où $x$ est le montant d'origine pour lequel nous souhaitons rendre la monnaie.\n",
        "A chaque appel récursif, lorsque nous souhaitons connaître $\\text{minPieces}(x - c_i)$, il sera simplement lu dans la table au lieu d'être calculé\n",
        "nouveau à l'aide d'un appel récursif."
      ],
      "metadata": {
        "id": "3l2qk1HQOO2p"
      }
    },
    {
      "cell_type": "code",
      "source": [
        "def minPiecesMemo(x,lstPieces):\n",
        "  pass"
      ],
      "metadata": {
        "id": "k8Gg45MHOeVB"
      },
      "execution_count": null,
      "outputs": []
    },
    {
      "cell_type": "code",
      "source": [
        "# ATTENTION: Celle-là prend du temps\n",
        "print(minPiecesMemo(42, lst0))"
      ],
      "metadata": {
        "colab": {
          "base_uri": "https://localhost:8080/"
        },
        "id": "sC-UxtWUQp-c",
        "outputId": "b3d85b04-6695-457b-fded-061de3d0dcd7"
      },
      "execution_count": null,
      "outputs": [
        {
          "output_type": "stream",
          "name": "stdout",
          "text": [
            "[0, 1, 2, 3, 1, 2, 3, 1, 2, 1, 2, 2, 3, 2, 2, 3, 1, 2, 2, 3, 2, 3, 3, 2, 3, 2, 3, 3, 4, 3, 3, 4, 2, 3, 3, 4, 3, 4, 4, 3, 4, 3, 4]\n"
          ]
        }
      ]
    },
    {
      "cell_type": "markdown",
      "source": [
        "#### Récupération de solutions\n",
        "\n",
        "Nous avons calculé le nombre de pièces nécessaires, mais comment calculons-nous les pièces elles-mêmes ?\n",
        "\n",
        "Nous augmentons le tableau des mémos non seulement pour enregistrer la valeur minimale, mais également quelle pièce nous a donné la valeur minimale.\n",
        "\n",
        "Pour ce faire, nous créons une nouvelle table $S[0], ... , S[x]$.\n",
        "\n",
        "Une fois que nous avons cela, la récupération de l'ensemble de pièces implique encore une autre boucle."
      ],
      "metadata": {
        "id": "t5vyx1leWhNr"
      }
    },
    {
      "cell_type": "code",
      "source": [
        "def minPiecesMemo_sol(x,lstPieces):\n",
        "  pass"
      ],
      "metadata": {
        "id": "0hNJvqwcWqPo"
      },
      "execution_count": null,
      "outputs": []
    },
    {
      "cell_type": "code",
      "source": [
        "# ATTENTION: Celle-là prend du temps\n",
        "print(minPiecesMemo_sol(42, lst0))"
      ],
      "metadata": {
        "colab": {
          "base_uri": "https://localhost:8080/"
        },
        "id": "jNm9JFuPZ9sW",
        "outputId": "45921729-40b3-4787-ae89-6032f2f6e8de"
      },
      "execution_count": null,
      "outputs": [
        {
          "output_type": "stream",
          "name": "stdout",
          "text": [
            "(4, [1, 9, 16, 16])\n"
          ]
        }
      ]
    },
    {
      "cell_type": "markdown",
      "source": [
        "### Exercice 2: Recherche binaire illimitée\n",
        "Étant donné une fonction croissante monotone f(x) sur des entiers positifs, trouver la valeur de x où f(x)=0 (ou signaler qu'il n'en existe pas).\n",
        "\n",
        "**Input** : Une fonction monotone croissante f(x) sur des nombres entiers positifs (donnée sous la forme d'une boîte noire) qui prend à la fois des valeurs négatives et non négatives.\n",
        "\n",
        "**Sortie** : Valeur de x où f(x)=0 ou \"-1\" si cette valeur n'existe pas.\n",
        "\n",
        "Vous devez produire une batterie de 5 tests que votre algorithme doit passer.\n",
        "\n",
        "**Indication:** Une fonction f(x) est monotone croissante si f(x+1) > f(x) pour tout entier x. Comme les valeurs f(x) forment un tableau trié, ce problème est équivalent à une recherche binaire avec la clé égale à 0. Mais l'indice supérieur de ce tableau est inconnu ! Ne vous inquiétez pas — essayez d'augmenter exponentiellement les valeurs de x : 2,4,8,16,… jusqu'à ce que vous trouviez x avec f(x)≥0. Ensuite, utilisez la valeur trouvée x comme index supérieur (et x/2 comme index inférieur) dans la recherche binaire.\n",
        "![Capture d’écran 2022-04-25 à 11.47.04.png](data:image/png;base64,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)"
      ],
      "metadata": {
        "id": "2EAdkT0Hifi1"
      }
    },
    {
      "cell_type": "code",
      "source": [
        ""
      ],
      "metadata": {
        "id": "zrHHKRfyjn67"
      },
      "execution_count": null,
      "outputs": []
    },
    {
      "cell_type": "code",
      "source": [
        ""
      ],
      "metadata": {
        "id": "vR-ZJE7ljnue"
      },
      "execution_count": null,
      "outputs": []
    },
    {
      "cell_type": "markdown",
      "source": [
        "####**Exercice3: Séparer les entiers négatifs et positifs**\n",
        "Étant donné un tableau d'entiers distincts, génère un tableau contenant les mêmes entiers où tous les nombres négatifs apparaissent en premier (dans l'ordre d'origine), suivis de tous les nombres positifs (dans l'ordre d'origine).\n",
        "\n",
        "**Inputs:** un tableau d'entiers positifs et négatifs distincts.\n",
        "\n",
        "**Outputs:** un tableau contenant les mêmes nombres entiers où tous les nombres négatifs apparaissent en premier (dans l'ordre d'origine), suivis de tous les nombres positifs (dans l'ordre d'origine)\n",
        "\n",
        "Vous proposerez un algorithme naif et un algo efficient basé sur le divide and conquer. Vous calculerez les complexités des deux algo.\n",
        "Vous devez aussi produire une batterie de tests.\n",
        "\n",
        "**Exemple:**\n",
        "\n",
        "\n",
        "Inputs: (3,−5,8,1,−4,−2,9,−7)\n",
        "\n",
        "\n",
        "Output: (−5,−4,−2,−7,3,8,1,9) .\n",
        "\n"
      ],
      "metadata": {
        "id": "JMrpHy0jjlwL"
      }
    },
    {
      "cell_type": "code",
      "source": [
        ""
      ],
      "metadata": {
        "id": "kUQBlTQrlKk0"
      },
      "execution_count": null,
      "outputs": []
    }
  ],
  "metadata": {
    "kernelspec": {
      "display_name": "Python 3",
      "language": "python",
      "name": "python3"
    },
    "language_info": {
      "codemirror_mode": {
        "name": "ipython",
        "version": 3
      },
      "file_extension": ".py",
      "mimetype": "text/x-python",
      "name": "python",
      "nbconvert_exporter": "python",
      "pygments_lexer": "ipython3",
      "version": "3.6.12"
    },
    "colab": {
      "name": "Examendynamic-programming-problems_exo.ipynb",
      "provenance": [],
      "collapsed_sections": [],
      "include_colab_link": true
    }
  },
  "nbformat": 4,
  "nbformat_minor": 0
}