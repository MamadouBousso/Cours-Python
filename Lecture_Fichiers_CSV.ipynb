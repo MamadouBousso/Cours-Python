{
  "cells": [
    {
      "cell_type": "markdown",
      "metadata": {
        "id": "view-in-github",
        "colab_type": "text"
      },
      "source": [
        "<a href=\"https://colab.research.google.com/github/MamadouBousso/Cours-Python/blob/main/Lecture_Fichiers_CSV.ipynb\" target=\"_parent\"><img src=\"https://colab.research.google.com/assets/colab-badge.svg\" alt=\"Open In Colab\"/></a>"
      ]
    },
    {
      "cell_type": "markdown",
      "metadata": {
        "id": "pDaaDKTCHaun"
      },
      "source": [
        "---\n",
        "---\n",
        "<center><h1> FICHIERS CSV</h1></center>\n",
        "\n",
        "---\n",
        "\n",
        "*** Dans ce notebook, nous verrons comment lire les fichiers \"CSV\" et comment resoudre les différents défis auxquels nous sommes confrontés lors de leurs lectures.***\n",
        "\n",
        "---\n",
        "\n",
        "\n",
        "- ***`Pandas` est l'une des bibliothèques les plus utilisées pour lire des ensembles de données. Dans ce cours, nous allons l'utiliser.***\n",
        "-  Lire encore plus sur Pandas: ***https://pandas.pydata.org/pandas-docs/stable/index.html***\n",
        "\n",
        "--- \n",
        "\n",
        "***Installer pandas avec les commandes ci-dessous:*** \n",
        "\n",
        "En utilisant anaconda avec python3: ***`!pip install pandas`***\n",
        "\n",
        "En utilisant jupyter avec python3: ***`!pip3 install pandas`***\n",
        "\n",
        "---\n",
        "\n",
        "### `Table des matiéres`\n",
        "\n",
        "- ***Lecture de fichiers  CSV ***\n",
        "- ***Challenges avec la lecture de fichier CSV.***\n",
        "     - Lire les données sauf les premières lignes du fichier.\n",
        "     - Lire les fichiers présents dans plusieurs répertoires.\n",
        "     - Vérifier, délimiter et lire le fichier.\n",
        "     - Si le jeu de données est volumineux, nous  pouvons lire  quelques lignes.\n",
        "     - Si le jeu de données a un grand nombre de colonnes, lire uniquement des colonnes spécifiques\n",
        "    \n",
        "    \n",
        "    \n",
        "   \n",
        "    \n",
        "\n",
        "---\n",
        "\n",
        "#### `LECTURE DE FICHIERS CSV`\n",
        "\n",
        "---"
      ]
    },
    {
      "cell_type": "code",
      "execution_count": 7,
      "metadata": {
        "id": "U1Wde5ISHaur"
      },
      "outputs": [],
      "source": [
        "# importer sys pour gérer les chemins des fichiers et modules\n",
        "import sys\n",
        "# importer la librairie pandas\n",
        "import pandas as pd"
      ]
    },
    {
      "cell_type": "code",
      "execution_count": 3,
      "metadata": {
        "id": "5wKJp5BNHauz",
        "outputId": "1e0696ec-5cd4-42b7-83ea-13f344db2fbd",
        "colab": {
          "base_uri": "https://localhost:8080/",
          "height": 36
        }
      },
      "outputs": [
        {
          "output_type": "execute_result",
          "data": {
            "text/plain": [
              "'1.3.5'"
            ],
            "application/vnd.google.colaboratory.intrinsic+json": {
              "type": "string"
            }
          },
          "metadata": {},
          "execution_count": 3
        }
      ],
      "source": [
        "# Verifier la version utilisée\n",
        "pd.__version__"
      ]
    },
    {
      "cell_type": "markdown",
      "metadata": {
        "id": "XCdDC4rZHau6"
      },
      "source": [
        "---\n",
        "\n",
        "***Lire le fichier `CSV` ***\n",
        "\n",
        "**`Dataset utilisé:`**  L'ensemble de données que nous allons utiliser représente des données de vente. Il a été collecté par les data scientist de BigMart pour 1559 produits dans 10 magasins de villes différentes. Il contient des informations comme `Item Identifier`, `Outlet Size`, `Item MRP`, `Outlet Location Type`, `Item Outlet Sales` etc.\n",
        "\n",
        "---\n",
        "\n",
        "Ils sont dans le repertoire **`datasets`** sous le nom de **`big_mart_sales.csv`** de mon drive.\n",
        "\n",
        "---"
      ]
    },
    {
      "cell_type": "code",
      "source": [
        "# Je monte mon drive\n",
        "from google.colab import drive\n",
        "drive.mount('/content/drive')"
      ],
      "metadata": {
        "colab": {
          "base_uri": "https://localhost:8080/"
        },
        "id": "3Y7sZGh7iWBz",
        "outputId": "d08d4843-bf3e-417c-8baa-c2b451de7dbd"
      },
      "execution_count": 5,
      "outputs": [
        {
          "output_type": "stream",
          "name": "stdout",
          "text": [
            "Mounted at /content/drive\n"
          ]
        }
      ]
    },
    {
      "cell_type": "markdown",
      "source": [
        "* **Dans ce cas on peut copier le chemin et lire le fichier en utilisant le chemin**\n",
        "* **On aussi au cas où on n'utilise pas le drive creer le repertoire datasets dans content et mettre les fichiers csv dedans**"
      ],
      "metadata": {
        "id": "nI02f_swi6uf"
      }
    },
    {
      "cell_type": "code",
      "source": [
        "dataset_path = '/content/drive/MyDrive/Colab Notebooks/IntroMLAMAS2022/reading_csv/datasets/'\n",
        "sys.path.append(dataset_path)"
      ],
      "metadata": {
        "id": "DcNRPDKzjd-U"
      },
      "execution_count": 9,
      "outputs": []
    },
    {
      "cell_type": "code",
      "execution_count": 10,
      "metadata": {
        "id": "-p_z81gKHau8"
      },
      "outputs": [],
      "source": [
        "# lire le dataset\n",
        "data = pd.read_csv(dataset_path +'big_mart_sales.csv')"
      ]
    },
    {
      "cell_type": "code",
      "execution_count": 11,
      "metadata": {
        "id": "4_R6C5NVHavB",
        "outputId": "10079e01-8a4a-4d72-8138-077f822823d2",
        "colab": {
          "base_uri": "https://localhost:8080/"
        }
      },
      "outputs": [
        {
          "output_type": "execute_result",
          "data": {
            "text/plain": [
              "pandas.core.frame.DataFrame"
            ]
          },
          "metadata": {},
          "execution_count": 11
        }
      ],
      "source": [
        "type(data)"
      ]
    },
    {
      "cell_type": "markdown",
      "metadata": {
        "id": "qFVdEttcHavG"
      },
      "source": [
        "---\n",
        "\n",
        "***Les données sont stockées dans une structure de  type `DataFrame`***\n",
        "\n",
        "***`DATAFRAME`***\n",
        "\n",
        "\n",
        "- Un DataFrame est une structure de données bidimensionnelle avec des colonnes pouvant contenir différents types de données.\n",
        "- Similaire à une feuille de calcul ou à une table SQL.\n",
        "- C'est généralement l'objet pandas le plus utilisé."
      ]
    },
    {
      "cell_type": "code",
      "execution_count": 12,
      "metadata": {
        "id": "_Y_K4zZTHavI",
        "outputId": "52149be1-80ed-41a5-b618-6532f1cbc586",
        "scrolled": true,
        "colab": {
          "base_uri": "https://localhost:8080/",
          "height": 357
        }
      },
      "outputs": [
        {
          "output_type": "execute_result",
          "data": {
            "text/plain": [
              "  Item_Identifier  Item_Weight Item_Fat_Content  Item_Visibility  \\\n",
              "0           FDA15         9.30          Low Fat         0.016047   \n",
              "1           DRC01         5.92          Regular         0.019278   \n",
              "2           FDN15        17.50          Low Fat         0.016760   \n",
              "3           FDX07        19.20          Regular         0.000000   \n",
              "4           NCD19         8.93          Low Fat         0.000000   \n",
              "\n",
              "               Item_Type  Item_MRP Outlet_Identifier  \\\n",
              "0                  Dairy  249.8092            OUT049   \n",
              "1            Soft Drinks   48.2692            OUT018   \n",
              "2                   Meat  141.6180            OUT049   \n",
              "3  Fruits and Vegetables  182.0950            OUT010   \n",
              "4              Household   53.8614            OUT013   \n",
              "\n",
              "   Outlet_Establishment_Year Outlet_Size Outlet_Location_Type  \\\n",
              "0                       1999      Medium               Tier 1   \n",
              "1                       2009      Medium               Tier 3   \n",
              "2                       1999      Medium               Tier 1   \n",
              "3                       1998         NaN               Tier 3   \n",
              "4                       1987        High               Tier 3   \n",
              "\n",
              "         Outlet_Type  Item_Outlet_Sales  \n",
              "0  Supermarket Type1          3735.1380  \n",
              "1  Supermarket Type2           443.4228  \n",
              "2  Supermarket Type1          2097.2700  \n",
              "3      Grocery Store           732.3800  \n",
              "4  Supermarket Type1           994.7052  "
            ],
            "text/html": [
              "\n",
              "  <div id=\"df-a6808f1e-66c6-497f-8173-f3aa7a5fc6e2\">\n",
              "    <div class=\"colab-df-container\">\n",
              "      <div>\n",
              "<style scoped>\n",
              "    .dataframe tbody tr th:only-of-type {\n",
              "        vertical-align: middle;\n",
              "    }\n",
              "\n",
              "    .dataframe tbody tr th {\n",
              "        vertical-align: top;\n",
              "    }\n",
              "\n",
              "    .dataframe thead th {\n",
              "        text-align: right;\n",
              "    }\n",
              "</style>\n",
              "<table border=\"1\" class=\"dataframe\">\n",
              "  <thead>\n",
              "    <tr style=\"text-align: right;\">\n",
              "      <th></th>\n",
              "      <th>Item_Identifier</th>\n",
              "      <th>Item_Weight</th>\n",
              "      <th>Item_Fat_Content</th>\n",
              "      <th>Item_Visibility</th>\n",
              "      <th>Item_Type</th>\n",
              "      <th>Item_MRP</th>\n",
              "      <th>Outlet_Identifier</th>\n",
              "      <th>Outlet_Establishment_Year</th>\n",
              "      <th>Outlet_Size</th>\n",
              "      <th>Outlet_Location_Type</th>\n",
              "      <th>Outlet_Type</th>\n",
              "      <th>Item_Outlet_Sales</th>\n",
              "    </tr>\n",
              "  </thead>\n",
              "  <tbody>\n",
              "    <tr>\n",
              "      <th>0</th>\n",
              "      <td>FDA15</td>\n",
              "      <td>9.30</td>\n",
              "      <td>Low Fat</td>\n",
              "      <td>0.016047</td>\n",
              "      <td>Dairy</td>\n",
              "      <td>249.8092</td>\n",
              "      <td>OUT049</td>\n",
              "      <td>1999</td>\n",
              "      <td>Medium</td>\n",
              "      <td>Tier 1</td>\n",
              "      <td>Supermarket Type1</td>\n",
              "      <td>3735.1380</td>\n",
              "    </tr>\n",
              "    <tr>\n",
              "      <th>1</th>\n",
              "      <td>DRC01</td>\n",
              "      <td>5.92</td>\n",
              "      <td>Regular</td>\n",
              "      <td>0.019278</td>\n",
              "      <td>Soft Drinks</td>\n",
              "      <td>48.2692</td>\n",
              "      <td>OUT018</td>\n",
              "      <td>2009</td>\n",
              "      <td>Medium</td>\n",
              "      <td>Tier 3</td>\n",
              "      <td>Supermarket Type2</td>\n",
              "      <td>443.4228</td>\n",
              "    </tr>\n",
              "    <tr>\n",
              "      <th>2</th>\n",
              "      <td>FDN15</td>\n",
              "      <td>17.50</td>\n",
              "      <td>Low Fat</td>\n",
              "      <td>0.016760</td>\n",
              "      <td>Meat</td>\n",
              "      <td>141.6180</td>\n",
              "      <td>OUT049</td>\n",
              "      <td>1999</td>\n",
              "      <td>Medium</td>\n",
              "      <td>Tier 1</td>\n",
              "      <td>Supermarket Type1</td>\n",
              "      <td>2097.2700</td>\n",
              "    </tr>\n",
              "    <tr>\n",
              "      <th>3</th>\n",
              "      <td>FDX07</td>\n",
              "      <td>19.20</td>\n",
              "      <td>Regular</td>\n",
              "      <td>0.000000</td>\n",
              "      <td>Fruits and Vegetables</td>\n",
              "      <td>182.0950</td>\n",
              "      <td>OUT010</td>\n",
              "      <td>1998</td>\n",
              "      <td>NaN</td>\n",
              "      <td>Tier 3</td>\n",
              "      <td>Grocery Store</td>\n",
              "      <td>732.3800</td>\n",
              "    </tr>\n",
              "    <tr>\n",
              "      <th>4</th>\n",
              "      <td>NCD19</td>\n",
              "      <td>8.93</td>\n",
              "      <td>Low Fat</td>\n",
              "      <td>0.000000</td>\n",
              "      <td>Household</td>\n",
              "      <td>53.8614</td>\n",
              "      <td>OUT013</td>\n",
              "      <td>1987</td>\n",
              "      <td>High</td>\n",
              "      <td>Tier 3</td>\n",
              "      <td>Supermarket Type1</td>\n",
              "      <td>994.7052</td>\n",
              "    </tr>\n",
              "  </tbody>\n",
              "</table>\n",
              "</div>\n",
              "      <button class=\"colab-df-convert\" onclick=\"convertToInteractive('df-a6808f1e-66c6-497f-8173-f3aa7a5fc6e2')\"\n",
              "              title=\"Convert this dataframe to an interactive table.\"\n",
              "              style=\"display:none;\">\n",
              "        \n",
              "  <svg xmlns=\"http://www.w3.org/2000/svg\" height=\"24px\"viewBox=\"0 0 24 24\"\n",
              "       width=\"24px\">\n",
              "    <path d=\"M0 0h24v24H0V0z\" fill=\"none\"/>\n",
              "    <path d=\"M18.56 5.44l.94 2.06.94-2.06 2.06-.94-2.06-.94-.94-2.06-.94 2.06-2.06.94zm-11 1L8.5 8.5l.94-2.06 2.06-.94-2.06-.94L8.5 2.5l-.94 2.06-2.06.94zm10 10l.94 2.06.94-2.06 2.06-.94-2.06-.94-.94-2.06-.94 2.06-2.06.94z\"/><path d=\"M17.41 7.96l-1.37-1.37c-.4-.4-.92-.59-1.43-.59-.52 0-1.04.2-1.43.59L10.3 9.45l-7.72 7.72c-.78.78-.78 2.05 0 2.83L4 21.41c.39.39.9.59 1.41.59.51 0 1.02-.2 1.41-.59l7.78-7.78 2.81-2.81c.8-.78.8-2.07 0-2.86zM5.41 20L4 18.59l7.72-7.72 1.47 1.35L5.41 20z\"/>\n",
              "  </svg>\n",
              "      </button>\n",
              "      \n",
              "  <style>\n",
              "    .colab-df-container {\n",
              "      display:flex;\n",
              "      flex-wrap:wrap;\n",
              "      gap: 12px;\n",
              "    }\n",
              "\n",
              "    .colab-df-convert {\n",
              "      background-color: #E8F0FE;\n",
              "      border: none;\n",
              "      border-radius: 50%;\n",
              "      cursor: pointer;\n",
              "      display: none;\n",
              "      fill: #1967D2;\n",
              "      height: 32px;\n",
              "      padding: 0 0 0 0;\n",
              "      width: 32px;\n",
              "    }\n",
              "\n",
              "    .colab-df-convert:hover {\n",
              "      background-color: #E2EBFA;\n",
              "      box-shadow: 0px 1px 2px rgba(60, 64, 67, 0.3), 0px 1px 3px 1px rgba(60, 64, 67, 0.15);\n",
              "      fill: #174EA6;\n",
              "    }\n",
              "\n",
              "    [theme=dark] .colab-df-convert {\n",
              "      background-color: #3B4455;\n",
              "      fill: #D2E3FC;\n",
              "    }\n",
              "\n",
              "    [theme=dark] .colab-df-convert:hover {\n",
              "      background-color: #434B5C;\n",
              "      box-shadow: 0px 1px 3px 1px rgba(0, 0, 0, 0.15);\n",
              "      filter: drop-shadow(0px 1px 2px rgba(0, 0, 0, 0.3));\n",
              "      fill: #FFFFFF;\n",
              "    }\n",
              "  </style>\n",
              "\n",
              "      <script>\n",
              "        const buttonEl =\n",
              "          document.querySelector('#df-a6808f1e-66c6-497f-8173-f3aa7a5fc6e2 button.colab-df-convert');\n",
              "        buttonEl.style.display =\n",
              "          google.colab.kernel.accessAllowed ? 'block' : 'none';\n",
              "\n",
              "        async function convertToInteractive(key) {\n",
              "          const element = document.querySelector('#df-a6808f1e-66c6-497f-8173-f3aa7a5fc6e2');\n",
              "          const dataTable =\n",
              "            await google.colab.kernel.invokeFunction('convertToInteractive',\n",
              "                                                     [key], {});\n",
              "          if (!dataTable) return;\n",
              "\n",
              "          const docLinkHtml = 'Like what you see? Visit the ' +\n",
              "            '<a target=\"_blank\" href=https://colab.research.google.com/notebooks/data_table.ipynb>data table notebook</a>'\n",
              "            + ' to learn more about interactive tables.';\n",
              "          element.innerHTML = '';\n",
              "          dataTable['output_type'] = 'display_data';\n",
              "          await google.colab.output.renderOutput(dataTable, element);\n",
              "          const docLink = document.createElement('div');\n",
              "          docLink.innerHTML = docLinkHtml;\n",
              "          element.appendChild(docLink);\n",
              "        }\n",
              "      </script>\n",
              "    </div>\n",
              "  </div>\n",
              "  "
            ]
          },
          "metadata": {},
          "execution_count": 12
        }
      ],
      "source": [
        "# Pour visualiser les données on peut utiliser les commandes \"head\" ou \"tail\"\n",
        "# head(n = \"le nombre de lignes que vous voulez visualiser à partir du top\")\n",
        "# tail(n = \"le nombre de lignes que vous voulez visualiser à partir du bas\")\n",
        "\n",
        "data.head()\n",
        "# Permet de visualiser 5 lignes"
      ]
    },
    {
      "cell_type": "markdown",
      "metadata": {
        "id": "R3_OPIQ5HavP"
      },
      "source": [
        "---\n",
        "\n",
        "***Après avoir lu le jeu de données, la première chose que nous vérifions est la taille du jeu de données. Pour obtenir le nombre de lignes et de colonnes présentes dans l'ensemble de données, nous avons l'attribut `shape`.***\n",
        "\n",
        "---"
      ]
    },
    {
      "cell_type": "code",
      "execution_count": 13,
      "metadata": {
        "id": "NReb7SBNHavQ",
        "outputId": "9a4120c3-349c-4a22-fb75-b2cd37d4e11f",
        "colab": {
          "base_uri": "https://localhost:8080/"
        }
      },
      "outputs": [
        {
          "output_type": "execute_result",
          "data": {
            "text/plain": [
              "(8523, 12)"
            ]
          },
          "metadata": {},
          "execution_count": 13
        }
      ],
      "source": [
        "# Nous utilisons shape pour avoir les dimensions du jeu de données\n",
        "data.shape"
      ]
    },
    {
      "cell_type": "markdown",
      "metadata": {
        "id": "BZLLv2k3HavW"
      },
      "source": [
        "---\n",
        "\n",
        "\n",
        "#### `CHALLENGES AVEC LA LECTURE DE FICHIER CSV`\n",
        "\n",
        "    - Lire les données sauf les premières lignes du fichier.\n",
        "    - Lire les fichiers présents dans plusieurs répertoires.\n",
        "    - Vérifier, délimiter et lire le fichier.\n",
        "    - Si le jeu de données est volumineux, nous  pouvons lire JUSTE quelques lignes.\n",
        "    - Si le jeu de données a un grand nombre de colonnes, lire uniquement des colonnes spécifiques.\n",
        "    \n",
        "\n",
        "\n",
        "---"
      ]
    },
    {
      "cell_type": "markdown",
      "metadata": {
        "id": "QLz8sm58HavX"
      },
      "source": [
        "---\n",
        "\n",
        "***Lire les données à l'exception de quelques lignes au top du fichier.***\n",
        "\n",
        "- You may get an error while reading a CSV file because someone may have added few comments on the top of the file. In pandas we can still read the data set by skipping few rows from the top. \n",
        "\n",
        "- Vous pouvez obtenir une erreur lors de la lecture d'un fichier CSV car quelqu'un a peut-être ajouté quelques commentaires en haut du fichier. Avec pandas, nous pouvons toujours lire l'ensemble de données en sautant quelques lignes à partir du haut.\n",
        "\n",
        "\n",
        "---\n",
        "\n",
        "***Prenons l'exemple du `big_mart_sales_top_rows_error.csv` present dans le repertoire datasets.***\n",
        "\n",
        "--- "
      ]
    },
    {
      "cell_type": "code",
      "execution_count": 14,
      "metadata": {
        "id": "htVWatNvHavZ",
        "outputId": "9ed42611-1bc4-466e-e88a-96751437e224",
        "colab": {
          "base_uri": "https://localhost:8080/",
          "height": 245
        }
      },
      "outputs": [
        {
          "output_type": "error",
          "ename": "ParserError",
          "evalue": "ignored",
          "traceback": [
            "\u001b[0;31m---------------------------------------------------------------------------\u001b[0m",
            "\u001b[0;31mParserError\u001b[0m                               Traceback (most recent call last)",
            "\u001b[0;32m<ipython-input-14-c5d249e3f9a9>\u001b[0m in \u001b[0;36m<module>\u001b[0;34m()\u001b[0m\n\u001b[0;32m----> 1\u001b[0;31m \u001b[0mdata_with_comments\u001b[0m \u001b[0;34m=\u001b[0m \u001b[0mpd\u001b[0m\u001b[0;34m.\u001b[0m\u001b[0mread_csv\u001b[0m\u001b[0;34m(\u001b[0m\u001b[0mdataset_path\u001b[0m\u001b[0;34m+\u001b[0m\u001b[0;34m'/big_mart_sales_top_row_error.csv'\u001b[0m\u001b[0;34m)\u001b[0m\u001b[0;34m\u001b[0m\u001b[0;34m\u001b[0m\u001b[0m\n\u001b[0m",
            "\u001b[0;32m/usr/local/lib/python3.7/dist-packages/pandas/util/_decorators.py\u001b[0m in \u001b[0;36mwrapper\u001b[0;34m(*args, **kwargs)\u001b[0m\n\u001b[1;32m    309\u001b[0m                     \u001b[0mstacklevel\u001b[0m\u001b[0;34m=\u001b[0m\u001b[0mstacklevel\u001b[0m\u001b[0;34m,\u001b[0m\u001b[0;34m\u001b[0m\u001b[0;34m\u001b[0m\u001b[0m\n\u001b[1;32m    310\u001b[0m                 )\n\u001b[0;32m--> 311\u001b[0;31m             \u001b[0;32mreturn\u001b[0m \u001b[0mfunc\u001b[0m\u001b[0;34m(\u001b[0m\u001b[0;34m*\u001b[0m\u001b[0margs\u001b[0m\u001b[0;34m,\u001b[0m \u001b[0;34m**\u001b[0m\u001b[0mkwargs\u001b[0m\u001b[0;34m)\u001b[0m\u001b[0;34m\u001b[0m\u001b[0;34m\u001b[0m\u001b[0m\n\u001b[0m\u001b[1;32m    312\u001b[0m \u001b[0;34m\u001b[0m\u001b[0m\n\u001b[1;32m    313\u001b[0m         \u001b[0;32mreturn\u001b[0m \u001b[0mwrapper\u001b[0m\u001b[0;34m\u001b[0m\u001b[0;34m\u001b[0m\u001b[0m\n",
            "\u001b[0;32m/usr/local/lib/python3.7/dist-packages/pandas/io/parsers/readers.py\u001b[0m in \u001b[0;36mread_csv\u001b[0;34m(filepath_or_buffer, sep, delimiter, header, names, index_col, usecols, squeeze, prefix, mangle_dupe_cols, dtype, engine, converters, true_values, false_values, skipinitialspace, skiprows, skipfooter, nrows, na_values, keep_default_na, na_filter, verbose, skip_blank_lines, parse_dates, infer_datetime_format, keep_date_col, date_parser, dayfirst, cache_dates, iterator, chunksize, compression, thousands, decimal, lineterminator, quotechar, quoting, doublequote, escapechar, comment, encoding, encoding_errors, dialect, error_bad_lines, warn_bad_lines, on_bad_lines, delim_whitespace, low_memory, memory_map, float_precision, storage_options)\u001b[0m\n\u001b[1;32m    584\u001b[0m     \u001b[0mkwds\u001b[0m\u001b[0;34m.\u001b[0m\u001b[0mupdate\u001b[0m\u001b[0;34m(\u001b[0m\u001b[0mkwds_defaults\u001b[0m\u001b[0;34m)\u001b[0m\u001b[0;34m\u001b[0m\u001b[0;34m\u001b[0m\u001b[0m\n\u001b[1;32m    585\u001b[0m \u001b[0;34m\u001b[0m\u001b[0m\n\u001b[0;32m--> 586\u001b[0;31m     \u001b[0;32mreturn\u001b[0m \u001b[0m_read\u001b[0m\u001b[0;34m(\u001b[0m\u001b[0mfilepath_or_buffer\u001b[0m\u001b[0;34m,\u001b[0m \u001b[0mkwds\u001b[0m\u001b[0;34m)\u001b[0m\u001b[0;34m\u001b[0m\u001b[0;34m\u001b[0m\u001b[0m\n\u001b[0m\u001b[1;32m    587\u001b[0m \u001b[0;34m\u001b[0m\u001b[0m\n\u001b[1;32m    588\u001b[0m \u001b[0;34m\u001b[0m\u001b[0m\n",
            "\u001b[0;32m/usr/local/lib/python3.7/dist-packages/pandas/io/parsers/readers.py\u001b[0m in \u001b[0;36m_read\u001b[0;34m(filepath_or_buffer, kwds)\u001b[0m\n\u001b[1;32m    486\u001b[0m \u001b[0;34m\u001b[0m\u001b[0m\n\u001b[1;32m    487\u001b[0m     \u001b[0;32mwith\u001b[0m \u001b[0mparser\u001b[0m\u001b[0;34m:\u001b[0m\u001b[0;34m\u001b[0m\u001b[0;34m\u001b[0m\u001b[0m\n\u001b[0;32m--> 488\u001b[0;31m         \u001b[0;32mreturn\u001b[0m \u001b[0mparser\u001b[0m\u001b[0;34m.\u001b[0m\u001b[0mread\u001b[0m\u001b[0;34m(\u001b[0m\u001b[0mnrows\u001b[0m\u001b[0;34m)\u001b[0m\u001b[0;34m\u001b[0m\u001b[0;34m\u001b[0m\u001b[0m\n\u001b[0m\u001b[1;32m    489\u001b[0m \u001b[0;34m\u001b[0m\u001b[0m\n\u001b[1;32m    490\u001b[0m \u001b[0;34m\u001b[0m\u001b[0m\n",
            "\u001b[0;32m/usr/local/lib/python3.7/dist-packages/pandas/io/parsers/readers.py\u001b[0m in \u001b[0;36mread\u001b[0;34m(self, nrows)\u001b[0m\n\u001b[1;32m   1045\u001b[0m     \u001b[0;32mdef\u001b[0m \u001b[0mread\u001b[0m\u001b[0;34m(\u001b[0m\u001b[0mself\u001b[0m\u001b[0;34m,\u001b[0m \u001b[0mnrows\u001b[0m\u001b[0;34m=\u001b[0m\u001b[0;32mNone\u001b[0m\u001b[0;34m)\u001b[0m\u001b[0;34m:\u001b[0m\u001b[0;34m\u001b[0m\u001b[0;34m\u001b[0m\u001b[0m\n\u001b[1;32m   1046\u001b[0m         \u001b[0mnrows\u001b[0m \u001b[0;34m=\u001b[0m \u001b[0mvalidate_integer\u001b[0m\u001b[0;34m(\u001b[0m\u001b[0;34m\"nrows\"\u001b[0m\u001b[0;34m,\u001b[0m \u001b[0mnrows\u001b[0m\u001b[0;34m)\u001b[0m\u001b[0;34m\u001b[0m\u001b[0;34m\u001b[0m\u001b[0m\n\u001b[0;32m-> 1047\u001b[0;31m         \u001b[0mindex\u001b[0m\u001b[0;34m,\u001b[0m \u001b[0mcolumns\u001b[0m\u001b[0;34m,\u001b[0m \u001b[0mcol_dict\u001b[0m \u001b[0;34m=\u001b[0m \u001b[0mself\u001b[0m\u001b[0;34m.\u001b[0m\u001b[0m_engine\u001b[0m\u001b[0;34m.\u001b[0m\u001b[0mread\u001b[0m\u001b[0;34m(\u001b[0m\u001b[0mnrows\u001b[0m\u001b[0;34m)\u001b[0m\u001b[0;34m\u001b[0m\u001b[0;34m\u001b[0m\u001b[0m\n\u001b[0m\u001b[1;32m   1048\u001b[0m \u001b[0;34m\u001b[0m\u001b[0m\n\u001b[1;32m   1049\u001b[0m         \u001b[0;32mif\u001b[0m \u001b[0mindex\u001b[0m \u001b[0;32mis\u001b[0m \u001b[0;32mNone\u001b[0m\u001b[0;34m:\u001b[0m\u001b[0;34m\u001b[0m\u001b[0;34m\u001b[0m\u001b[0m\n",
            "\u001b[0;32m/usr/local/lib/python3.7/dist-packages/pandas/io/parsers/c_parser_wrapper.py\u001b[0m in \u001b[0;36mread\u001b[0;34m(self, nrows)\u001b[0m\n\u001b[1;32m    222\u001b[0m         \u001b[0;32mtry\u001b[0m\u001b[0;34m:\u001b[0m\u001b[0;34m\u001b[0m\u001b[0;34m\u001b[0m\u001b[0m\n\u001b[1;32m    223\u001b[0m             \u001b[0;32mif\u001b[0m \u001b[0mself\u001b[0m\u001b[0;34m.\u001b[0m\u001b[0mlow_memory\u001b[0m\u001b[0;34m:\u001b[0m\u001b[0;34m\u001b[0m\u001b[0;34m\u001b[0m\u001b[0m\n\u001b[0;32m--> 224\u001b[0;31m                 \u001b[0mchunks\u001b[0m \u001b[0;34m=\u001b[0m \u001b[0mself\u001b[0m\u001b[0;34m.\u001b[0m\u001b[0m_reader\u001b[0m\u001b[0;34m.\u001b[0m\u001b[0mread_low_memory\u001b[0m\u001b[0;34m(\u001b[0m\u001b[0mnrows\u001b[0m\u001b[0;34m)\u001b[0m\u001b[0;34m\u001b[0m\u001b[0;34m\u001b[0m\u001b[0m\n\u001b[0m\u001b[1;32m    225\u001b[0m                 \u001b[0;31m# destructive to chunks\u001b[0m\u001b[0;34m\u001b[0m\u001b[0;34m\u001b[0m\u001b[0;34m\u001b[0m\u001b[0m\n\u001b[1;32m    226\u001b[0m                 \u001b[0mdata\u001b[0m \u001b[0;34m=\u001b[0m \u001b[0m_concatenate_chunks\u001b[0m\u001b[0;34m(\u001b[0m\u001b[0mchunks\u001b[0m\u001b[0;34m)\u001b[0m\u001b[0;34m\u001b[0m\u001b[0;34m\u001b[0m\u001b[0m\n",
            "\u001b[0;32m/usr/local/lib/python3.7/dist-packages/pandas/_libs/parsers.pyx\u001b[0m in \u001b[0;36mpandas._libs.parsers.TextReader.read_low_memory\u001b[0;34m()\u001b[0m\n",
            "\u001b[0;32m/usr/local/lib/python3.7/dist-packages/pandas/_libs/parsers.pyx\u001b[0m in \u001b[0;36mpandas._libs.parsers.TextReader._read_rows\u001b[0;34m()\u001b[0m\n",
            "\u001b[0;32m/usr/local/lib/python3.7/dist-packages/pandas/_libs/parsers.pyx\u001b[0m in \u001b[0;36mpandas._libs.parsers.TextReader._tokenize_rows\u001b[0;34m()\u001b[0m\n",
            "\u001b[0;32m/usr/local/lib/python3.7/dist-packages/pandas/_libs/parsers.pyx\u001b[0m in \u001b[0;36mpandas._libs.parsers.raise_parser_error\u001b[0;34m()\u001b[0m\n",
            "\u001b[0;31mParserError\u001b[0m: Error tokenizing data. C error: Expected 1 fields in line 4, saw 2\n"
          ]
        }
      ],
      "source": [
        "data_with_comments = pd.read_csv(dataset_path+'/big_mart_sales_top_row_error.csv')"
      ]
    },
    {
      "cell_type": "markdown",
      "metadata": {
        "id": "DRZ3jmgkHave"
      },
      "source": [
        "**texte en gras**---\n",
        "\n",
        "\n",
        "- Pour gérer **l'erreur**, ouvrez le fichier csv dans l'éditeur de texte et vérifiez si vous avez des commentaires en haut.\n",
        "- Si oui, alors comptez le nombre de lignes à sauter.\n",
        "- En lisant le fichier, passer le nombre de lignes à sauter au parametre ***`skiprows = n (nombre de lignes à sauter)`***\n",
        "\n",
        "---"
      ]
    },
    {
      "cell_type": "code",
      "execution_count": 16,
      "metadata": {
        "id": "g3bVKZI1Havg"
      },
      "outputs": [],
      "source": [
        "# lire l'ensemble de données en sautant les 5 premiéres lignes\n",
        "data_with_comments = pd.read_csv(dataset_path+'big_mart_sales_top_row_error.csv', skiprows= 5)"
      ]
    },
    {
      "cell_type": "code",
      "execution_count": 17,
      "metadata": {
        "id": "a3Y9PYhEHavo",
        "outputId": "4db3b332-7ac3-4810-bfe2-d6e243a3422d",
        "colab": {
          "base_uri": "https://localhost:8080/",
          "height": 357
        }
      },
      "outputs": [
        {
          "output_type": "execute_result",
          "data": {
            "text/plain": [
              "  Item_Identifier  Item_Weight Item_Fat_Content  Item_Visibility  \\\n",
              "0           FDA15         9.30          Low Fat         0.016047   \n",
              "1           DRC01         5.92          Regular         0.019278   \n",
              "2           FDN15        17.50          Low Fat         0.016760   \n",
              "3           FDX07        19.20          Regular         0.000000   \n",
              "4           NCD19         8.93          Low Fat         0.000000   \n",
              "\n",
              "               Item_Type  Item_MRP Outlet_Identifier  \\\n",
              "0                  Dairy  249.8092            OUT049   \n",
              "1            Soft Drinks   48.2692            OUT018   \n",
              "2                   Meat  141.6180            OUT049   \n",
              "3  Fruits and Vegetables  182.0950            OUT010   \n",
              "4              Household   53.8614            OUT013   \n",
              "\n",
              "   Outlet_Establishment_Year Outlet_Size Outlet_Location_Type  \\\n",
              "0                       1999      Medium               Tier 1   \n",
              "1                       2009      Medium               Tier 3   \n",
              "2                       1999      Medium               Tier 1   \n",
              "3                       1998         NaN               Tier 3   \n",
              "4                       1987        High               Tier 3   \n",
              "\n",
              "         Outlet_Type  Item_Outlet_Sales  \n",
              "0  Supermarket Type1          3735.1380  \n",
              "1  Supermarket Type2           443.4228  \n",
              "2  Supermarket Type1          2097.2700  \n",
              "3      Grocery Store           732.3800  \n",
              "4  Supermarket Type1           994.7052  "
            ],
            "text/html": [
              "\n",
              "  <div id=\"df-8f9c319e-bf29-46d6-ae08-fb8cc007eab3\">\n",
              "    <div class=\"colab-df-container\">\n",
              "      <div>\n",
              "<style scoped>\n",
              "    .dataframe tbody tr th:only-of-type {\n",
              "        vertical-align: middle;\n",
              "    }\n",
              "\n",
              "    .dataframe tbody tr th {\n",
              "        vertical-align: top;\n",
              "    }\n",
              "\n",
              "    .dataframe thead th {\n",
              "        text-align: right;\n",
              "    }\n",
              "</style>\n",
              "<table border=\"1\" class=\"dataframe\">\n",
              "  <thead>\n",
              "    <tr style=\"text-align: right;\">\n",
              "      <th></th>\n",
              "      <th>Item_Identifier</th>\n",
              "      <th>Item_Weight</th>\n",
              "      <th>Item_Fat_Content</th>\n",
              "      <th>Item_Visibility</th>\n",
              "      <th>Item_Type</th>\n",
              "      <th>Item_MRP</th>\n",
              "      <th>Outlet_Identifier</th>\n",
              "      <th>Outlet_Establishment_Year</th>\n",
              "      <th>Outlet_Size</th>\n",
              "      <th>Outlet_Location_Type</th>\n",
              "      <th>Outlet_Type</th>\n",
              "      <th>Item_Outlet_Sales</th>\n",
              "    </tr>\n",
              "  </thead>\n",
              "  <tbody>\n",
              "    <tr>\n",
              "      <th>0</th>\n",
              "      <td>FDA15</td>\n",
              "      <td>9.30</td>\n",
              "      <td>Low Fat</td>\n",
              "      <td>0.016047</td>\n",
              "      <td>Dairy</td>\n",
              "      <td>249.8092</td>\n",
              "      <td>OUT049</td>\n",
              "      <td>1999</td>\n",
              "      <td>Medium</td>\n",
              "      <td>Tier 1</td>\n",
              "      <td>Supermarket Type1</td>\n",
              "      <td>3735.1380</td>\n",
              "    </tr>\n",
              "    <tr>\n",
              "      <th>1</th>\n",
              "      <td>DRC01</td>\n",
              "      <td>5.92</td>\n",
              "      <td>Regular</td>\n",
              "      <td>0.019278</td>\n",
              "      <td>Soft Drinks</td>\n",
              "      <td>48.2692</td>\n",
              "      <td>OUT018</td>\n",
              "      <td>2009</td>\n",
              "      <td>Medium</td>\n",
              "      <td>Tier 3</td>\n",
              "      <td>Supermarket Type2</td>\n",
              "      <td>443.4228</td>\n",
              "    </tr>\n",
              "    <tr>\n",
              "      <th>2</th>\n",
              "      <td>FDN15</td>\n",
              "      <td>17.50</td>\n",
              "      <td>Low Fat</td>\n",
              "      <td>0.016760</td>\n",
              "      <td>Meat</td>\n",
              "      <td>141.6180</td>\n",
              "      <td>OUT049</td>\n",
              "      <td>1999</td>\n",
              "      <td>Medium</td>\n",
              "      <td>Tier 1</td>\n",
              "      <td>Supermarket Type1</td>\n",
              "      <td>2097.2700</td>\n",
              "    </tr>\n",
              "    <tr>\n",
              "      <th>3</th>\n",
              "      <td>FDX07</td>\n",
              "      <td>19.20</td>\n",
              "      <td>Regular</td>\n",
              "      <td>0.000000</td>\n",
              "      <td>Fruits and Vegetables</td>\n",
              "      <td>182.0950</td>\n",
              "      <td>OUT010</td>\n",
              "      <td>1998</td>\n",
              "      <td>NaN</td>\n",
              "      <td>Tier 3</td>\n",
              "      <td>Grocery Store</td>\n",
              "      <td>732.3800</td>\n",
              "    </tr>\n",
              "    <tr>\n",
              "      <th>4</th>\n",
              "      <td>NCD19</td>\n",
              "      <td>8.93</td>\n",
              "      <td>Low Fat</td>\n",
              "      <td>0.000000</td>\n",
              "      <td>Household</td>\n",
              "      <td>53.8614</td>\n",
              "      <td>OUT013</td>\n",
              "      <td>1987</td>\n",
              "      <td>High</td>\n",
              "      <td>Tier 3</td>\n",
              "      <td>Supermarket Type1</td>\n",
              "      <td>994.7052</td>\n",
              "    </tr>\n",
              "  </tbody>\n",
              "</table>\n",
              "</div>\n",
              "      <button class=\"colab-df-convert\" onclick=\"convertToInteractive('df-8f9c319e-bf29-46d6-ae08-fb8cc007eab3')\"\n",
              "              title=\"Convert this dataframe to an interactive table.\"\n",
              "              style=\"display:none;\">\n",
              "        \n",
              "  <svg xmlns=\"http://www.w3.org/2000/svg\" height=\"24px\"viewBox=\"0 0 24 24\"\n",
              "       width=\"24px\">\n",
              "    <path d=\"M0 0h24v24H0V0z\" fill=\"none\"/>\n",
              "    <path d=\"M18.56 5.44l.94 2.06.94-2.06 2.06-.94-2.06-.94-.94-2.06-.94 2.06-2.06.94zm-11 1L8.5 8.5l.94-2.06 2.06-.94-2.06-.94L8.5 2.5l-.94 2.06-2.06.94zm10 10l.94 2.06.94-2.06 2.06-.94-2.06-.94-.94-2.06-.94 2.06-2.06.94z\"/><path d=\"M17.41 7.96l-1.37-1.37c-.4-.4-.92-.59-1.43-.59-.52 0-1.04.2-1.43.59L10.3 9.45l-7.72 7.72c-.78.78-.78 2.05 0 2.83L4 21.41c.39.39.9.59 1.41.59.51 0 1.02-.2 1.41-.59l7.78-7.78 2.81-2.81c.8-.78.8-2.07 0-2.86zM5.41 20L4 18.59l7.72-7.72 1.47 1.35L5.41 20z\"/>\n",
              "  </svg>\n",
              "      </button>\n",
              "      \n",
              "  <style>\n",
              "    .colab-df-container {\n",
              "      display:flex;\n",
              "      flex-wrap:wrap;\n",
              "      gap: 12px;\n",
              "    }\n",
              "\n",
              "    .colab-df-convert {\n",
              "      background-color: #E8F0FE;\n",
              "      border: none;\n",
              "      border-radius: 50%;\n",
              "      cursor: pointer;\n",
              "      display: none;\n",
              "      fill: #1967D2;\n",
              "      height: 32px;\n",
              "      padding: 0 0 0 0;\n",
              "      width: 32px;\n",
              "    }\n",
              "\n",
              "    .colab-df-convert:hover {\n",
              "      background-color: #E2EBFA;\n",
              "      box-shadow: 0px 1px 2px rgba(60, 64, 67, 0.3), 0px 1px 3px 1px rgba(60, 64, 67, 0.15);\n",
              "      fill: #174EA6;\n",
              "    }\n",
              "\n",
              "    [theme=dark] .colab-df-convert {\n",
              "      background-color: #3B4455;\n",
              "      fill: #D2E3FC;\n",
              "    }\n",
              "\n",
              "    [theme=dark] .colab-df-convert:hover {\n",
              "      background-color: #434B5C;\n",
              "      box-shadow: 0px 1px 3px 1px rgba(0, 0, 0, 0.15);\n",
              "      filter: drop-shadow(0px 1px 2px rgba(0, 0, 0, 0.3));\n",
              "      fill: #FFFFFF;\n",
              "    }\n",
              "  </style>\n",
              "\n",
              "      <script>\n",
              "        const buttonEl =\n",
              "          document.querySelector('#df-8f9c319e-bf29-46d6-ae08-fb8cc007eab3 button.colab-df-convert');\n",
              "        buttonEl.style.display =\n",
              "          google.colab.kernel.accessAllowed ? 'block' : 'none';\n",
              "\n",
              "        async function convertToInteractive(key) {\n",
              "          const element = document.querySelector('#df-8f9c319e-bf29-46d6-ae08-fb8cc007eab3');\n",
              "          const dataTable =\n",
              "            await google.colab.kernel.invokeFunction('convertToInteractive',\n",
              "                                                     [key], {});\n",
              "          if (!dataTable) return;\n",
              "\n",
              "          const docLinkHtml = 'Like what you see? Visit the ' +\n",
              "            '<a target=\"_blank\" href=https://colab.research.google.com/notebooks/data_table.ipynb>data table notebook</a>'\n",
              "            + ' to learn more about interactive tables.';\n",
              "          element.innerHTML = '';\n",
              "          dataTable['output_type'] = 'display_data';\n",
              "          await google.colab.output.renderOutput(dataTable, element);\n",
              "          const docLink = document.createElement('div');\n",
              "          docLink.innerHTML = docLinkHtml;\n",
              "          element.appendChild(docLink);\n",
              "        }\n",
              "      </script>\n",
              "    </div>\n",
              "  </div>\n",
              "  "
            ]
          },
          "metadata": {},
          "execution_count": 17
        }
      ],
      "source": [
        "# visualiser les données\n",
        "data_with_comments.head()"
      ]
    },
    {
      "cell_type": "markdown",
      "metadata": {
        "id": "4Cor9KaUHavs"
      },
      "source": [
        "---"
      ]
    },
    {
      "cell_type": "markdown",
      "metadata": {
        "id": "bs7fqmmCHavv"
      },
      "source": [
        "---\n",
        "\n",
        "#### `LIRE DES FICHIERS REPARTIS SUR PLUSIEURS REPERTOIRES`\n",
        "\n",
        "\n",
        "\n",
        "- Use the **`glob`** library to list the files in a directory\n",
        "\n",
        "\n",
        "- Dans le repertoire **multi-directory**, nous avons divisé le même ensemble de données \"par année\" en plusieurs fichiers et les avons stockés dans plusieurs répertoires.\n",
        "\n",
        "- On va utiliser la bibliothèque **`glob`** pour lister les fichiers dans un répertoire\n",
        "---"
      ]
    },
    {
      "cell_type": "code",
      "execution_count": 18,
      "metadata": {
        "id": "64TGWUaJHavw"
      },
      "outputs": [],
      "source": [
        "# importer la librairie\n",
        "import glob"
      ]
    },
    {
      "cell_type": "code",
      "execution_count": 21,
      "metadata": {
        "id": "Iy6P8RsKHav1",
        "outputId": "b3e48f44-7c55-4f01-caf5-73bbbea6695d",
        "colab": {
          "base_uri": "https://localhost:8080/"
        }
      },
      "outputs": [
        {
          "output_type": "stream",
          "name": "stdout",
          "text": [
            "/content/drive/MyDrive/Colab Notebooks/IntroMLAMAS2022/reading_csv/datasets//multi-directory/2007\n",
            "/content/drive/MyDrive/Colab Notebooks/IntroMLAMAS2022/reading_csv/datasets//multi-directory/1985\n",
            "/content/drive/MyDrive/Colab Notebooks/IntroMLAMAS2022/reading_csv/datasets//multi-directory/2009\n",
            "/content/drive/MyDrive/Colab Notebooks/IntroMLAMAS2022/reading_csv/datasets//multi-directory/1987\n",
            "/content/drive/MyDrive/Colab Notebooks/IntroMLAMAS2022/reading_csv/datasets//multi-directory/1997\n",
            "/content/drive/MyDrive/Colab Notebooks/IntroMLAMAS2022/reading_csv/datasets//multi-directory/1998\n",
            "/content/drive/MyDrive/Colab Notebooks/IntroMLAMAS2022/reading_csv/datasets//multi-directory/1999\n",
            "/content/drive/MyDrive/Colab Notebooks/IntroMLAMAS2022/reading_csv/datasets//multi-directory/2002\n",
            "/content/drive/MyDrive/Colab Notebooks/IntroMLAMAS2022/reading_csv/datasets//multi-directory/2004\n"
          ]
        }
      ],
      "source": [
        "# lister tous les sous-repertoires présents dans le repertoire\n",
        "for directory in glob.glob(dataset_path+'/multi-directory/*'):\n",
        "    print(directory)"
      ]
    },
    {
      "cell_type": "markdown",
      "metadata": {
        "id": "AsmCac8wHav6"
      },
      "source": [
        "---\n",
        "\n",
        "Tous les repertoires **`1985`**, **`1987`**, **`1997`**, **`1998`**, **`1999`**, **`2002`**, **`2004`**, **`2007`** and **`2009`** contiennent des fichiers CSV. Nous allons les parcourir et les concatener\n",
        "\n",
        "---"
      ]
    },
    {
      "cell_type": "code",
      "execution_count": 22,
      "metadata": {
        "id": "VKboYOLmHav7",
        "outputId": "75bbf15f-cae7-4770-b61e-4bc681965d55",
        "colab": {
          "base_uri": "https://localhost:8080/"
        }
      },
      "outputs": [
        {
          "output_type": "stream",
          "name": "stdout",
          "text": [
            "/content/drive/MyDrive/Colab Notebooks/IntroMLAMAS2022/reading_csv/datasets/multi-directory/2007/2007.csv\n",
            "/content/drive/MyDrive/Colab Notebooks/IntroMLAMAS2022/reading_csv/datasets/multi-directory/1985/1985.csv\n",
            "/content/drive/MyDrive/Colab Notebooks/IntroMLAMAS2022/reading_csv/datasets/multi-directory/2009/2009.csv\n",
            "/content/drive/MyDrive/Colab Notebooks/IntroMLAMAS2022/reading_csv/datasets/multi-directory/1987/1987.csv\n",
            "/content/drive/MyDrive/Colab Notebooks/IntroMLAMAS2022/reading_csv/datasets/multi-directory/1997/1997.csv\n",
            "/content/drive/MyDrive/Colab Notebooks/IntroMLAMAS2022/reading_csv/datasets/multi-directory/1998/1998.csv\n",
            "/content/drive/MyDrive/Colab Notebooks/IntroMLAMAS2022/reading_csv/datasets/multi-directory/1999/1999.csv\n",
            "/content/drive/MyDrive/Colab Notebooks/IntroMLAMAS2022/reading_csv/datasets/multi-directory/2002/2002.csv\n",
            "/content/drive/MyDrive/Colab Notebooks/IntroMLAMAS2022/reading_csv/datasets/multi-directory/2004/2004.csv\n"
          ]
        }
      ],
      "source": [
        "# Parcourir chaque repertoire et voir ses fichiers\n",
        "for directory in glob.glob(dataset_path+'multi-directory/*'):\n",
        "    \n",
        "    for files in glob.glob(directory + '/*'):\n",
        "        print(files)"
      ]
    },
    {
      "cell_type": "markdown",
      "metadata": {
        "id": "fjTzozjKHawE"
      },
      "source": [
        "---\n",
        "\n",
        "***Concatener les fichiers.***\n",
        "\n",
        "---"
      ]
    },
    {
      "cell_type": "code",
      "execution_count": 24,
      "metadata": {
        "id": "s1TNErvBHawG"
      },
      "outputs": [],
      "source": [
        "# Creer une liste de dataframe\n",
        "data_frame_list = []\n",
        "\n",
        "# parcourir chaque sous-repertoire\n",
        "for directory in glob.glob(dataset_path +'multi-directory/*'):\n",
        "    \n",
        "    # Parcourir chaque fichier csv,\n",
        "    for files in glob.glob(directory + '/*'):\n",
        "        # lire et ajouter le dataframe dans la liste\n",
        "        data_frame_list.append(pd.read_csv(files))"
      ]
    },
    {
      "cell_type": "code",
      "execution_count": 25,
      "metadata": {
        "id": "jKIXKyuWHawL"
      },
      "outputs": [],
      "source": [
        "# concatener les dataframes\n",
        "final_data = pd.concat(data_frame_list)"
      ]
    },
    {
      "cell_type": "code",
      "execution_count": 26,
      "metadata": {
        "id": "D7S0YrzxHawQ",
        "outputId": "88ff7d22-acc8-42cf-f505-ce4df794a1a2",
        "colab": {
          "base_uri": "https://localhost:8080/",
          "height": 374
        }
      },
      "outputs": [
        {
          "output_type": "execute_result",
          "data": {
            "text/plain": [
              "   Unnamed: 0 Item_Identifier  Item_Weight Item_Fat_Content  Item_Visibility  \\\n",
              "0           9           FDU28       19.200          Regular         0.094450   \n",
              "1          25           NCD06       13.000          Low Fat         0.099887   \n",
              "2          53           FDA43       10.895          Low Fat         0.065042   \n",
              "3          54           NCP18       12.150          Low Fat         0.028760   \n",
              "4          73           FDG02        7.855          Low Fat         0.011325   \n",
              "\n",
              "               Item_Type  Item_MRP Outlet_Identifier  \\\n",
              "0           Frozen Foods  187.8214            OUT017   \n",
              "1              Household   45.9060            OUT017   \n",
              "2  Fruits and Vegetables  196.3794            OUT017   \n",
              "3              Household  151.4708            OUT017   \n",
              "4                 Canned  189.6188            OUT017   \n",
              "\n",
              "   Outlet_Establishment_Year Outlet_Size Outlet_Location_Type  \\\n",
              "0                       2007         NaN               Tier 2   \n",
              "1                       2007         NaN               Tier 2   \n",
              "2                       2007         NaN               Tier 2   \n",
              "3                       2007         NaN               Tier 2   \n",
              "4                       2007         NaN               Tier 2   \n",
              "\n",
              "         Outlet_Type  Item_Outlet_Sales  \n",
              "0  Supermarket Type1          4710.5350  \n",
              "1  Supermarket Type1           838.9080  \n",
              "2  Supermarket Type1          3121.2704  \n",
              "3  Supermarket Type1          4815.0656  \n",
              "4  Supermarket Type1          2285.0256  "
            ],
            "text/html": [
              "\n",
              "  <div id=\"df-29f7de97-4b97-4410-b855-f8c5a9ede944\">\n",
              "    <div class=\"colab-df-container\">\n",
              "      <div>\n",
              "<style scoped>\n",
              "    .dataframe tbody tr th:only-of-type {\n",
              "        vertical-align: middle;\n",
              "    }\n",
              "\n",
              "    .dataframe tbody tr th {\n",
              "        vertical-align: top;\n",
              "    }\n",
              "\n",
              "    .dataframe thead th {\n",
              "        text-align: right;\n",
              "    }\n",
              "</style>\n",
              "<table border=\"1\" class=\"dataframe\">\n",
              "  <thead>\n",
              "    <tr style=\"text-align: right;\">\n",
              "      <th></th>\n",
              "      <th>Unnamed: 0</th>\n",
              "      <th>Item_Identifier</th>\n",
              "      <th>Item_Weight</th>\n",
              "      <th>Item_Fat_Content</th>\n",
              "      <th>Item_Visibility</th>\n",
              "      <th>Item_Type</th>\n",
              "      <th>Item_MRP</th>\n",
              "      <th>Outlet_Identifier</th>\n",
              "      <th>Outlet_Establishment_Year</th>\n",
              "      <th>Outlet_Size</th>\n",
              "      <th>Outlet_Location_Type</th>\n",
              "      <th>Outlet_Type</th>\n",
              "      <th>Item_Outlet_Sales</th>\n",
              "    </tr>\n",
              "  </thead>\n",
              "  <tbody>\n",
              "    <tr>\n",
              "      <th>0</th>\n",
              "      <td>9</td>\n",
              "      <td>FDU28</td>\n",
              "      <td>19.200</td>\n",
              "      <td>Regular</td>\n",
              "      <td>0.094450</td>\n",
              "      <td>Frozen Foods</td>\n",
              "      <td>187.8214</td>\n",
              "      <td>OUT017</td>\n",
              "      <td>2007</td>\n",
              "      <td>NaN</td>\n",
              "      <td>Tier 2</td>\n",
              "      <td>Supermarket Type1</td>\n",
              "      <td>4710.5350</td>\n",
              "    </tr>\n",
              "    <tr>\n",
              "      <th>1</th>\n",
              "      <td>25</td>\n",
              "      <td>NCD06</td>\n",
              "      <td>13.000</td>\n",
              "      <td>Low Fat</td>\n",
              "      <td>0.099887</td>\n",
              "      <td>Household</td>\n",
              "      <td>45.9060</td>\n",
              "      <td>OUT017</td>\n",
              "      <td>2007</td>\n",
              "      <td>NaN</td>\n",
              "      <td>Tier 2</td>\n",
              "      <td>Supermarket Type1</td>\n",
              "      <td>838.9080</td>\n",
              "    </tr>\n",
              "    <tr>\n",
              "      <th>2</th>\n",
              "      <td>53</td>\n",
              "      <td>FDA43</td>\n",
              "      <td>10.895</td>\n",
              "      <td>Low Fat</td>\n",
              "      <td>0.065042</td>\n",
              "      <td>Fruits and Vegetables</td>\n",
              "      <td>196.3794</td>\n",
              "      <td>OUT017</td>\n",
              "      <td>2007</td>\n",
              "      <td>NaN</td>\n",
              "      <td>Tier 2</td>\n",
              "      <td>Supermarket Type1</td>\n",
              "      <td>3121.2704</td>\n",
              "    </tr>\n",
              "    <tr>\n",
              "      <th>3</th>\n",
              "      <td>54</td>\n",
              "      <td>NCP18</td>\n",
              "      <td>12.150</td>\n",
              "      <td>Low Fat</td>\n",
              "      <td>0.028760</td>\n",
              "      <td>Household</td>\n",
              "      <td>151.4708</td>\n",
              "      <td>OUT017</td>\n",
              "      <td>2007</td>\n",
              "      <td>NaN</td>\n",
              "      <td>Tier 2</td>\n",
              "      <td>Supermarket Type1</td>\n",
              "      <td>4815.0656</td>\n",
              "    </tr>\n",
              "    <tr>\n",
              "      <th>4</th>\n",
              "      <td>73</td>\n",
              "      <td>FDG02</td>\n",
              "      <td>7.855</td>\n",
              "      <td>Low Fat</td>\n",
              "      <td>0.011325</td>\n",
              "      <td>Canned</td>\n",
              "      <td>189.6188</td>\n",
              "      <td>OUT017</td>\n",
              "      <td>2007</td>\n",
              "      <td>NaN</td>\n",
              "      <td>Tier 2</td>\n",
              "      <td>Supermarket Type1</td>\n",
              "      <td>2285.0256</td>\n",
              "    </tr>\n",
              "  </tbody>\n",
              "</table>\n",
              "</div>\n",
              "      <button class=\"colab-df-convert\" onclick=\"convertToInteractive('df-29f7de97-4b97-4410-b855-f8c5a9ede944')\"\n",
              "              title=\"Convert this dataframe to an interactive table.\"\n",
              "              style=\"display:none;\">\n",
              "        \n",
              "  <svg xmlns=\"http://www.w3.org/2000/svg\" height=\"24px\"viewBox=\"0 0 24 24\"\n",
              "       width=\"24px\">\n",
              "    <path d=\"M0 0h24v24H0V0z\" fill=\"none\"/>\n",
              "    <path d=\"M18.56 5.44l.94 2.06.94-2.06 2.06-.94-2.06-.94-.94-2.06-.94 2.06-2.06.94zm-11 1L8.5 8.5l.94-2.06 2.06-.94-2.06-.94L8.5 2.5l-.94 2.06-2.06.94zm10 10l.94 2.06.94-2.06 2.06-.94-2.06-.94-.94-2.06-.94 2.06-2.06.94z\"/><path d=\"M17.41 7.96l-1.37-1.37c-.4-.4-.92-.59-1.43-.59-.52 0-1.04.2-1.43.59L10.3 9.45l-7.72 7.72c-.78.78-.78 2.05 0 2.83L4 21.41c.39.39.9.59 1.41.59.51 0 1.02-.2 1.41-.59l7.78-7.78 2.81-2.81c.8-.78.8-2.07 0-2.86zM5.41 20L4 18.59l7.72-7.72 1.47 1.35L5.41 20z\"/>\n",
              "  </svg>\n",
              "      </button>\n",
              "      \n",
              "  <style>\n",
              "    .colab-df-container {\n",
              "      display:flex;\n",
              "      flex-wrap:wrap;\n",
              "      gap: 12px;\n",
              "    }\n",
              "\n",
              "    .colab-df-convert {\n",
              "      background-color: #E8F0FE;\n",
              "      border: none;\n",
              "      border-radius: 50%;\n",
              "      cursor: pointer;\n",
              "      display: none;\n",
              "      fill: #1967D2;\n",
              "      height: 32px;\n",
              "      padding: 0 0 0 0;\n",
              "      width: 32px;\n",
              "    }\n",
              "\n",
              "    .colab-df-convert:hover {\n",
              "      background-color: #E2EBFA;\n",
              "      box-shadow: 0px 1px 2px rgba(60, 64, 67, 0.3), 0px 1px 3px 1px rgba(60, 64, 67, 0.15);\n",
              "      fill: #174EA6;\n",
              "    }\n",
              "\n",
              "    [theme=dark] .colab-df-convert {\n",
              "      background-color: #3B4455;\n",
              "      fill: #D2E3FC;\n",
              "    }\n",
              "\n",
              "    [theme=dark] .colab-df-convert:hover {\n",
              "      background-color: #434B5C;\n",
              "      box-shadow: 0px 1px 3px 1px rgba(0, 0, 0, 0.15);\n",
              "      filter: drop-shadow(0px 1px 2px rgba(0, 0, 0, 0.3));\n",
              "      fill: #FFFFFF;\n",
              "    }\n",
              "  </style>\n",
              "\n",
              "      <script>\n",
              "        const buttonEl =\n",
              "          document.querySelector('#df-29f7de97-4b97-4410-b855-f8c5a9ede944 button.colab-df-convert');\n",
              "        buttonEl.style.display =\n",
              "          google.colab.kernel.accessAllowed ? 'block' : 'none';\n",
              "\n",
              "        async function convertToInteractive(key) {\n",
              "          const element = document.querySelector('#df-29f7de97-4b97-4410-b855-f8c5a9ede944');\n",
              "          const dataTable =\n",
              "            await google.colab.kernel.invokeFunction('convertToInteractive',\n",
              "                                                     [key], {});\n",
              "          if (!dataTable) return;\n",
              "\n",
              "          const docLinkHtml = 'Like what you see? Visit the ' +\n",
              "            '<a target=\"_blank\" href=https://colab.research.google.com/notebooks/data_table.ipynb>data table notebook</a>'\n",
              "            + ' to learn more about interactive tables.';\n",
              "          element.innerHTML = '';\n",
              "          dataTable['output_type'] = 'display_data';\n",
              "          await google.colab.output.renderOutput(dataTable, element);\n",
              "          const docLink = document.createElement('div');\n",
              "          docLink.innerHTML = docLinkHtml;\n",
              "          element.appendChild(docLink);\n",
              "        }\n",
              "      </script>\n",
              "    </div>\n",
              "  </div>\n",
              "  "
            ]
          },
          "metadata": {},
          "execution_count": 26
        }
      ],
      "source": [
        "final_data.head()"
      ]
    },
    {
      "cell_type": "markdown",
      "metadata": {
        "id": "xGzWsuGJHawV"
      },
      "source": [
        "---\n",
        "\n",
        "#### `STOOCKER LE DATAFRAME DANS UN  CSV`\n",
        "\n",
        "---"
      ]
    },
    {
      "cell_type": "code",
      "execution_count": 28,
      "metadata": {
        "id": "2VeT6OMgHawW"
      },
      "outputs": [],
      "source": [
        "final_data.to_csv(dataset_path + 'merged_big_mart_sales.csv',index=False)"
      ]
    },
    {
      "cell_type": "markdown",
      "metadata": {
        "id": "nE9mM738Hawa"
      },
      "source": [
        "---\n",
        "\n",
        "#### `Lire un fichier CSV avec un delimiteur spécifique`\n",
        "\n",
        "---\n",
        "\n",
        "---\n",
        "\n",
        "- Par defaut, pandas considere le separateur  ***`,`*** comme delimiteur des fichiers CSV. Mais si le fichier  CSV a un autre  separateur comme ***`[;, \\t ]`*** ceci doit être spécifié.\n",
        "\n",
        "\n",
        "\n",
        "---"
      ]
    },
    {
      "cell_type": "code",
      "execution_count": 30,
      "metadata": {
        "id": "2iH3r5LeHawc"
      },
      "outputs": [],
      "source": [
        "# lire les données\n",
        "data_delimiter = pd.read_csv(dataset_path+'big_mart_sales_delimiter.csv')"
      ]
    },
    {
      "cell_type": "code",
      "execution_count": 31,
      "metadata": {
        "id": "qsDAvon5Hawj",
        "outputId": "47489bc2-0f11-4ed2-ad9d-ac6d16cb5160",
        "colab": {
          "base_uri": "https://localhost:8080/",
          "height": 488
        }
      },
      "outputs": [
        {
          "output_type": "execute_result",
          "data": {
            "text/plain": [
              "    Item_Identifier\\tItem_Weight\\tItem_Fat_Content\\tItem_Visibility\\tItem_Type\\tItem_MRP\\tOutlet_Identifier\\tOutlet_Establishment_Year\\tOutlet_Size\\tOutlet_Location_Type\\tOutlet_Type\\tItem_Outlet_Sales\n",
              "0    FDA15\\t9.3\\tLow Fat\\t0.016047301\\tDairy\\t249.8...                                                                                                                                                   \n",
              "1    DRC01\\t5.92\\tRegular\\t0.019278216\\tSoft Drinks...                                                                                                                                                   \n",
              "2    FDN15\\t17.5\\tLow Fat\\t0.016760075\\tMeat\\t141.6...                                                                                                                                                   \n",
              "3    FDX07\\t19.2\\tRegular\\t0.0\\tFruits and Vegetabl...                                                                                                                                                   \n",
              "4    NCD19\\t8.93\\tLow Fat\\t0.0\\tHousehold\\t53.8614\\...                                                                                                                                                   \n",
              "..                                                 ...                                                                                                                                                   \n",
              "96   FDF41\\t12.15\\tLow Fat\\t0.131383762\\tFrozen Foo...                                                                                                                                                   \n",
              "97   FDB56\\t8.75\\tRegular\\t0.07461309\\tFruits and V...                                                                                                                                                   \n",
              "98   NCP18\\t\\tLow Fat\\t0.028459761\\tHousehold\\t149....                                                                                                                                                   \n",
              "99   FDB56\\t8.75\\tRegular\\t0.07462720099999999\\tFru...                                                                                                                                                   \n",
              "100  FDT28\\t13.3\\tLow Fat\\t0.063695084\\tFrozen Food...                                                                                                                                                   \n",
              "\n",
              "[101 rows x 1 columns]"
            ],
            "text/html": [
              "\n",
              "  <div id=\"df-547c8b00-ed9c-4559-bc37-79612b921c69\">\n",
              "    <div class=\"colab-df-container\">\n",
              "      <div>\n",
              "<style scoped>\n",
              "    .dataframe tbody tr th:only-of-type {\n",
              "        vertical-align: middle;\n",
              "    }\n",
              "\n",
              "    .dataframe tbody tr th {\n",
              "        vertical-align: top;\n",
              "    }\n",
              "\n",
              "    .dataframe thead th {\n",
              "        text-align: right;\n",
              "    }\n",
              "</style>\n",
              "<table border=\"1\" class=\"dataframe\">\n",
              "  <thead>\n",
              "    <tr style=\"text-align: right;\">\n",
              "      <th></th>\n",
              "      <th>Item_Identifier\\tItem_Weight\\tItem_Fat_Content\\tItem_Visibility\\tItem_Type\\tItem_MRP\\tOutlet_Identifier\\tOutlet_Establishment_Year\\tOutlet_Size\\tOutlet_Location_Type\\tOutlet_Type\\tItem_Outlet_Sales</th>\n",
              "    </tr>\n",
              "  </thead>\n",
              "  <tbody>\n",
              "    <tr>\n",
              "      <th>0</th>\n",
              "      <td>FDA15\\t9.3\\tLow Fat\\t0.016047301\\tDairy\\t249.8...</td>\n",
              "    </tr>\n",
              "    <tr>\n",
              "      <th>1</th>\n",
              "      <td>DRC01\\t5.92\\tRegular\\t0.019278216\\tSoft Drinks...</td>\n",
              "    </tr>\n",
              "    <tr>\n",
              "      <th>2</th>\n",
              "      <td>FDN15\\t17.5\\tLow Fat\\t0.016760075\\tMeat\\t141.6...</td>\n",
              "    </tr>\n",
              "    <tr>\n",
              "      <th>3</th>\n",
              "      <td>FDX07\\t19.2\\tRegular\\t0.0\\tFruits and Vegetabl...</td>\n",
              "    </tr>\n",
              "    <tr>\n",
              "      <th>4</th>\n",
              "      <td>NCD19\\t8.93\\tLow Fat\\t0.0\\tHousehold\\t53.8614\\...</td>\n",
              "    </tr>\n",
              "    <tr>\n",
              "      <th>...</th>\n",
              "      <td>...</td>\n",
              "    </tr>\n",
              "    <tr>\n",
              "      <th>96</th>\n",
              "      <td>FDF41\\t12.15\\tLow Fat\\t0.131383762\\tFrozen Foo...</td>\n",
              "    </tr>\n",
              "    <tr>\n",
              "      <th>97</th>\n",
              "      <td>FDB56\\t8.75\\tRegular\\t0.07461309\\tFruits and V...</td>\n",
              "    </tr>\n",
              "    <tr>\n",
              "      <th>98</th>\n",
              "      <td>NCP18\\t\\tLow Fat\\t0.028459761\\tHousehold\\t149....</td>\n",
              "    </tr>\n",
              "    <tr>\n",
              "      <th>99</th>\n",
              "      <td>FDB56\\t8.75\\tRegular\\t0.07462720099999999\\tFru...</td>\n",
              "    </tr>\n",
              "    <tr>\n",
              "      <th>100</th>\n",
              "      <td>FDT28\\t13.3\\tLow Fat\\t0.063695084\\tFrozen Food...</td>\n",
              "    </tr>\n",
              "  </tbody>\n",
              "</table>\n",
              "<p>101 rows × 1 columns</p>\n",
              "</div>\n",
              "      <button class=\"colab-df-convert\" onclick=\"convertToInteractive('df-547c8b00-ed9c-4559-bc37-79612b921c69')\"\n",
              "              title=\"Convert this dataframe to an interactive table.\"\n",
              "              style=\"display:none;\">\n",
              "        \n",
              "  <svg xmlns=\"http://www.w3.org/2000/svg\" height=\"24px\"viewBox=\"0 0 24 24\"\n",
              "       width=\"24px\">\n",
              "    <path d=\"M0 0h24v24H0V0z\" fill=\"none\"/>\n",
              "    <path d=\"M18.56 5.44l.94 2.06.94-2.06 2.06-.94-2.06-.94-.94-2.06-.94 2.06-2.06.94zm-11 1L8.5 8.5l.94-2.06 2.06-.94-2.06-.94L8.5 2.5l-.94 2.06-2.06.94zm10 10l.94 2.06.94-2.06 2.06-.94-2.06-.94-.94-2.06-.94 2.06-2.06.94z\"/><path d=\"M17.41 7.96l-1.37-1.37c-.4-.4-.92-.59-1.43-.59-.52 0-1.04.2-1.43.59L10.3 9.45l-7.72 7.72c-.78.78-.78 2.05 0 2.83L4 21.41c.39.39.9.59 1.41.59.51 0 1.02-.2 1.41-.59l7.78-7.78 2.81-2.81c.8-.78.8-2.07 0-2.86zM5.41 20L4 18.59l7.72-7.72 1.47 1.35L5.41 20z\"/>\n",
              "  </svg>\n",
              "      </button>\n",
              "      \n",
              "  <style>\n",
              "    .colab-df-container {\n",
              "      display:flex;\n",
              "      flex-wrap:wrap;\n",
              "      gap: 12px;\n",
              "    }\n",
              "\n",
              "    .colab-df-convert {\n",
              "      background-color: #E8F0FE;\n",
              "      border: none;\n",
              "      border-radius: 50%;\n",
              "      cursor: pointer;\n",
              "      display: none;\n",
              "      fill: #1967D2;\n",
              "      height: 32px;\n",
              "      padding: 0 0 0 0;\n",
              "      width: 32px;\n",
              "    }\n",
              "\n",
              "    .colab-df-convert:hover {\n",
              "      background-color: #E2EBFA;\n",
              "      box-shadow: 0px 1px 2px rgba(60, 64, 67, 0.3), 0px 1px 3px 1px rgba(60, 64, 67, 0.15);\n",
              "      fill: #174EA6;\n",
              "    }\n",
              "\n",
              "    [theme=dark] .colab-df-convert {\n",
              "      background-color: #3B4455;\n",
              "      fill: #D2E3FC;\n",
              "    }\n",
              "\n",
              "    [theme=dark] .colab-df-convert:hover {\n",
              "      background-color: #434B5C;\n",
              "      box-shadow: 0px 1px 3px 1px rgba(0, 0, 0, 0.15);\n",
              "      filter: drop-shadow(0px 1px 2px rgba(0, 0, 0, 0.3));\n",
              "      fill: #FFFFFF;\n",
              "    }\n",
              "  </style>\n",
              "\n",
              "      <script>\n",
              "        const buttonEl =\n",
              "          document.querySelector('#df-547c8b00-ed9c-4559-bc37-79612b921c69 button.colab-df-convert');\n",
              "        buttonEl.style.display =\n",
              "          google.colab.kernel.accessAllowed ? 'block' : 'none';\n",
              "\n",
              "        async function convertToInteractive(key) {\n",
              "          const element = document.querySelector('#df-547c8b00-ed9c-4559-bc37-79612b921c69');\n",
              "          const dataTable =\n",
              "            await google.colab.kernel.invokeFunction('convertToInteractive',\n",
              "                                                     [key], {});\n",
              "          if (!dataTable) return;\n",
              "\n",
              "          const docLinkHtml = 'Like what you see? Visit the ' +\n",
              "            '<a target=\"_blank\" href=https://colab.research.google.com/notebooks/data_table.ipynb>data table notebook</a>'\n",
              "            + ' to learn more about interactive tables.';\n",
              "          element.innerHTML = '';\n",
              "          dataTable['output_type'] = 'display_data';\n",
              "          await google.colab.output.renderOutput(dataTable, element);\n",
              "          const docLink = document.createElement('div');\n",
              "          docLink.innerHTML = docLinkHtml;\n",
              "          element.appendChild(docLink);\n",
              "        }\n",
              "      </script>\n",
              "    </div>\n",
              "  </div>\n",
              "  "
            ]
          },
          "metadata": {},
          "execution_count": 31
        }
      ],
      "source": [
        "# we can see that the seperator used in the CSV is tab `\\t`\n",
        "data_delimiter"
      ]
    },
    {
      "cell_type": "code",
      "execution_count": 34,
      "metadata": {
        "id": "7f1FSZiAHawo"
      },
      "outputs": [],
      "source": [
        "# Relire le fichier en utilisant cette fois-ci le parametre `delimiter` et `\\t`\n",
        "data_delimiter = pd.read_csv(dataset_path+'big_mart_sales_delimiter.csv',delimiter='\\t')"
      ]
    },
    {
      "cell_type": "code",
      "execution_count": 35,
      "metadata": {
        "id": "plmLvQn7Haws",
        "outputId": "eedea549-6ddc-4e6d-b854-096e00dd3698",
        "colab": {
          "base_uri": "https://localhost:8080/",
          "height": 357
        }
      },
      "outputs": [
        {
          "output_type": "execute_result",
          "data": {
            "text/plain": [
              "  Item_Identifier  Item_Weight Item_Fat_Content  Item_Visibility  \\\n",
              "0           FDA15         9.30          Low Fat         0.016047   \n",
              "1           DRC01         5.92          Regular         0.019278   \n",
              "2           FDN15        17.50          Low Fat         0.016760   \n",
              "3           FDX07        19.20          Regular         0.000000   \n",
              "4           NCD19         8.93          Low Fat         0.000000   \n",
              "\n",
              "               Item_Type  Item_MRP Outlet_Identifier  \\\n",
              "0                  Dairy  249.8092            OUT049   \n",
              "1            Soft Drinks   48.2692            OUT018   \n",
              "2                   Meat  141.6180            OUT049   \n",
              "3  Fruits and Vegetables  182.0950            OUT010   \n",
              "4              Household   53.8614            OUT013   \n",
              "\n",
              "   Outlet_Establishment_Year Outlet_Size Outlet_Location_Type  \\\n",
              "0                       1999      Medium               Tier 1   \n",
              "1                       2009      Medium               Tier 3   \n",
              "2                       1999      Medium               Tier 1   \n",
              "3                       1998         NaN               Tier 3   \n",
              "4                       1987        High               Tier 3   \n",
              "\n",
              "         Outlet_Type  Item_Outlet_Sales  \n",
              "0  Supermarket Type1          3735.1380  \n",
              "1  Supermarket Type2           443.4228  \n",
              "2  Supermarket Type1          2097.2700  \n",
              "3      Grocery Store           732.3800  \n",
              "4  Supermarket Type1           994.7052  "
            ],
            "text/html": [
              "\n",
              "  <div id=\"df-f2ccdd36-7463-4cab-8924-a82e239a76c1\">\n",
              "    <div class=\"colab-df-container\">\n",
              "      <div>\n",
              "<style scoped>\n",
              "    .dataframe tbody tr th:only-of-type {\n",
              "        vertical-align: middle;\n",
              "    }\n",
              "\n",
              "    .dataframe tbody tr th {\n",
              "        vertical-align: top;\n",
              "    }\n",
              "\n",
              "    .dataframe thead th {\n",
              "        text-align: right;\n",
              "    }\n",
              "</style>\n",
              "<table border=\"1\" class=\"dataframe\">\n",
              "  <thead>\n",
              "    <tr style=\"text-align: right;\">\n",
              "      <th></th>\n",
              "      <th>Item_Identifier</th>\n",
              "      <th>Item_Weight</th>\n",
              "      <th>Item_Fat_Content</th>\n",
              "      <th>Item_Visibility</th>\n",
              "      <th>Item_Type</th>\n",
              "      <th>Item_MRP</th>\n",
              "      <th>Outlet_Identifier</th>\n",
              "      <th>Outlet_Establishment_Year</th>\n",
              "      <th>Outlet_Size</th>\n",
              "      <th>Outlet_Location_Type</th>\n",
              "      <th>Outlet_Type</th>\n",
              "      <th>Item_Outlet_Sales</th>\n",
              "    </tr>\n",
              "  </thead>\n",
              "  <tbody>\n",
              "    <tr>\n",
              "      <th>0</th>\n",
              "      <td>FDA15</td>\n",
              "      <td>9.30</td>\n",
              "      <td>Low Fat</td>\n",
              "      <td>0.016047</td>\n",
              "      <td>Dairy</td>\n",
              "      <td>249.8092</td>\n",
              "      <td>OUT049</td>\n",
              "      <td>1999</td>\n",
              "      <td>Medium</td>\n",
              "      <td>Tier 1</td>\n",
              "      <td>Supermarket Type1</td>\n",
              "      <td>3735.1380</td>\n",
              "    </tr>\n",
              "    <tr>\n",
              "      <th>1</th>\n",
              "      <td>DRC01</td>\n",
              "      <td>5.92</td>\n",
              "      <td>Regular</td>\n",
              "      <td>0.019278</td>\n",
              "      <td>Soft Drinks</td>\n",
              "      <td>48.2692</td>\n",
              "      <td>OUT018</td>\n",
              "      <td>2009</td>\n",
              "      <td>Medium</td>\n",
              "      <td>Tier 3</td>\n",
              "      <td>Supermarket Type2</td>\n",
              "      <td>443.4228</td>\n",
              "    </tr>\n",
              "    <tr>\n",
              "      <th>2</th>\n",
              "      <td>FDN15</td>\n",
              "      <td>17.50</td>\n",
              "      <td>Low Fat</td>\n",
              "      <td>0.016760</td>\n",
              "      <td>Meat</td>\n",
              "      <td>141.6180</td>\n",
              "      <td>OUT049</td>\n",
              "      <td>1999</td>\n",
              "      <td>Medium</td>\n",
              "      <td>Tier 1</td>\n",
              "      <td>Supermarket Type1</td>\n",
              "      <td>2097.2700</td>\n",
              "    </tr>\n",
              "    <tr>\n",
              "      <th>3</th>\n",
              "      <td>FDX07</td>\n",
              "      <td>19.20</td>\n",
              "      <td>Regular</td>\n",
              "      <td>0.000000</td>\n",
              "      <td>Fruits and Vegetables</td>\n",
              "      <td>182.0950</td>\n",
              "      <td>OUT010</td>\n",
              "      <td>1998</td>\n",
              "      <td>NaN</td>\n",
              "      <td>Tier 3</td>\n",
              "      <td>Grocery Store</td>\n",
              "      <td>732.3800</td>\n",
              "    </tr>\n",
              "    <tr>\n",
              "      <th>4</th>\n",
              "      <td>NCD19</td>\n",
              "      <td>8.93</td>\n",
              "      <td>Low Fat</td>\n",
              "      <td>0.000000</td>\n",
              "      <td>Household</td>\n",
              "      <td>53.8614</td>\n",
              "      <td>OUT013</td>\n",
              "      <td>1987</td>\n",
              "      <td>High</td>\n",
              "      <td>Tier 3</td>\n",
              "      <td>Supermarket Type1</td>\n",
              "      <td>994.7052</td>\n",
              "    </tr>\n",
              "  </tbody>\n",
              "</table>\n",
              "</div>\n",
              "      <button class=\"colab-df-convert\" onclick=\"convertToInteractive('df-f2ccdd36-7463-4cab-8924-a82e239a76c1')\"\n",
              "              title=\"Convert this dataframe to an interactive table.\"\n",
              "              style=\"display:none;\">\n",
              "        \n",
              "  <svg xmlns=\"http://www.w3.org/2000/svg\" height=\"24px\"viewBox=\"0 0 24 24\"\n",
              "       width=\"24px\">\n",
              "    <path d=\"M0 0h24v24H0V0z\" fill=\"none\"/>\n",
              "    <path d=\"M18.56 5.44l.94 2.06.94-2.06 2.06-.94-2.06-.94-.94-2.06-.94 2.06-2.06.94zm-11 1L8.5 8.5l.94-2.06 2.06-.94-2.06-.94L8.5 2.5l-.94 2.06-2.06.94zm10 10l.94 2.06.94-2.06 2.06-.94-2.06-.94-.94-2.06-.94 2.06-2.06.94z\"/><path d=\"M17.41 7.96l-1.37-1.37c-.4-.4-.92-.59-1.43-.59-.52 0-1.04.2-1.43.59L10.3 9.45l-7.72 7.72c-.78.78-.78 2.05 0 2.83L4 21.41c.39.39.9.59 1.41.59.51 0 1.02-.2 1.41-.59l7.78-7.78 2.81-2.81c.8-.78.8-2.07 0-2.86zM5.41 20L4 18.59l7.72-7.72 1.47 1.35L5.41 20z\"/>\n",
              "  </svg>\n",
              "      </button>\n",
              "      \n",
              "  <style>\n",
              "    .colab-df-container {\n",
              "      display:flex;\n",
              "      flex-wrap:wrap;\n",
              "      gap: 12px;\n",
              "    }\n",
              "\n",
              "    .colab-df-convert {\n",
              "      background-color: #E8F0FE;\n",
              "      border: none;\n",
              "      border-radius: 50%;\n",
              "      cursor: pointer;\n",
              "      display: none;\n",
              "      fill: #1967D2;\n",
              "      height: 32px;\n",
              "      padding: 0 0 0 0;\n",
              "      width: 32px;\n",
              "    }\n",
              "\n",
              "    .colab-df-convert:hover {\n",
              "      background-color: #E2EBFA;\n",
              "      box-shadow: 0px 1px 2px rgba(60, 64, 67, 0.3), 0px 1px 3px 1px rgba(60, 64, 67, 0.15);\n",
              "      fill: #174EA6;\n",
              "    }\n",
              "\n",
              "    [theme=dark] .colab-df-convert {\n",
              "      background-color: #3B4455;\n",
              "      fill: #D2E3FC;\n",
              "    }\n",
              "\n",
              "    [theme=dark] .colab-df-convert:hover {\n",
              "      background-color: #434B5C;\n",
              "      box-shadow: 0px 1px 3px 1px rgba(0, 0, 0, 0.15);\n",
              "      filter: drop-shadow(0px 1px 2px rgba(0, 0, 0, 0.3));\n",
              "      fill: #FFFFFF;\n",
              "    }\n",
              "  </style>\n",
              "\n",
              "      <script>\n",
              "        const buttonEl =\n",
              "          document.querySelector('#df-f2ccdd36-7463-4cab-8924-a82e239a76c1 button.colab-df-convert');\n",
              "        buttonEl.style.display =\n",
              "          google.colab.kernel.accessAllowed ? 'block' : 'none';\n",
              "\n",
              "        async function convertToInteractive(key) {\n",
              "          const element = document.querySelector('#df-f2ccdd36-7463-4cab-8924-a82e239a76c1');\n",
              "          const dataTable =\n",
              "            await google.colab.kernel.invokeFunction('convertToInteractive',\n",
              "                                                     [key], {});\n",
              "          if (!dataTable) return;\n",
              "\n",
              "          const docLinkHtml = 'Like what you see? Visit the ' +\n",
              "            '<a target=\"_blank\" href=https://colab.research.google.com/notebooks/data_table.ipynb>data table notebook</a>'\n",
              "            + ' to learn more about interactive tables.';\n",
              "          element.innerHTML = '';\n",
              "          dataTable['output_type'] = 'display_data';\n",
              "          await google.colab.output.renderOutput(dataTable, element);\n",
              "          const docLink = document.createElement('div');\n",
              "          docLink.innerHTML = docLinkHtml;\n",
              "          element.appendChild(docLink);\n",
              "        }\n",
              "      </script>\n",
              "    </div>\n",
              "  </div>\n",
              "  "
            ]
          },
          "metadata": {},
          "execution_count": 35
        }
      ],
      "source": [
        "# visualiser les données\n",
        "data_delimiter.head()"
      ]
    },
    {
      "cell_type": "markdown",
      "metadata": {
        "id": "D3DN0h7mHawx"
      },
      "source": [
        "---\n",
        "\n",
        "#### `LIRE LES PREMIERES 'N' LIGNES (QUAND LES DONNÉES SONT VOLUMINEUSES)`\n",
        "\n",
        "---"
      ]
    },
    {
      "cell_type": "code",
      "execution_count": 36,
      "metadata": {
        "id": "XfFt04XnHawy"
      },
      "outputs": [],
      "source": [
        "# Specifier le nombre de lignes à lire\n",
        "read_sample_from_data = pd.read_csv(dataset_path +'big_mart_sales.csv',nrows=100)"
      ]
    },
    {
      "cell_type": "code",
      "execution_count": 37,
      "metadata": {
        "id": "jWJFTxqJHaw3",
        "outputId": "d33fb577-35d4-4736-84d7-710725312dff",
        "colab": {
          "base_uri": "https://localhost:8080/"
        }
      },
      "outputs": [
        {
          "output_type": "execute_result",
          "data": {
            "text/plain": [
              "(100, 12)"
            ]
          },
          "metadata": {},
          "execution_count": 37
        }
      ],
      "source": [
        "# shape des données\n",
        "read_sample_from_data.shape"
      ]
    },
    {
      "cell_type": "code",
      "execution_count": 38,
      "metadata": {
        "id": "JYsAqYWkHaw8",
        "outputId": "d77a49ca-8fdd-4815-ff53-9e06b5d5786f",
        "colab": {
          "base_uri": "https://localhost:8080/",
          "height": 357
        }
      },
      "outputs": [
        {
          "output_type": "execute_result",
          "data": {
            "text/plain": [
              "  Item_Identifier  Item_Weight Item_Fat_Content  Item_Visibility  \\\n",
              "0           FDA15         9.30          Low Fat         0.016047   \n",
              "1           DRC01         5.92          Regular         0.019278   \n",
              "2           FDN15        17.50          Low Fat         0.016760   \n",
              "3           FDX07        19.20          Regular         0.000000   \n",
              "4           NCD19         8.93          Low Fat         0.000000   \n",
              "\n",
              "               Item_Type  Item_MRP Outlet_Identifier  \\\n",
              "0                  Dairy  249.8092            OUT049   \n",
              "1            Soft Drinks   48.2692            OUT018   \n",
              "2                   Meat  141.6180            OUT049   \n",
              "3  Fruits and Vegetables  182.0950            OUT010   \n",
              "4              Household   53.8614            OUT013   \n",
              "\n",
              "   Outlet_Establishment_Year Outlet_Size Outlet_Location_Type  \\\n",
              "0                       1999      Medium               Tier 1   \n",
              "1                       2009      Medium               Tier 3   \n",
              "2                       1999      Medium               Tier 1   \n",
              "3                       1998         NaN               Tier 3   \n",
              "4                       1987        High               Tier 3   \n",
              "\n",
              "         Outlet_Type  Item_Outlet_Sales  \n",
              "0  Supermarket Type1          3735.1380  \n",
              "1  Supermarket Type2           443.4228  \n",
              "2  Supermarket Type1          2097.2700  \n",
              "3      Grocery Store           732.3800  \n",
              "4  Supermarket Type1           994.7052  "
            ],
            "text/html": [
              "\n",
              "  <div id=\"df-113cce66-d236-4b36-a119-b2dd71b7f682\">\n",
              "    <div class=\"colab-df-container\">\n",
              "      <div>\n",
              "<style scoped>\n",
              "    .dataframe tbody tr th:only-of-type {\n",
              "        vertical-align: middle;\n",
              "    }\n",
              "\n",
              "    .dataframe tbody tr th {\n",
              "        vertical-align: top;\n",
              "    }\n",
              "\n",
              "    .dataframe thead th {\n",
              "        text-align: right;\n",
              "    }\n",
              "</style>\n",
              "<table border=\"1\" class=\"dataframe\">\n",
              "  <thead>\n",
              "    <tr style=\"text-align: right;\">\n",
              "      <th></th>\n",
              "      <th>Item_Identifier</th>\n",
              "      <th>Item_Weight</th>\n",
              "      <th>Item_Fat_Content</th>\n",
              "      <th>Item_Visibility</th>\n",
              "      <th>Item_Type</th>\n",
              "      <th>Item_MRP</th>\n",
              "      <th>Outlet_Identifier</th>\n",
              "      <th>Outlet_Establishment_Year</th>\n",
              "      <th>Outlet_Size</th>\n",
              "      <th>Outlet_Location_Type</th>\n",
              "      <th>Outlet_Type</th>\n",
              "      <th>Item_Outlet_Sales</th>\n",
              "    </tr>\n",
              "  </thead>\n",
              "  <tbody>\n",
              "    <tr>\n",
              "      <th>0</th>\n",
              "      <td>FDA15</td>\n",
              "      <td>9.30</td>\n",
              "      <td>Low Fat</td>\n",
              "      <td>0.016047</td>\n",
              "      <td>Dairy</td>\n",
              "      <td>249.8092</td>\n",
              "      <td>OUT049</td>\n",
              "      <td>1999</td>\n",
              "      <td>Medium</td>\n",
              "      <td>Tier 1</td>\n",
              "      <td>Supermarket Type1</td>\n",
              "      <td>3735.1380</td>\n",
              "    </tr>\n",
              "    <tr>\n",
              "      <th>1</th>\n",
              "      <td>DRC01</td>\n",
              "      <td>5.92</td>\n",
              "      <td>Regular</td>\n",
              "      <td>0.019278</td>\n",
              "      <td>Soft Drinks</td>\n",
              "      <td>48.2692</td>\n",
              "      <td>OUT018</td>\n",
              "      <td>2009</td>\n",
              "      <td>Medium</td>\n",
              "      <td>Tier 3</td>\n",
              "      <td>Supermarket Type2</td>\n",
              "      <td>443.4228</td>\n",
              "    </tr>\n",
              "    <tr>\n",
              "      <th>2</th>\n",
              "      <td>FDN15</td>\n",
              "      <td>17.50</td>\n",
              "      <td>Low Fat</td>\n",
              "      <td>0.016760</td>\n",
              "      <td>Meat</td>\n",
              "      <td>141.6180</td>\n",
              "      <td>OUT049</td>\n",
              "      <td>1999</td>\n",
              "      <td>Medium</td>\n",
              "      <td>Tier 1</td>\n",
              "      <td>Supermarket Type1</td>\n",
              "      <td>2097.2700</td>\n",
              "    </tr>\n",
              "    <tr>\n",
              "      <th>3</th>\n",
              "      <td>FDX07</td>\n",
              "      <td>19.20</td>\n",
              "      <td>Regular</td>\n",
              "      <td>0.000000</td>\n",
              "      <td>Fruits and Vegetables</td>\n",
              "      <td>182.0950</td>\n",
              "      <td>OUT010</td>\n",
              "      <td>1998</td>\n",
              "      <td>NaN</td>\n",
              "      <td>Tier 3</td>\n",
              "      <td>Grocery Store</td>\n",
              "      <td>732.3800</td>\n",
              "    </tr>\n",
              "    <tr>\n",
              "      <th>4</th>\n",
              "      <td>NCD19</td>\n",
              "      <td>8.93</td>\n",
              "      <td>Low Fat</td>\n",
              "      <td>0.000000</td>\n",
              "      <td>Household</td>\n",
              "      <td>53.8614</td>\n",
              "      <td>OUT013</td>\n",
              "      <td>1987</td>\n",
              "      <td>High</td>\n",
              "      <td>Tier 3</td>\n",
              "      <td>Supermarket Type1</td>\n",
              "      <td>994.7052</td>\n",
              "    </tr>\n",
              "  </tbody>\n",
              "</table>\n",
              "</div>\n",
              "      <button class=\"colab-df-convert\" onclick=\"convertToInteractive('df-113cce66-d236-4b36-a119-b2dd71b7f682')\"\n",
              "              title=\"Convert this dataframe to an interactive table.\"\n",
              "              style=\"display:none;\">\n",
              "        \n",
              "  <svg xmlns=\"http://www.w3.org/2000/svg\" height=\"24px\"viewBox=\"0 0 24 24\"\n",
              "       width=\"24px\">\n",
              "    <path d=\"M0 0h24v24H0V0z\" fill=\"none\"/>\n",
              "    <path d=\"M18.56 5.44l.94 2.06.94-2.06 2.06-.94-2.06-.94-.94-2.06-.94 2.06-2.06.94zm-11 1L8.5 8.5l.94-2.06 2.06-.94-2.06-.94L8.5 2.5l-.94 2.06-2.06.94zm10 10l.94 2.06.94-2.06 2.06-.94-2.06-.94-.94-2.06-.94 2.06-2.06.94z\"/><path d=\"M17.41 7.96l-1.37-1.37c-.4-.4-.92-.59-1.43-.59-.52 0-1.04.2-1.43.59L10.3 9.45l-7.72 7.72c-.78.78-.78 2.05 0 2.83L4 21.41c.39.39.9.59 1.41.59.51 0 1.02-.2 1.41-.59l7.78-7.78 2.81-2.81c.8-.78.8-2.07 0-2.86zM5.41 20L4 18.59l7.72-7.72 1.47 1.35L5.41 20z\"/>\n",
              "  </svg>\n",
              "      </button>\n",
              "      \n",
              "  <style>\n",
              "    .colab-df-container {\n",
              "      display:flex;\n",
              "      flex-wrap:wrap;\n",
              "      gap: 12px;\n",
              "    }\n",
              "\n",
              "    .colab-df-convert {\n",
              "      background-color: #E8F0FE;\n",
              "      border: none;\n",
              "      border-radius: 50%;\n",
              "      cursor: pointer;\n",
              "      display: none;\n",
              "      fill: #1967D2;\n",
              "      height: 32px;\n",
              "      padding: 0 0 0 0;\n",
              "      width: 32px;\n",
              "    }\n",
              "\n",
              "    .colab-df-convert:hover {\n",
              "      background-color: #E2EBFA;\n",
              "      box-shadow: 0px 1px 2px rgba(60, 64, 67, 0.3), 0px 1px 3px 1px rgba(60, 64, 67, 0.15);\n",
              "      fill: #174EA6;\n",
              "    }\n",
              "\n",
              "    [theme=dark] .colab-df-convert {\n",
              "      background-color: #3B4455;\n",
              "      fill: #D2E3FC;\n",
              "    }\n",
              "\n",
              "    [theme=dark] .colab-df-convert:hover {\n",
              "      background-color: #434B5C;\n",
              "      box-shadow: 0px 1px 3px 1px rgba(0, 0, 0, 0.15);\n",
              "      filter: drop-shadow(0px 1px 2px rgba(0, 0, 0, 0.3));\n",
              "      fill: #FFFFFF;\n",
              "    }\n",
              "  </style>\n",
              "\n",
              "      <script>\n",
              "        const buttonEl =\n",
              "          document.querySelector('#df-113cce66-d236-4b36-a119-b2dd71b7f682 button.colab-df-convert');\n",
              "        buttonEl.style.display =\n",
              "          google.colab.kernel.accessAllowed ? 'block' : 'none';\n",
              "\n",
              "        async function convertToInteractive(key) {\n",
              "          const element = document.querySelector('#df-113cce66-d236-4b36-a119-b2dd71b7f682');\n",
              "          const dataTable =\n",
              "            await google.colab.kernel.invokeFunction('convertToInteractive',\n",
              "                                                     [key], {});\n",
              "          if (!dataTable) return;\n",
              "\n",
              "          const docLinkHtml = 'Like what you see? Visit the ' +\n",
              "            '<a target=\"_blank\" href=https://colab.research.google.com/notebooks/data_table.ipynb>data table notebook</a>'\n",
              "            + ' to learn more about interactive tables.';\n",
              "          element.innerHTML = '';\n",
              "          dataTable['output_type'] = 'display_data';\n",
              "          await google.colab.output.renderOutput(dataTable, element);\n",
              "          const docLink = document.createElement('div');\n",
              "          docLink.innerHTML = docLinkHtml;\n",
              "          element.appendChild(docLink);\n",
              "        }\n",
              "      </script>\n",
              "    </div>\n",
              "  </div>\n",
              "  "
            ]
          },
          "metadata": {},
          "execution_count": 38
        }
      ],
      "source": [
        "# visualiser les données\n",
        "read_sample_from_data.head()"
      ]
    },
    {
      "cell_type": "markdown",
      "source": [
        "---\n",
        "\n",
        "#### `LIRE LES '100' PROCHAINES LIGNES`\n",
        "\n",
        "---"
      ],
      "metadata": {
        "id": "3Z2fn6cJAKf_"
      }
    },
    {
      "cell_type": "code",
      "source": [
        "data_100_200 = pd.read_csv(dataset_path+'big_mart_sales.csv',skiprows=101, nrows=100)\n"
      ],
      "metadata": {
        "id": "4CFDN2S8AWIR"
      },
      "execution_count": 41,
      "outputs": []
    },
    {
      "cell_type": "code",
      "source": [
        "data_100_200.head()"
      ],
      "metadata": {
        "colab": {
          "base_uri": "https://localhost:8080/",
          "height": 354
        },
        "id": "NHbrm5jZAtGY",
        "outputId": "578c73dc-4ca6-4f2d-dac3-1174305ac579"
      },
      "execution_count": 42,
      "outputs": [
        {
          "output_type": "execute_result",
          "data": {
            "text/plain": [
              "   FDT28   13.3  Low Fat  0.063695084 Frozen Foods  151.0708  OUT045  2002  \\\n",
              "0  FDD10    NaN  Regular     0.045798  Snack Foods  178.5344  OUT027  1985   \n",
              "1  FDW57   8.31  Regular     0.115857  Snack Foods  179.1028  OUT049  1999   \n",
              "2  DRB48  16.75  Regular     0.024833  Soft Drinks   38.7822  OUT013  1987   \n",
              "3  FDP09  19.75  Low Fat     0.034028  Snack Foods  212.0902  OUT018  2009   \n",
              "4  FDH14  17.10  Regular     0.046770       Canned  141.1838  OUT013  1987   \n",
              "\n",
              "  Unnamed: 8  Tier 2  Supermarket Type1  1805.6496  \n",
              "0     Medium  Tier 3  Supermarket Type3  2854.9504  \n",
              "1     Medium  Tier 1  Supermarket Type1  3896.2616  \n",
              "2       High  Tier 3  Supermarket Type1   667.7974  \n",
              "3     Medium  Tier 3  Supermarket Type2  3185.8530  \n",
              "4       High  Tier 3  Supermarket Type1  2247.7408  "
            ],
            "text/html": [
              "\n",
              "  <div id=\"df-043bbef7-873e-4fd0-8e63-e2896a9a09d6\">\n",
              "    <div class=\"colab-df-container\">\n",
              "      <div>\n",
              "<style scoped>\n",
              "    .dataframe tbody tr th:only-of-type {\n",
              "        vertical-align: middle;\n",
              "    }\n",
              "\n",
              "    .dataframe tbody tr th {\n",
              "        vertical-align: top;\n",
              "    }\n",
              "\n",
              "    .dataframe thead th {\n",
              "        text-align: right;\n",
              "    }\n",
              "</style>\n",
              "<table border=\"1\" class=\"dataframe\">\n",
              "  <thead>\n",
              "    <tr style=\"text-align: right;\">\n",
              "      <th></th>\n",
              "      <th>FDT28</th>\n",
              "      <th>13.3</th>\n",
              "      <th>Low Fat</th>\n",
              "      <th>0.063695084</th>\n",
              "      <th>Frozen Foods</th>\n",
              "      <th>151.0708</th>\n",
              "      <th>OUT045</th>\n",
              "      <th>2002</th>\n",
              "      <th>Unnamed: 8</th>\n",
              "      <th>Tier 2</th>\n",
              "      <th>Supermarket Type1</th>\n",
              "      <th>1805.6496</th>\n",
              "    </tr>\n",
              "  </thead>\n",
              "  <tbody>\n",
              "    <tr>\n",
              "      <th>0</th>\n",
              "      <td>FDD10</td>\n",
              "      <td>NaN</td>\n",
              "      <td>Regular</td>\n",
              "      <td>0.045798</td>\n",
              "      <td>Snack Foods</td>\n",
              "      <td>178.5344</td>\n",
              "      <td>OUT027</td>\n",
              "      <td>1985</td>\n",
              "      <td>Medium</td>\n",
              "      <td>Tier 3</td>\n",
              "      <td>Supermarket Type3</td>\n",
              "      <td>2854.9504</td>\n",
              "    </tr>\n",
              "    <tr>\n",
              "      <th>1</th>\n",
              "      <td>FDW57</td>\n",
              "      <td>8.31</td>\n",
              "      <td>Regular</td>\n",
              "      <td>0.115857</td>\n",
              "      <td>Snack Foods</td>\n",
              "      <td>179.1028</td>\n",
              "      <td>OUT049</td>\n",
              "      <td>1999</td>\n",
              "      <td>Medium</td>\n",
              "      <td>Tier 1</td>\n",
              "      <td>Supermarket Type1</td>\n",
              "      <td>3896.2616</td>\n",
              "    </tr>\n",
              "    <tr>\n",
              "      <th>2</th>\n",
              "      <td>DRB48</td>\n",
              "      <td>16.75</td>\n",
              "      <td>Regular</td>\n",
              "      <td>0.024833</td>\n",
              "      <td>Soft Drinks</td>\n",
              "      <td>38.7822</td>\n",
              "      <td>OUT013</td>\n",
              "      <td>1987</td>\n",
              "      <td>High</td>\n",
              "      <td>Tier 3</td>\n",
              "      <td>Supermarket Type1</td>\n",
              "      <td>667.7974</td>\n",
              "    </tr>\n",
              "    <tr>\n",
              "      <th>3</th>\n",
              "      <td>FDP09</td>\n",
              "      <td>19.75</td>\n",
              "      <td>Low Fat</td>\n",
              "      <td>0.034028</td>\n",
              "      <td>Snack Foods</td>\n",
              "      <td>212.0902</td>\n",
              "      <td>OUT018</td>\n",
              "      <td>2009</td>\n",
              "      <td>Medium</td>\n",
              "      <td>Tier 3</td>\n",
              "      <td>Supermarket Type2</td>\n",
              "      <td>3185.8530</td>\n",
              "    </tr>\n",
              "    <tr>\n",
              "      <th>4</th>\n",
              "      <td>FDH14</td>\n",
              "      <td>17.10</td>\n",
              "      <td>Regular</td>\n",
              "      <td>0.046770</td>\n",
              "      <td>Canned</td>\n",
              "      <td>141.1838</td>\n",
              "      <td>OUT013</td>\n",
              "      <td>1987</td>\n",
              "      <td>High</td>\n",
              "      <td>Tier 3</td>\n",
              "      <td>Supermarket Type1</td>\n",
              "      <td>2247.7408</td>\n",
              "    </tr>\n",
              "  </tbody>\n",
              "</table>\n",
              "</div>\n",
              "      <button class=\"colab-df-convert\" onclick=\"convertToInteractive('df-043bbef7-873e-4fd0-8e63-e2896a9a09d6')\"\n",
              "              title=\"Convert this dataframe to an interactive table.\"\n",
              "              style=\"display:none;\">\n",
              "        \n",
              "  <svg xmlns=\"http://www.w3.org/2000/svg\" height=\"24px\"viewBox=\"0 0 24 24\"\n",
              "       width=\"24px\">\n",
              "    <path d=\"M0 0h24v24H0V0z\" fill=\"none\"/>\n",
              "    <path d=\"M18.56 5.44l.94 2.06.94-2.06 2.06-.94-2.06-.94-.94-2.06-.94 2.06-2.06.94zm-11 1L8.5 8.5l.94-2.06 2.06-.94-2.06-.94L8.5 2.5l-.94 2.06-2.06.94zm10 10l.94 2.06.94-2.06 2.06-.94-2.06-.94-.94-2.06-.94 2.06-2.06.94z\"/><path d=\"M17.41 7.96l-1.37-1.37c-.4-.4-.92-.59-1.43-.59-.52 0-1.04.2-1.43.59L10.3 9.45l-7.72 7.72c-.78.78-.78 2.05 0 2.83L4 21.41c.39.39.9.59 1.41.59.51 0 1.02-.2 1.41-.59l7.78-7.78 2.81-2.81c.8-.78.8-2.07 0-2.86zM5.41 20L4 18.59l7.72-7.72 1.47 1.35L5.41 20z\"/>\n",
              "  </svg>\n",
              "      </button>\n",
              "      \n",
              "  <style>\n",
              "    .colab-df-container {\n",
              "      display:flex;\n",
              "      flex-wrap:wrap;\n",
              "      gap: 12px;\n",
              "    }\n",
              "\n",
              "    .colab-df-convert {\n",
              "      background-color: #E8F0FE;\n",
              "      border: none;\n",
              "      border-radius: 50%;\n",
              "      cursor: pointer;\n",
              "      display: none;\n",
              "      fill: #1967D2;\n",
              "      height: 32px;\n",
              "      padding: 0 0 0 0;\n",
              "      width: 32px;\n",
              "    }\n",
              "\n",
              "    .colab-df-convert:hover {\n",
              "      background-color: #E2EBFA;\n",
              "      box-shadow: 0px 1px 2px rgba(60, 64, 67, 0.3), 0px 1px 3px 1px rgba(60, 64, 67, 0.15);\n",
              "      fill: #174EA6;\n",
              "    }\n",
              "\n",
              "    [theme=dark] .colab-df-convert {\n",
              "      background-color: #3B4455;\n",
              "      fill: #D2E3FC;\n",
              "    }\n",
              "\n",
              "    [theme=dark] .colab-df-convert:hover {\n",
              "      background-color: #434B5C;\n",
              "      box-shadow: 0px 1px 3px 1px rgba(0, 0, 0, 0.15);\n",
              "      filter: drop-shadow(0px 1px 2px rgba(0, 0, 0, 0.3));\n",
              "      fill: #FFFFFF;\n",
              "    }\n",
              "  </style>\n",
              "\n",
              "      <script>\n",
              "        const buttonEl =\n",
              "          document.querySelector('#df-043bbef7-873e-4fd0-8e63-e2896a9a09d6 button.colab-df-convert');\n",
              "        buttonEl.style.display =\n",
              "          google.colab.kernel.accessAllowed ? 'block' : 'none';\n",
              "\n",
              "        async function convertToInteractive(key) {\n",
              "          const element = document.querySelector('#df-043bbef7-873e-4fd0-8e63-e2896a9a09d6');\n",
              "          const dataTable =\n",
              "            await google.colab.kernel.invokeFunction('convertToInteractive',\n",
              "                                                     [key], {});\n",
              "          if (!dataTable) return;\n",
              "\n",
              "          const docLinkHtml = 'Like what you see? Visit the ' +\n",
              "            '<a target=\"_blank\" href=https://colab.research.google.com/notebooks/data_table.ipynb>data table notebook</a>'\n",
              "            + ' to learn more about interactive tables.';\n",
              "          element.innerHTML = '';\n",
              "          dataTable['output_type'] = 'display_data';\n",
              "          await google.colab.output.renderOutput(dataTable, element);\n",
              "          const docLink = document.createElement('div');\n",
              "          docLink.innerHTML = docLinkHtml;\n",
              "          element.appendChild(docLink);\n",
              "        }\n",
              "      </script>\n",
              "    </div>\n",
              "  </div>\n",
              "  "
            ]
          },
          "metadata": {},
          "execution_count": 42
        }
      ]
    },
    {
      "cell_type": "markdown",
      "metadata": {
        "id": "4kZzYzvxHaxA"
      },
      "source": [
        "---\n",
        "\n",
        "#### `LIRE DES COLONNES SPECIFIQUES`\n",
        "\n",
        "\n",
        "- Si l'ensemble de données comporte un grand nombre de colonnes, il est impossible de toutes les parcourir en une seule fois, nous ne pouvons donc lire que des colonnes spécifiques à la fois.\n",
        "\n",
        "----"
      ]
    },
    {
      "cell_type": "code",
      "execution_count": 39,
      "metadata": {
        "id": "WNtU549XHaxB",
        "outputId": "6ba429d6-1d32-4b9f-81ee-f355edfea43b",
        "colab": {
          "base_uri": "https://localhost:8080/",
          "height": 424
        }
      },
      "outputs": [
        {
          "output_type": "execute_result",
          "data": {
            "text/plain": [
              "     Item_Identifier              Item_Type  Item_MRP  Item_Outlet_Sales\n",
              "0              FDA15                  Dairy  249.8092          3735.1380\n",
              "1              DRC01            Soft Drinks   48.2692           443.4228\n",
              "2              FDN15                   Meat  141.6180          2097.2700\n",
              "3              FDX07  Fruits and Vegetables  182.0950           732.3800\n",
              "4              NCD19              Household   53.8614           994.7052\n",
              "...              ...                    ...       ...                ...\n",
              "8518           FDF22            Snack Foods  214.5218          2778.3834\n",
              "8519           FDS36           Baking Goods  108.1570           549.2850\n",
              "8520           NCJ29     Health and Hygiene   85.1224          1193.1136\n",
              "8521           FDN46            Snack Foods  103.1332          1845.5976\n",
              "8522           DRG01            Soft Drinks   75.4670           765.6700\n",
              "\n",
              "[8523 rows x 4 columns]"
            ],
            "text/html": [
              "\n",
              "  <div id=\"df-f784f251-3085-499a-892d-f1fbf179e0de\">\n",
              "    <div class=\"colab-df-container\">\n",
              "      <div>\n",
              "<style scoped>\n",
              "    .dataframe tbody tr th:only-of-type {\n",
              "        vertical-align: middle;\n",
              "    }\n",
              "\n",
              "    .dataframe tbody tr th {\n",
              "        vertical-align: top;\n",
              "    }\n",
              "\n",
              "    .dataframe thead th {\n",
              "        text-align: right;\n",
              "    }\n",
              "</style>\n",
              "<table border=\"1\" class=\"dataframe\">\n",
              "  <thead>\n",
              "    <tr style=\"text-align: right;\">\n",
              "      <th></th>\n",
              "      <th>Item_Identifier</th>\n",
              "      <th>Item_Type</th>\n",
              "      <th>Item_MRP</th>\n",
              "      <th>Item_Outlet_Sales</th>\n",
              "    </tr>\n",
              "  </thead>\n",
              "  <tbody>\n",
              "    <tr>\n",
              "      <th>0</th>\n",
              "      <td>FDA15</td>\n",
              "      <td>Dairy</td>\n",
              "      <td>249.8092</td>\n",
              "      <td>3735.1380</td>\n",
              "    </tr>\n",
              "    <tr>\n",
              "      <th>1</th>\n",
              "      <td>DRC01</td>\n",
              "      <td>Soft Drinks</td>\n",
              "      <td>48.2692</td>\n",
              "      <td>443.4228</td>\n",
              "    </tr>\n",
              "    <tr>\n",
              "      <th>2</th>\n",
              "      <td>FDN15</td>\n",
              "      <td>Meat</td>\n",
              "      <td>141.6180</td>\n",
              "      <td>2097.2700</td>\n",
              "    </tr>\n",
              "    <tr>\n",
              "      <th>3</th>\n",
              "      <td>FDX07</td>\n",
              "      <td>Fruits and Vegetables</td>\n",
              "      <td>182.0950</td>\n",
              "      <td>732.3800</td>\n",
              "    </tr>\n",
              "    <tr>\n",
              "      <th>4</th>\n",
              "      <td>NCD19</td>\n",
              "      <td>Household</td>\n",
              "      <td>53.8614</td>\n",
              "      <td>994.7052</td>\n",
              "    </tr>\n",
              "    <tr>\n",
              "      <th>...</th>\n",
              "      <td>...</td>\n",
              "      <td>...</td>\n",
              "      <td>...</td>\n",
              "      <td>...</td>\n",
              "    </tr>\n",
              "    <tr>\n",
              "      <th>8518</th>\n",
              "      <td>FDF22</td>\n",
              "      <td>Snack Foods</td>\n",
              "      <td>214.5218</td>\n",
              "      <td>2778.3834</td>\n",
              "    </tr>\n",
              "    <tr>\n",
              "      <th>8519</th>\n",
              "      <td>FDS36</td>\n",
              "      <td>Baking Goods</td>\n",
              "      <td>108.1570</td>\n",
              "      <td>549.2850</td>\n",
              "    </tr>\n",
              "    <tr>\n",
              "      <th>8520</th>\n",
              "      <td>NCJ29</td>\n",
              "      <td>Health and Hygiene</td>\n",
              "      <td>85.1224</td>\n",
              "      <td>1193.1136</td>\n",
              "    </tr>\n",
              "    <tr>\n",
              "      <th>8521</th>\n",
              "      <td>FDN46</td>\n",
              "      <td>Snack Foods</td>\n",
              "      <td>103.1332</td>\n",
              "      <td>1845.5976</td>\n",
              "    </tr>\n",
              "    <tr>\n",
              "      <th>8522</th>\n",
              "      <td>DRG01</td>\n",
              "      <td>Soft Drinks</td>\n",
              "      <td>75.4670</td>\n",
              "      <td>765.6700</td>\n",
              "    </tr>\n",
              "  </tbody>\n",
              "</table>\n",
              "<p>8523 rows × 4 columns</p>\n",
              "</div>\n",
              "      <button class=\"colab-df-convert\" onclick=\"convertToInteractive('df-f784f251-3085-499a-892d-f1fbf179e0de')\"\n",
              "              title=\"Convert this dataframe to an interactive table.\"\n",
              "              style=\"display:none;\">\n",
              "        \n",
              "  <svg xmlns=\"http://www.w3.org/2000/svg\" height=\"24px\"viewBox=\"0 0 24 24\"\n",
              "       width=\"24px\">\n",
              "    <path d=\"M0 0h24v24H0V0z\" fill=\"none\"/>\n",
              "    <path d=\"M18.56 5.44l.94 2.06.94-2.06 2.06-.94-2.06-.94-.94-2.06-.94 2.06-2.06.94zm-11 1L8.5 8.5l.94-2.06 2.06-.94-2.06-.94L8.5 2.5l-.94 2.06-2.06.94zm10 10l.94 2.06.94-2.06 2.06-.94-2.06-.94-.94-2.06-.94 2.06-2.06.94z\"/><path d=\"M17.41 7.96l-1.37-1.37c-.4-.4-.92-.59-1.43-.59-.52 0-1.04.2-1.43.59L10.3 9.45l-7.72 7.72c-.78.78-.78 2.05 0 2.83L4 21.41c.39.39.9.59 1.41.59.51 0 1.02-.2 1.41-.59l7.78-7.78 2.81-2.81c.8-.78.8-2.07 0-2.86zM5.41 20L4 18.59l7.72-7.72 1.47 1.35L5.41 20z\"/>\n",
              "  </svg>\n",
              "      </button>\n",
              "      \n",
              "  <style>\n",
              "    .colab-df-container {\n",
              "      display:flex;\n",
              "      flex-wrap:wrap;\n",
              "      gap: 12px;\n",
              "    }\n",
              "\n",
              "    .colab-df-convert {\n",
              "      background-color: #E8F0FE;\n",
              "      border: none;\n",
              "      border-radius: 50%;\n",
              "      cursor: pointer;\n",
              "      display: none;\n",
              "      fill: #1967D2;\n",
              "      height: 32px;\n",
              "      padding: 0 0 0 0;\n",
              "      width: 32px;\n",
              "    }\n",
              "\n",
              "    .colab-df-convert:hover {\n",
              "      background-color: #E2EBFA;\n",
              "      box-shadow: 0px 1px 2px rgba(60, 64, 67, 0.3), 0px 1px 3px 1px rgba(60, 64, 67, 0.15);\n",
              "      fill: #174EA6;\n",
              "    }\n",
              "\n",
              "    [theme=dark] .colab-df-convert {\n",
              "      background-color: #3B4455;\n",
              "      fill: #D2E3FC;\n",
              "    }\n",
              "\n",
              "    [theme=dark] .colab-df-convert:hover {\n",
              "      background-color: #434B5C;\n",
              "      box-shadow: 0px 1px 3px 1px rgba(0, 0, 0, 0.15);\n",
              "      filter: drop-shadow(0px 1px 2px rgba(0, 0, 0, 0.3));\n",
              "      fill: #FFFFFF;\n",
              "    }\n",
              "  </style>\n",
              "\n",
              "      <script>\n",
              "        const buttonEl =\n",
              "          document.querySelector('#df-f784f251-3085-499a-892d-f1fbf179e0de button.colab-df-convert');\n",
              "        buttonEl.style.display =\n",
              "          google.colab.kernel.accessAllowed ? 'block' : 'none';\n",
              "\n",
              "        async function convertToInteractive(key) {\n",
              "          const element = document.querySelector('#df-f784f251-3085-499a-892d-f1fbf179e0de');\n",
              "          const dataTable =\n",
              "            await google.colab.kernel.invokeFunction('convertToInteractive',\n",
              "                                                     [key], {});\n",
              "          if (!dataTable) return;\n",
              "\n",
              "          const docLinkHtml = 'Like what you see? Visit the ' +\n",
              "            '<a target=\"_blank\" href=https://colab.research.google.com/notebooks/data_table.ipynb>data table notebook</a>'\n",
              "            + ' to learn more about interactive tables.';\n",
              "          element.innerHTML = '';\n",
              "          dataTable['output_type'] = 'display_data';\n",
              "          await google.colab.output.renderOutput(dataTable, element);\n",
              "          const docLink = document.createElement('div');\n",
              "          docLink.innerHTML = docLinkHtml;\n",
              "          element.appendChild(docLink);\n",
              "        }\n",
              "      </script>\n",
              "    </div>\n",
              "  </div>\n",
              "  "
            ]
          },
          "metadata": {},
          "execution_count": 39
        }
      ],
      "source": [
        "# Lire des colonnes specifiques\n",
        "read_specific_columns = pd.read_csv(dataset_path+ 'big_mart_sales.csv', usecols= ['Item_Identifier', \n",
        "                                                                             'Item_Type',\n",
        "                                                                             'Item_MRP',\n",
        "                                                                             'Item_Outlet_Sales'])\n",
        "read_specific_columns"
      ]
    },
    {
      "cell_type": "markdown",
      "metadata": {
        "id": "9l6FP1ywHaxJ"
      },
      "source": [
        "---\n",
        "\n",
        "\n",
        "### `GESTION LES DONNÉES VOLUMINEUSES AVEC PANDAS`\n",
        "\n",
        "Pour la plupart des tâches d'analyse de données, le package pandas de python  est suffisant. Nous pouvons faire toutes sortes de manipulations de données avec, et il est compatible avec la construction de modèles ML. Mais, à mesure que nos données deviennent plus volumineuses, plus volumineuses que ce qui peut tenir dans la RAM disponible, utiliser pandas ne suffisent pas.\n",
        "\n",
        "Nous pourrions utiliser Spark ou Hadoop pour résoudre ce problème, mais ceux-ci ne peuvent pas réellement fournir/fonctionner dans des environnements Python. \n",
        "\n",
        "Dans la suite, nous allons présenter quelques façons de travailler avec  pandas afin d'économiser de la mémoire et du temps tout en travaillant avec des données volumineuses.\n",
        "\n",
        "\n",
        "\n",
        "\n",
        "\n",
        "---"
      ]
    },
    {
      "cell_type": "markdown",
      "source": [
        "---\n",
        "\n",
        "#### `RENDRE PLUS RAPIDE LE PROCESSUS DE CHARGEMENT DES DONNÉES AVEC UN DATAFRAME PANDAS`\n",
        "\n",
        "- Utilisons cette fois-ci la plateforme Kaggle et telechargeons les données sur les accidents aux US en utilisant le package `opendatasets`\n",
        "\n",
        "- Essayons d'abord de charger l'intégralité de notre fichier csv dans une trame de données sans aucune optimisation"
      ],
      "metadata": {
        "id": "UNQhuZG2ECSN"
      }
    },
    {
      "cell_type": "code",
      "source": [
        "#installation de opendatasets. Redemarrage du noyau aprés installation\n",
        "!pip install opendatasets pandas-profiling --upgrade"
      ],
      "metadata": {
        "colab": {
          "base_uri": "https://localhost:8080/"
        },
        "id": "u2g_8cVXGtnJ",
        "outputId": "e2c487cd-95bc-4771-a0dd-94d49f338a4e"
      },
      "execution_count": 44,
      "outputs": [
        {
          "output_type": "stream",
          "name": "stdout",
          "text": [
            "Looking in indexes: https://pypi.org/simple, https://us-python.pkg.dev/colab-wheels/public/simple/\n",
            "Collecting opendatasets\n",
            "  Downloading opendatasets-0.1.22-py3-none-any.whl (15 kB)\n",
            "Requirement already satisfied: pandas-profiling in /usr/local/lib/python3.7/dist-packages (1.4.1)\n",
            "Collecting pandas-profiling\n",
            "  Downloading pandas_profiling-3.2.0-py2.py3-none-any.whl (262 kB)\n",
            "\u001b[K     |████████████████████████████████| 262 kB 4.3 MB/s \n",
            "\u001b[?25hRequirement already satisfied: kaggle in /usr/local/lib/python3.7/dist-packages (from opendatasets) (1.5.12)\n",
            "Requirement already satisfied: click in /usr/local/lib/python3.7/dist-packages (from opendatasets) (7.1.2)\n",
            "Requirement already satisfied: tqdm in /usr/local/lib/python3.7/dist-packages (from opendatasets) (4.64.0)\n",
            "Requirement already satisfied: pydantic>=1.8.1 in /usr/local/lib/python3.7/dist-packages (from pandas-profiling) (1.9.1)\n",
            "Requirement already satisfied: jinja2>=2.11.1 in /usr/local/lib/python3.7/dist-packages (from pandas-profiling) (2.11.3)\n",
            "Collecting PyYAML>=5.0.0\n",
            "  Downloading PyYAML-6.0-cp37-cp37m-manylinux_2_5_x86_64.manylinux1_x86_64.manylinux_2_12_x86_64.manylinux2010_x86_64.whl (596 kB)\n",
            "\u001b[K     |████████████████████████████████| 596 kB 52.1 MB/s \n",
            "\u001b[?25hRequirement already satisfied: missingno>=0.4.2 in /usr/local/lib/python3.7/dist-packages (from pandas-profiling) (0.5.1)\n",
            "Requirement already satisfied: seaborn>=0.10.1 in /usr/local/lib/python3.7/dist-packages (from pandas-profiling) (0.11.2)\n",
            "Collecting htmlmin>=0.1.12\n",
            "  Downloading htmlmin-0.1.12.tar.gz (19 kB)\n",
            "Collecting markupsafe~=2.1.1\n",
            "  Downloading MarkupSafe-2.1.1-cp37-cp37m-manylinux_2_17_x86_64.manylinux2014_x86_64.whl (25 kB)\n",
            "Requirement already satisfied: scipy>=1.4.1 in /usr/local/lib/python3.7/dist-packages (from pandas-profiling) (1.7.3)\n",
            "Collecting visions[type_image_path]==0.7.4\n",
            "  Downloading visions-0.7.4-py3-none-any.whl (102 kB)\n",
            "\u001b[K     |████████████████████████████████| 102 kB 10.4 MB/s \n",
            "\u001b[?25hRequirement already satisfied: pandas!=1.0.0,!=1.0.1,!=1.0.2,!=1.1.0,>=0.25.3 in /usr/local/lib/python3.7/dist-packages (from pandas-profiling) (1.3.5)\n",
            "Collecting tangled-up-in-unicode==0.2.0\n",
            "  Downloading tangled_up_in_unicode-0.2.0-py3-none-any.whl (4.7 MB)\n",
            "\u001b[K     |████████████████████████████████| 4.7 MB 40.8 MB/s \n",
            "\u001b[?25hCollecting multimethod>=1.4\n",
            "  Downloading multimethod-1.8-py3-none-any.whl (9.8 kB)\n",
            "Requirement already satisfied: numpy>=1.16.0 in /usr/local/lib/python3.7/dist-packages (from pandas-profiling) (1.21.6)\n",
            "Collecting requests>=2.24.0\n",
            "  Downloading requests-2.28.1-py3-none-any.whl (62 kB)\n",
            "\u001b[K     |████████████████████████████████| 62 kB 1.4 MB/s \n",
            "\u001b[?25hRequirement already satisfied: matplotlib>=3.2.0 in /usr/local/lib/python3.7/dist-packages (from pandas-profiling) (3.2.2)\n",
            "Collecting phik>=0.11.1\n",
            "  Downloading phik-0.12.2-cp37-cp37m-manylinux_2_17_x86_64.manylinux2014_x86_64.whl (690 kB)\n",
            "\u001b[K     |████████████████████████████████| 690 kB 24.8 MB/s \n",
            "\u001b[?25hRequirement already satisfied: joblib~=1.1.0 in /usr/local/lib/python3.7/dist-packages (from pandas-profiling) (1.1.0)\n",
            "Requirement already satisfied: attrs>=19.3.0 in /usr/local/lib/python3.7/dist-packages (from visions[type_image_path]==0.7.4->pandas-profiling) (21.4.0)\n",
            "Requirement already satisfied: networkx>=2.4 in /usr/local/lib/python3.7/dist-packages (from visions[type_image_path]==0.7.4->pandas-profiling) (2.6.3)\n",
            "Collecting imagehash\n",
            "  Downloading ImageHash-4.2.1.tar.gz (812 kB)\n",
            "\u001b[K     |████████████████████████████████| 812 kB 61.5 MB/s \n",
            "\u001b[?25hRequirement already satisfied: Pillow in /usr/local/lib/python3.7/dist-packages (from visions[type_image_path]==0.7.4->pandas-profiling) (7.1.2)\n",
            "Requirement already satisfied: kiwisolver>=1.0.1 in /usr/local/lib/python3.7/dist-packages (from matplotlib>=3.2.0->pandas-profiling) (1.4.4)\n",
            "Requirement already satisfied: python-dateutil>=2.1 in /usr/local/lib/python3.7/dist-packages (from matplotlib>=3.2.0->pandas-profiling) (2.8.2)\n",
            "Requirement already satisfied: pyparsing!=2.0.4,!=2.1.2,!=2.1.6,>=2.0.1 in /usr/local/lib/python3.7/dist-packages (from matplotlib>=3.2.0->pandas-profiling) (3.0.9)\n",
            "Requirement already satisfied: cycler>=0.10 in /usr/local/lib/python3.7/dist-packages (from matplotlib>=3.2.0->pandas-profiling) (0.11.0)\n",
            "Requirement already satisfied: typing-extensions in /usr/local/lib/python3.7/dist-packages (from kiwisolver>=1.0.1->matplotlib>=3.2.0->pandas-profiling) (4.1.1)\n",
            "Requirement already satisfied: pytz>=2017.3 in /usr/local/lib/python3.7/dist-packages (from pandas!=1.0.0,!=1.0.1,!=1.0.2,!=1.1.0,>=0.25.3->pandas-profiling) (2022.1)\n",
            "Requirement already satisfied: six>=1.5 in /usr/local/lib/python3.7/dist-packages (from python-dateutil>=2.1->matplotlib>=3.2.0->pandas-profiling) (1.15.0)\n",
            "Requirement already satisfied: idna<4,>=2.5 in /usr/local/lib/python3.7/dist-packages (from requests>=2.24.0->pandas-profiling) (2.10)\n",
            "Requirement already satisfied: certifi>=2017.4.17 in /usr/local/lib/python3.7/dist-packages (from requests>=2.24.0->pandas-profiling) (2022.6.15)\n",
            "Requirement already satisfied: urllib3<1.27,>=1.21.1 in /usr/local/lib/python3.7/dist-packages (from requests>=2.24.0->pandas-profiling) (1.24.3)\n",
            "Requirement already satisfied: charset-normalizer<3,>=2 in /usr/local/lib/python3.7/dist-packages (from requests>=2.24.0->pandas-profiling) (2.1.0)\n",
            "Requirement already satisfied: PyWavelets in /usr/local/lib/python3.7/dist-packages (from imagehash->visions[type_image_path]==0.7.4->pandas-profiling) (1.3.0)\n",
            "Requirement already satisfied: python-slugify in /usr/local/lib/python3.7/dist-packages (from kaggle->opendatasets) (6.1.2)\n",
            "Requirement already satisfied: text-unidecode>=1.3 in /usr/local/lib/python3.7/dist-packages (from python-slugify->kaggle->opendatasets) (1.3)\n",
            "Building wheels for collected packages: htmlmin, imagehash\n",
            "  Building wheel for htmlmin (setup.py) ... \u001b[?25l\u001b[?25hdone\n",
            "  Created wheel for htmlmin: filename=htmlmin-0.1.12-py3-none-any.whl size=27098 sha256=757437af65c4a15da21efe0e4fb7b15edc11a462e5ac0e4fe82d1177ffb8435f\n",
            "  Stored in directory: /root/.cache/pip/wheels/70/e1/52/5b14d250ba868768823940c3229e9950d201a26d0bd3ee8655\n",
            "  Building wheel for imagehash (setup.py) ... \u001b[?25l\u001b[?25hdone\n",
            "  Created wheel for imagehash: filename=ImageHash-4.2.1-py2.py3-none-any.whl size=295206 sha256=e6ea434bf7d64decb8d67a04dca35ca5af026c3638595fa8e52dbb011b63e80e\n",
            "  Stored in directory: /root/.cache/pip/wheels/4c/d5/59/5e3e297533ddb09407769762985d134135064c6831e29a914e\n",
            "Successfully built htmlmin imagehash\n",
            "Installing collected packages: tangled-up-in-unicode, multimethod, visions, requests, markupsafe, imagehash, PyYAML, phik, htmlmin, pandas-profiling, opendatasets\n",
            "  Attempting uninstall: requests\n",
            "    Found existing installation: requests 2.23.0\n",
            "    Uninstalling requests-2.23.0:\n",
            "      Successfully uninstalled requests-2.23.0\n",
            "  Attempting uninstall: markupsafe\n",
            "    Found existing installation: MarkupSafe 2.0.1\n",
            "    Uninstalling MarkupSafe-2.0.1:\n",
            "      Successfully uninstalled MarkupSafe-2.0.1\n",
            "  Attempting uninstall: PyYAML\n",
            "    Found existing installation: PyYAML 3.13\n",
            "    Uninstalling PyYAML-3.13:\n",
            "      Successfully uninstalled PyYAML-3.13\n",
            "  Attempting uninstall: pandas-profiling\n",
            "    Found existing installation: pandas-profiling 1.4.1\n",
            "    Uninstalling pandas-profiling-1.4.1:\n",
            "      Successfully uninstalled pandas-profiling-1.4.1\n",
            "\u001b[31mERROR: pip's dependency resolver does not currently take into account all the packages that are installed. This behaviour is the source of the following dependency conflicts.\n",
            "google-colab 1.0.0 requires requests~=2.23.0, but you have requests 2.28.1 which is incompatible.\n",
            "datascience 0.10.6 requires folium==0.2.1, but you have folium 0.8.3 which is incompatible.\u001b[0m\n",
            "Successfully installed PyYAML-6.0 htmlmin-0.1.12 imagehash-4.2.1 markupsafe-2.1.1 multimethod-1.8 opendatasets-0.1.22 pandas-profiling-3.2.0 phik-0.12.2 requests-2.28.1 tangled-up-in-unicode-0.2.0 visions-0.7.4\n"
          ]
        }
      ]
    },
    {
      "cell_type": "code",
      "source": [
        "# Cette librairie permet d'importer des fichiers à partir du drive, de kaggle ou de n'importe quel url\n",
        "import opendatasets as od"
      ],
      "metadata": {
        "id": "vTebR5_uGZot"
      },
      "execution_count": 45,
      "outputs": []
    },
    {
      "cell_type": "code",
      "source": [
        "# url des données sous kaggle\n",
        "dataset_url = 'https://www.kaggle.com/datasets/sobhanmoosavi/us-accidents'"
      ],
      "metadata": {
        "id": "J-uoHVCrHAF8"
      },
      "execution_count": 48,
      "outputs": []
    },
    {
      "cell_type": "code",
      "source": [
        "# Repertoire contenant les données\n",
        "data_dir = 'us-accidents'"
      ],
      "metadata": {
        "id": "2Zo9W8X-HOx8"
      },
      "execution_count": 49,
      "outputs": []
    },
    {
      "cell_type": "markdown",
      "source": [
        "**Étapes impliquées dans l'utilisation d'opendatasets :**\n",
        "\n",
        "* Mentionnez l'url de l'ensemble de données dans une variable.\n",
        "\n",
        "* Importez la bibliothèque de jeux de données après l'avoir installée.\n",
        "\n",
        "\n",
        "* Utilisez les fonctions **download** ou **download_kaggle_dataset**.\n",
        "Colab vous demandera le nom d'utilisateur et la clé kaggle que vous trouverez sur votre profil kaggle.\n"
      ],
      "metadata": {
        "id": "DjNcjbTRHpEd"
      }
    },
    {
      "cell_type": "code",
      "source": [
        "# Telechargement des données. Colab vous demandera votre nom et clé dans kaggle\n",
        "od.download(dataset_url)"
      ],
      "metadata": {
        "colab": {
          "base_uri": "https://localhost:8080/"
        },
        "id": "NGTkCagbHIEh",
        "outputId": "067509bb-4b12-4205-8848-9738e669b99f"
      },
      "execution_count": 53,
      "outputs": [
        {
          "output_type": "stream",
          "name": "stdout",
          "text": [
            "Please provide your Kaggle credentials to download this dataset. Learn more: http://bit.ly/kaggle-creds\n",
            "Your Kaggle username: mbousso\n",
            "Your Kaggle Key: ··········\n",
            "Downloading us-accidents.zip to ./us-accidents\n"
          ]
        },
        {
          "output_type": "stream",
          "name": "stderr",
          "text": [
            "100%|██████████| 269M/269M [00:01<00:00, 166MB/s]\n"
          ]
        },
        {
          "output_type": "stream",
          "name": "stdout",
          "text": [
            "\n"
          ]
        }
      ]
    },
    {
      "cell_type": "code",
      "source": [
        "#verifions que les données ont été téléchargées\n",
        "!ls -a"
      ],
      "metadata": {
        "colab": {
          "base_uri": "https://localhost:8080/"
        },
        "id": "M5LIIfjUIWHt",
        "outputId": "6bea6f2d-a0d2-4bc8-e07f-d9a17641b0d1"
      },
      "execution_count": 54,
      "outputs": [
        {
          "output_type": "stream",
          "name": "stdout",
          "text": [
            ".  ..  .config\tdrive  .ipynb_checkpoints  sample_data\tus-accidents\n"
          ]
        }
      ]
    },
    {
      "cell_type": "code",
      "source": [
        "# Mettons le chemin dans une variable\n",
        "data_acc_path = '/content/us-accidents'"
      ],
      "metadata": {
        "id": "D7qsNdJIJS59"
      },
      "execution_count": 57,
      "outputs": []
    },
    {
      "cell_type": "code",
      "source": [
        "# Ajoutons le chemin à sys.path\n",
        "sys.path.append(data_acc_path)"
      ],
      "metadata": {
        "id": "J0ObYbSeJ8-1"
      },
      "execution_count": 58,
      "outputs": []
    },
    {
      "cell_type": "markdown",
      "source": [
        "---\n",
        "\n",
        "##### `MESURONS LE TEMPS DE CHARGEMENT DES DONNEES D'ACCIDENT AVEC PANDAS`\n",
        "\n",
        "- Utilisons la fonction time\n",
        "---"
      ],
      "metadata": {
        "id": "3Z_dnqZAKUyg"
      }
    },
    {
      "cell_type": "code",
      "source": [
        "%%time\n",
        "\n",
        "data_acc_df = pd.read_csv(data_acc_path+'/US_Accidents_Dec21_updated.csv')\n",
        "print(\"Dimension du dataframe\",data_acc_df.shape)"
      ],
      "metadata": {
        "colab": {
          "base_uri": "https://localhost:8080/"
        },
        "id": "qvEQof-LK-2y",
        "outputId": "4f29bb57-2a5b-46d0-f9d4-7f51e4957133"
      },
      "execution_count": 60,
      "outputs": [
        {
          "output_type": "stream",
          "name": "stdout",
          "text": [
            "Taille du dataframe (2845342, 47)\n",
            "CPU times: user 26.9 s, sys: 4.65 s, total: 31.5 s\n",
            "Wall time: 31.9 s\n"
          ]
        }
      ]
    },
    {
      "cell_type": "markdown",
      "source": [
        "**Pandas prend à peu prés 32 s pour charger 269 M de données dans un dataframe**"
      ],
      "metadata": {
        "id": "2W2pDxFmMFhe"
      }
    },
    {
      "cell_type": "code",
      "source": [
        "data_acc_df.head()"
      ],
      "metadata": {
        "colab": {
          "base_uri": "https://localhost:8080/",
          "height": 508
        },
        "id": "Dlm3LqDdQS8V",
        "outputId": "4c951854-dfd9-45a1-d4d6-d4b2a5f6f862"
      },
      "execution_count": 61,
      "outputs": [
        {
          "output_type": "execute_result",
          "data": {
            "text/plain": [
              "    ID  Severity           Start_Time             End_Time  Start_Lat  \\\n",
              "0  A-1         3  2016-02-08 00:37:08  2016-02-08 06:37:08  40.108910   \n",
              "1  A-2         2  2016-02-08 05:56:20  2016-02-08 11:56:20  39.865420   \n",
              "2  A-3         2  2016-02-08 06:15:39  2016-02-08 12:15:39  39.102660   \n",
              "3  A-4         2  2016-02-08 06:51:45  2016-02-08 12:51:45  41.062130   \n",
              "4  A-5         3  2016-02-08 07:53:43  2016-02-08 13:53:43  39.172393   \n",
              "\n",
              "   Start_Lng    End_Lat    End_Lng  Distance(mi)  \\\n",
              "0 -83.092860  40.112060 -83.031870         3.230   \n",
              "1 -84.062800  39.865010 -84.048730         0.747   \n",
              "2 -84.524680  39.102090 -84.523960         0.055   \n",
              "3 -81.537840  41.062170 -81.535470         0.123   \n",
              "4 -84.492792  39.170476 -84.501798         0.500   \n",
              "\n",
              "                                         Description  ...  Roundabout Station  \\\n",
              "0  Between Sawmill Rd/Exit 20 and OH-315/Olentang...  ...       False   False   \n",
              "1                 At OH-4/OH-235/Exit 41 - Accident.  ...       False   False   \n",
              "2                   At I-71/US-50/Exit 1 - Accident.  ...       False   False   \n",
              "3                    At Dart Ave/Exit 21 - Accident.  ...       False   False   \n",
              "4                 At Mitchell Ave/Exit 6 - Accident.  ...       False   False   \n",
              "\n",
              "    Stop Traffic_Calming Traffic_Signal Turning_Loop Sunrise_Sunset  \\\n",
              "0  False           False          False        False          Night   \n",
              "1  False           False          False        False          Night   \n",
              "2  False           False          False        False          Night   \n",
              "3  False           False          False        False          Night   \n",
              "4  False           False          False        False            Day   \n",
              "\n",
              "  Civil_Twilight Nautical_Twilight Astronomical_Twilight  \n",
              "0          Night             Night                 Night  \n",
              "1          Night             Night                 Night  \n",
              "2          Night             Night                   Day  \n",
              "3          Night               Day                   Day  \n",
              "4            Day               Day                   Day  \n",
              "\n",
              "[5 rows x 47 columns]"
            ],
            "text/html": [
              "\n",
              "  <div id=\"df-c6083d5f-dea7-4f73-8a0d-e759eb4aaea2\">\n",
              "    <div class=\"colab-df-container\">\n",
              "      <div>\n",
              "<style scoped>\n",
              "    .dataframe tbody tr th:only-of-type {\n",
              "        vertical-align: middle;\n",
              "    }\n",
              "\n",
              "    .dataframe tbody tr th {\n",
              "        vertical-align: top;\n",
              "    }\n",
              "\n",
              "    .dataframe thead th {\n",
              "        text-align: right;\n",
              "    }\n",
              "</style>\n",
              "<table border=\"1\" class=\"dataframe\">\n",
              "  <thead>\n",
              "    <tr style=\"text-align: right;\">\n",
              "      <th></th>\n",
              "      <th>ID</th>\n",
              "      <th>Severity</th>\n",
              "      <th>Start_Time</th>\n",
              "      <th>End_Time</th>\n",
              "      <th>Start_Lat</th>\n",
              "      <th>Start_Lng</th>\n",
              "      <th>End_Lat</th>\n",
              "      <th>End_Lng</th>\n",
              "      <th>Distance(mi)</th>\n",
              "      <th>Description</th>\n",
              "      <th>...</th>\n",
              "      <th>Roundabout</th>\n",
              "      <th>Station</th>\n",
              "      <th>Stop</th>\n",
              "      <th>Traffic_Calming</th>\n",
              "      <th>Traffic_Signal</th>\n",
              "      <th>Turning_Loop</th>\n",
              "      <th>Sunrise_Sunset</th>\n",
              "      <th>Civil_Twilight</th>\n",
              "      <th>Nautical_Twilight</th>\n",
              "      <th>Astronomical_Twilight</th>\n",
              "    </tr>\n",
              "  </thead>\n",
              "  <tbody>\n",
              "    <tr>\n",
              "      <th>0</th>\n",
              "      <td>A-1</td>\n",
              "      <td>3</td>\n",
              "      <td>2016-02-08 00:37:08</td>\n",
              "      <td>2016-02-08 06:37:08</td>\n",
              "      <td>40.108910</td>\n",
              "      <td>-83.092860</td>\n",
              "      <td>40.112060</td>\n",
              "      <td>-83.031870</td>\n",
              "      <td>3.230</td>\n",
              "      <td>Between Sawmill Rd/Exit 20 and OH-315/Olentang...</td>\n",
              "      <td>...</td>\n",
              "      <td>False</td>\n",
              "      <td>False</td>\n",
              "      <td>False</td>\n",
              "      <td>False</td>\n",
              "      <td>False</td>\n",
              "      <td>False</td>\n",
              "      <td>Night</td>\n",
              "      <td>Night</td>\n",
              "      <td>Night</td>\n",
              "      <td>Night</td>\n",
              "    </tr>\n",
              "    <tr>\n",
              "      <th>1</th>\n",
              "      <td>A-2</td>\n",
              "      <td>2</td>\n",
              "      <td>2016-02-08 05:56:20</td>\n",
              "      <td>2016-02-08 11:56:20</td>\n",
              "      <td>39.865420</td>\n",
              "      <td>-84.062800</td>\n",
              "      <td>39.865010</td>\n",
              "      <td>-84.048730</td>\n",
              "      <td>0.747</td>\n",
              "      <td>At OH-4/OH-235/Exit 41 - Accident.</td>\n",
              "      <td>...</td>\n",
              "      <td>False</td>\n",
              "      <td>False</td>\n",
              "      <td>False</td>\n",
              "      <td>False</td>\n",
              "      <td>False</td>\n",
              "      <td>False</td>\n",
              "      <td>Night</td>\n",
              "      <td>Night</td>\n",
              "      <td>Night</td>\n",
              "      <td>Night</td>\n",
              "    </tr>\n",
              "    <tr>\n",
              "      <th>2</th>\n",
              "      <td>A-3</td>\n",
              "      <td>2</td>\n",
              "      <td>2016-02-08 06:15:39</td>\n",
              "      <td>2016-02-08 12:15:39</td>\n",
              "      <td>39.102660</td>\n",
              "      <td>-84.524680</td>\n",
              "      <td>39.102090</td>\n",
              "      <td>-84.523960</td>\n",
              "      <td>0.055</td>\n",
              "      <td>At I-71/US-50/Exit 1 - Accident.</td>\n",
              "      <td>...</td>\n",
              "      <td>False</td>\n",
              "      <td>False</td>\n",
              "      <td>False</td>\n",
              "      <td>False</td>\n",
              "      <td>False</td>\n",
              "      <td>False</td>\n",
              "      <td>Night</td>\n",
              "      <td>Night</td>\n",
              "      <td>Night</td>\n",
              "      <td>Day</td>\n",
              "    </tr>\n",
              "    <tr>\n",
              "      <th>3</th>\n",
              "      <td>A-4</td>\n",
              "      <td>2</td>\n",
              "      <td>2016-02-08 06:51:45</td>\n",
              "      <td>2016-02-08 12:51:45</td>\n",
              "      <td>41.062130</td>\n",
              "      <td>-81.537840</td>\n",
              "      <td>41.062170</td>\n",
              "      <td>-81.535470</td>\n",
              "      <td>0.123</td>\n",
              "      <td>At Dart Ave/Exit 21 - Accident.</td>\n",
              "      <td>...</td>\n",
              "      <td>False</td>\n",
              "      <td>False</td>\n",
              "      <td>False</td>\n",
              "      <td>False</td>\n",
              "      <td>False</td>\n",
              "      <td>False</td>\n",
              "      <td>Night</td>\n",
              "      <td>Night</td>\n",
              "      <td>Day</td>\n",
              "      <td>Day</td>\n",
              "    </tr>\n",
              "    <tr>\n",
              "      <th>4</th>\n",
              "      <td>A-5</td>\n",
              "      <td>3</td>\n",
              "      <td>2016-02-08 07:53:43</td>\n",
              "      <td>2016-02-08 13:53:43</td>\n",
              "      <td>39.172393</td>\n",
              "      <td>-84.492792</td>\n",
              "      <td>39.170476</td>\n",
              "      <td>-84.501798</td>\n",
              "      <td>0.500</td>\n",
              "      <td>At Mitchell Ave/Exit 6 - Accident.</td>\n",
              "      <td>...</td>\n",
              "      <td>False</td>\n",
              "      <td>False</td>\n",
              "      <td>False</td>\n",
              "      <td>False</td>\n",
              "      <td>False</td>\n",
              "      <td>False</td>\n",
              "      <td>Day</td>\n",
              "      <td>Day</td>\n",
              "      <td>Day</td>\n",
              "      <td>Day</td>\n",
              "    </tr>\n",
              "  </tbody>\n",
              "</table>\n",
              "<p>5 rows × 47 columns</p>\n",
              "</div>\n",
              "      <button class=\"colab-df-convert\" onclick=\"convertToInteractive('df-c6083d5f-dea7-4f73-8a0d-e759eb4aaea2')\"\n",
              "              title=\"Convert this dataframe to an interactive table.\"\n",
              "              style=\"display:none;\">\n",
              "        \n",
              "  <svg xmlns=\"http://www.w3.org/2000/svg\" height=\"24px\"viewBox=\"0 0 24 24\"\n",
              "       width=\"24px\">\n",
              "    <path d=\"M0 0h24v24H0V0z\" fill=\"none\"/>\n",
              "    <path d=\"M18.56 5.44l.94 2.06.94-2.06 2.06-.94-2.06-.94-.94-2.06-.94 2.06-2.06.94zm-11 1L8.5 8.5l.94-2.06 2.06-.94-2.06-.94L8.5 2.5l-.94 2.06-2.06.94zm10 10l.94 2.06.94-2.06 2.06-.94-2.06-.94-.94-2.06-.94 2.06-2.06.94z\"/><path d=\"M17.41 7.96l-1.37-1.37c-.4-.4-.92-.59-1.43-.59-.52 0-1.04.2-1.43.59L10.3 9.45l-7.72 7.72c-.78.78-.78 2.05 0 2.83L4 21.41c.39.39.9.59 1.41.59.51 0 1.02-.2 1.41-.59l7.78-7.78 2.81-2.81c.8-.78.8-2.07 0-2.86zM5.41 20L4 18.59l7.72-7.72 1.47 1.35L5.41 20z\"/>\n",
              "  </svg>\n",
              "      </button>\n",
              "      \n",
              "  <style>\n",
              "    .colab-df-container {\n",
              "      display:flex;\n",
              "      flex-wrap:wrap;\n",
              "      gap: 12px;\n",
              "    }\n",
              "\n",
              "    .colab-df-convert {\n",
              "      background-color: #E8F0FE;\n",
              "      border: none;\n",
              "      border-radius: 50%;\n",
              "      cursor: pointer;\n",
              "      display: none;\n",
              "      fill: #1967D2;\n",
              "      height: 32px;\n",
              "      padding: 0 0 0 0;\n",
              "      width: 32px;\n",
              "    }\n",
              "\n",
              "    .colab-df-convert:hover {\n",
              "      background-color: #E2EBFA;\n",
              "      box-shadow: 0px 1px 2px rgba(60, 64, 67, 0.3), 0px 1px 3px 1px rgba(60, 64, 67, 0.15);\n",
              "      fill: #174EA6;\n",
              "    }\n",
              "\n",
              "    [theme=dark] .colab-df-convert {\n",
              "      background-color: #3B4455;\n",
              "      fill: #D2E3FC;\n",
              "    }\n",
              "\n",
              "    [theme=dark] .colab-df-convert:hover {\n",
              "      background-color: #434B5C;\n",
              "      box-shadow: 0px 1px 3px 1px rgba(0, 0, 0, 0.15);\n",
              "      filter: drop-shadow(0px 1px 2px rgba(0, 0, 0, 0.3));\n",
              "      fill: #FFFFFF;\n",
              "    }\n",
              "  </style>\n",
              "\n",
              "      <script>\n",
              "        const buttonEl =\n",
              "          document.querySelector('#df-c6083d5f-dea7-4f73-8a0d-e759eb4aaea2 button.colab-df-convert');\n",
              "        buttonEl.style.display =\n",
              "          google.colab.kernel.accessAllowed ? 'block' : 'none';\n",
              "\n",
              "        async function convertToInteractive(key) {\n",
              "          const element = document.querySelector('#df-c6083d5f-dea7-4f73-8a0d-e759eb4aaea2');\n",
              "          const dataTable =\n",
              "            await google.colab.kernel.invokeFunction('convertToInteractive',\n",
              "                                                     [key], {});\n",
              "          if (!dataTable) return;\n",
              "\n",
              "          const docLinkHtml = 'Like what you see? Visit the ' +\n",
              "            '<a target=\"_blank\" href=https://colab.research.google.com/notebooks/data_table.ipynb>data table notebook</a>'\n",
              "            + ' to learn more about interactive tables.';\n",
              "          element.innerHTML = '';\n",
              "          dataTable['output_type'] = 'display_data';\n",
              "          await google.colab.output.renderOutput(dataTable, element);\n",
              "          const docLink = document.createElement('div');\n",
              "          docLink.innerHTML = docLinkHtml;\n",
              "          element.appendChild(docLink);\n",
              "        }\n",
              "      </script>\n",
              "    </div>\n",
              "  </div>\n",
              "  "
            ]
          },
          "metadata": {},
          "execution_count": 61
        }
      ]
    },
    {
      "cell_type": "markdown",
      "source": [
        "---\n",
        "##### ALLOCATION DE MEMOIRE PAR DEFAUT DANS PANDAS\n",
        "\n",
        "Par défaut, pandas déduit les types de données des colonnes de notre ensemble de données de la manière la plus simple et cela entraîne souvent une utilisation inutile de la mémoire pour la trame de données pandas, en particulier pour les colonnes de données textuelles avec relativement peu de valeurs uniques. L'une des façons d'utiliser  pandas pour mettre à l'échelle vos données en mémoire est la compression sans perte en essayant de prédéfinir des types de données optimaux pour nos colonnes en fonction de la connaissance préalable de l'ensemble de données ou de l'inspection de l'échantillon. \n",
        "\n",
        "De cette façon, nous pouvons stocker de plus grands ensembles de données en mémoire.\n",
        "\n",
        "---"
      ],
      "metadata": {
        "id": "XkpKnQBrQd9v"
      }
    },
    {
      "cell_type": "code",
      "source": [
        "# On visualise les types affectés à chaque colonne\n",
        "data_acc_df.dtypes"
      ],
      "metadata": {
        "colab": {
          "base_uri": "https://localhost:8080/"
        },
        "id": "gn43srwhRZkw",
        "outputId": "2a8d90bd-33a3-4bf5-e091-ffd0987e94cd"
      },
      "execution_count": 62,
      "outputs": [
        {
          "output_type": "execute_result",
          "data": {
            "text/plain": [
              "ID                        object\n",
              "Severity                   int64\n",
              "Start_Time                object\n",
              "End_Time                  object\n",
              "Start_Lat                float64\n",
              "Start_Lng                float64\n",
              "End_Lat                  float64\n",
              "End_Lng                  float64\n",
              "Distance(mi)             float64\n",
              "Description               object\n",
              "Number                   float64\n",
              "Street                    object\n",
              "Side                      object\n",
              "City                      object\n",
              "County                    object\n",
              "State                     object\n",
              "Zipcode                   object\n",
              "Country                   object\n",
              "Timezone                  object\n",
              "Airport_Code              object\n",
              "Weather_Timestamp         object\n",
              "Temperature(F)           float64\n",
              "Wind_Chill(F)            float64\n",
              "Humidity(%)              float64\n",
              "Pressure(in)             float64\n",
              "Visibility(mi)           float64\n",
              "Wind_Direction            object\n",
              "Wind_Speed(mph)          float64\n",
              "Precipitation(in)        float64\n",
              "Weather_Condition         object\n",
              "Amenity                     bool\n",
              "Bump                        bool\n",
              "Crossing                    bool\n",
              "Give_Way                    bool\n",
              "Junction                    bool\n",
              "No_Exit                     bool\n",
              "Railway                     bool\n",
              "Roundabout                  bool\n",
              "Station                     bool\n",
              "Stop                        bool\n",
              "Traffic_Calming             bool\n",
              "Traffic_Signal              bool\n",
              "Turning_Loop                bool\n",
              "Sunrise_Sunset            object\n",
              "Civil_Twilight            object\n",
              "Nautical_Twilight         object\n",
              "Astronomical_Twilight     object\n",
              "dtype: object"
            ]
          },
          "metadata": {},
          "execution_count": 62
        }
      ]
    },
    {
      "cell_type": "code",
      "source": [
        "# La taille de meoire affectée à chaque colonne\n",
        "data_acc_df.memory_usage(deep = True)"
      ],
      "metadata": {
        "colab": {
          "base_uri": "https://localhost:8080/"
        },
        "id": "d055wy3nRu0b",
        "outputId": "09ade90b-13a9-48a5-a626-0e8b65332595"
      },
      "execution_count": 63,
      "outputs": [
        {
          "output_type": "execute_result",
          "data": {
            "text/plain": [
              "Index                          128\n",
              "ID                       186681468\n",
              "Severity                  22762736\n",
              "Start_Time               219020588\n",
              "End_Time                 219020588\n",
              "Start_Lat                 22762736\n",
              "Start_Lng                 22762736\n",
              "End_Lat                   22762736\n",
              "End_Lng                   22762736\n",
              "Distance(mi)              22762736\n",
              "Description              351767603\n",
              "Number                    22762736\n",
              "Street                   193972430\n",
              "Side                     165029836\n",
              "City                     187248751\n",
              "County                   185507815\n",
              "State                    167875178\n",
              "Zipcode                  180380959\n",
              "Country                  167875178\n",
              "Timezone                 190674446\n",
              "Airport_Code             173288941\n",
              "Weather_Timestamp        214013608\n",
              "Temperature(F)            22762736\n",
              "Wind_Chill(F)             22762736\n",
              "Humidity(%)               22762736\n",
              "Pressure(in)              22762736\n",
              "Visibility(mi)            22762736\n",
              "Wind_Direction           167847067\n",
              "Wind_Speed(mph)           22762736\n",
              "Precipitation(in)         22762736\n",
              "Weather_Condition        180900337\n",
              "Amenity                    2845342\n",
              "Bump                       2845342\n",
              "Crossing                   2845342\n",
              "Give_Way                   2845342\n",
              "Junction                   2845342\n",
              "No_Exit                    2845342\n",
              "Railway                    2845342\n",
              "Roundabout                 2845342\n",
              "Station                    2845342\n",
              "Stop                       2845342\n",
              "Traffic_Calming            2845342\n",
              "Traffic_Signal             2845342\n",
              "Turning_Loop               2845342\n",
              "Sunrise_Sunset           172701324\n",
              "Civil_Twilight           172466988\n",
              "Nautical_Twilight        172198250\n",
              "Astronomical_Twilight    171971228\n",
              "dtype: int64"
            ]
          },
          "metadata": {},
          "execution_count": 63
        }
      ]
    },
    {
      "cell_type": "markdown",
      "source": [
        "**Toutes les données de type object occupent plus de place que les autres et pourtant certains sont juste des données catégorielles.**\n",
        "\n",
        "**Redéfinir un dataframe pandas en fournissant explicitement des types de données pour certaines colonnes ou en modifiant les types de données pour d'autres.**"
      ],
      "metadata": {
        "id": "ishlbPBcRYi6"
      }
    },
    {
      "cell_type": "code",
      "source": [
        "data_acc_df2 = data_acc_df.copy()\n",
        "\n",
        "#cat pour toutes les données categorielles\n",
        "cat = ['Street', 'Side', 'City', 'County', 'State','Zipcode','Country', 'Timezone', 'Airport_Code','Wind_Direction','Weather_Condition', 'Sunrise_Sunset','Civil_Twilight','Nautical_Twilight','Astronomical_Twilight']\n",
        "data_acc_df2[cat] = data_acc_df2[cat].astype(\"category\")"
      ],
      "metadata": {
        "id": "FaDwYQl_Xf69"
      },
      "execution_count": 65,
      "outputs": []
    },
    {
      "cell_type": "markdown",
      "source": [
        "---\n",
        "##### `GAGNER EN TEMPS AVEC LES DONNEES DE TYPE DATETIME`\n",
        "\n",
        "Si aucun argument n'est spécifié, les données de type **date et temps** seront de type objet. Ce n'est pas idéal. object est un conteneur non seulement pour str, mais pour toute colonne qui ne peut pas parfaitement tenir dans un type de données. \n",
        "\n",
        "Il est inefficace de travailler avec des dates sous forme de chaînes. (Ce serait également inefficace en mémoire.) Transformons les colonnes **date et temps** des objets **datetime**. (Horodatage)\n",
        "\n",
        "---"
      ],
      "metadata": {
        "id": "8Fk1UxKCYixv"
      }
    },
    {
      "cell_type": "code",
      "source": [
        "dtime = ['Start_Time','End_Time','Weather_Timestamp']\n",
        "data_acc_df2[dtime] = data_acc_df2[dtime].apply(pd.to_datetime, format='%d/%m/%y %H:%M')"
      ],
      "metadata": {
        "id": "s-NfPXPMYO-V"
      },
      "execution_count": 67,
      "outputs": []
    },
    {
      "cell_type": "markdown",
      "source": [
        "**En règle générale, Pandas sera d'autant plus rapide qu'il aura moins à interpréter vos données. Dans ce cas, vous verrez d'énormes améliorations de vitesse simplement en indiquant à Pandas à quoi ressemblent vos données d'heure et de date, en utilisant le paramètre de format.**\n",
        "\n",
        "**Vous pouvez trouver les codes de format en utilisant ce [lien](https://strftime.org/)**"
      ],
      "metadata": {
        "id": "AOjV-dLuaTrF"
      }
    },
    {
      "cell_type": "markdown",
      "source": [
        "---\n",
        "##### `TRANSFORMATION DES COLONNES NUMERIQUES`\n",
        "\n",
        "Caster les colonnes numeriques à leurs plus petits types.\n",
        "\n",
        "\n",
        "\n",
        "---"
      ],
      "metadata": {
        "id": "iQ3CTSiAbH5I"
      }
    },
    {
      "cell_type": "code",
      "source": [
        "numeric = ['Start_Lat',\t'Start_Lng',\t'End_Lat',\t'End_Lng',\t'Distance(mi)','Number', 'Temperature(F)',\t'Wind_Chill(F)',\t'Humidity(%)',\t'Pressure(in)',\t'Visibility(mi)','Wind_Speed(mph)',\t'Precipitation(in)']\n",
        "data_acc_df2[numeric] = data_acc_df2[numeric].apply(pd.to_numeric, downcast=\"float\")\n"
      ],
      "metadata": {
        "id": "DgGB69IAbsl5"
      },
      "execution_count": 69,
      "outputs": []
    },
    {
      "cell_type": "code",
      "source": [
        "data_acc_df2.dtypes"
      ],
      "metadata": {
        "colab": {
          "base_uri": "https://localhost:8080/"
        },
        "id": "ezmuPBRicKsW",
        "outputId": "9407b0be-ecce-4c36-a502-751d5d022999"
      },
      "execution_count": 70,
      "outputs": [
        {
          "output_type": "execute_result",
          "data": {
            "text/plain": [
              "ID                               object\n",
              "Severity                          int64\n",
              "Start_Time               datetime64[ns]\n",
              "End_Time                 datetime64[ns]\n",
              "Start_Lat                       float32\n",
              "Start_Lng                       float32\n",
              "End_Lat                         float32\n",
              "End_Lng                         float32\n",
              "Distance(mi)                    float32\n",
              "Description                      object\n",
              "Number                          float32\n",
              "Street                         category\n",
              "Side                           category\n",
              "City                           category\n",
              "County                         category\n",
              "State                          category\n",
              "Zipcode                        category\n",
              "Country                        category\n",
              "Timezone                       category\n",
              "Airport_Code                   category\n",
              "Weather_Timestamp        datetime64[ns]\n",
              "Temperature(F)                  float32\n",
              "Wind_Chill(F)                   float32\n",
              "Humidity(%)                     float32\n",
              "Pressure(in)                    float32\n",
              "Visibility(mi)                  float32\n",
              "Wind_Direction                 category\n",
              "Wind_Speed(mph)                 float32\n",
              "Precipitation(in)               float32\n",
              "Weather_Condition              category\n",
              "Amenity                            bool\n",
              "Bump                               bool\n",
              "Crossing                           bool\n",
              "Give_Way                           bool\n",
              "Junction                           bool\n",
              "No_Exit                            bool\n",
              "Railway                            bool\n",
              "Roundabout                         bool\n",
              "Station                            bool\n",
              "Stop                               bool\n",
              "Traffic_Calming                    bool\n",
              "Traffic_Signal                     bool\n",
              "Turning_Loop                       bool\n",
              "Sunrise_Sunset                 category\n",
              "Civil_Twilight                 category\n",
              "Nautical_Twilight              category\n",
              "Astronomical_Twilight          category\n",
              "dtype: object"
            ]
          },
          "metadata": {},
          "execution_count": 70
        }
      ]
    },
    {
      "cell_type": "code",
      "source": [
        "data_acc_df2.memory_usage(deep = True)"
      ],
      "metadata": {
        "colab": {
          "base_uri": "https://localhost:8080/"
        },
        "id": "5uPOtDJKcQ_b",
        "outputId": "dee6c1f2-78ff-49f5-de56-3a3139a10844"
      },
      "execution_count": 71,
      "outputs": [
        {
          "output_type": "execute_result",
          "data": {
            "text/plain": [
              "Index                          128\n",
              "ID                       186681468\n",
              "Severity                  22762736\n",
              "Start_Time                22762736\n",
              "End_Time                  22762736\n",
              "Start_Lat                 11381368\n",
              "Start_Lng                 11381368\n",
              "End_Lat                   11381368\n",
              "End_Lng                   11381368\n",
              "Distance(mi)              11381368\n",
              "Description              351767603\n",
              "Number                    11381368\n",
              "Street                    26814463\n",
              "Side                       2845624\n",
              "City                       6727332\n",
              "County                     5866940\n",
              "State                      2849305\n",
              "Zipcode                   44068682\n",
              "Country                    2845509\n",
              "Timezone                   2845783\n",
              "Airport_Code               5879016\n",
              "Weather_Timestamp         22762736\n",
              "Temperature(F)            11381368\n",
              "Wind_Chill(F)             11381368\n",
              "Humidity(%)               11381368\n",
              "Pressure(in)              11381368\n",
              "Visibility(mi)            11381368\n",
              "Wind_Direction             2847339\n",
              "Wind_Speed(mph)           11381368\n",
              "Precipitation(in)         11381368\n",
              "Weather_Condition          5704057\n",
              "Amenity                    2845342\n",
              "Bump                       2845342\n",
              "Crossing                   2845342\n",
              "Give_Way                   2845342\n",
              "Junction                   2845342\n",
              "No_Exit                    2845342\n",
              "Railway                    2845342\n",
              "Roundabout                 2845342\n",
              "Station                    2845342\n",
              "Stop                       2845342\n",
              "Traffic_Calming            2845342\n",
              "Traffic_Signal             2845342\n",
              "Turning_Loop               2845342\n",
              "Sunrise_Sunset             2845572\n",
              "Civil_Twilight             2845572\n",
              "Nautical_Twilight          2845572\n",
              "Astronomical_Twilight      2845572\n",
              "dtype: int64"
            ]
          },
          "metadata": {},
          "execution_count": 71
        }
      ]
    },
    {
      "cell_type": "code",
      "source": [
        "normal_memoire = data_acc_df.memory_usage(deep=True).sum()\n",
        "reduction_memoire = data_acc_df2.memory_usage(deep=True).sum()\n",
        "reduction =  (normal_memoire - reduction_memoire)/ normal_memoire\n",
        "print(reduction_memoire,': Memoire-apres-changement-typesdonnees')\n",
        "print(normal_memoire,': Memoire-Allouee-par-defaut-par-Pandas')\n",
        "print(f\"Memoire apres changement types de donnees: {reduction*100:0.2f}%\")"
      ],
      "metadata": {
        "colab": {
          "base_uri": "https://localhost:8080/"
        },
        "id": "ELkJ28Ifc4eo",
        "outputId": "bc3db359-740c-4f8b-d255-c1be2ea7ddf4"
      },
      "execution_count": 75,
      "outputs": [
        {
          "output_type": "stream",
          "name": "stdout",
          "text": [
            "935123711 : Memoire-apres-changement-typesdonnees\n",
            "4196111732 : Memoire-Allouee-par-defaut-par-Pandas\n",
            "Memoire apres changement types de donnees: 77.71%\n"
          ]
        }
      ]
    },
    {
      "cell_type": "markdown",
      "source": [
        "**La memoire est ramenée au cinquiéme de ce qui est utilisé en temps normal par pandas**"
      ],
      "metadata": {
        "id": "BH2nb1tIfIxf"
      }
    },
    {
      "cell_type": "markdown",
      "source": [
        "---\n",
        "##### `FOURNIR LES COLONNES DE MANIERE EXPLICITE LORS DU CHARGEMENT DES DONNEES`\n",
        "\n",
        "Nous pouvons prédéfinir les types de données optimaux des colonnes (sur la base de connaissances préalables ou d'une inspection d'échantillon) et les fournir explicitement lors de la lecture de l'ensemble de données. **usecols** est censé fournir un filtre avant de lire tout le DataFrame en mémoire ; s'il est utilisé correctement, il ne devrait jamais être nécessaire de supprimer des colonnes après la lecture.\n",
        "\n",
        "Prenons-nous 10 colonnes aléatoires et filtrons les autres colonnes pour économiser de la mémoire. "
      ],
      "metadata": {
        "id": "S4_sJOTjfnPb"
      }
    },
    {
      "cell_type": "code",
      "source": [
        "%%time\n",
        "\n",
        "data_acc_df = pd.read_csv(data_acc_path+'/US_Accidents_Dec21_updated.csv',\n",
        "        usecols=['ID','Start_Time','End_Time','Weather_Timestamp','Severity','City','Airport_Code','Weather_Condition','Sunrise_Sunset'],\n",
        "        parse_dates=['Start_Time','End_Time','Weather_Timestamp']\n",
        "        )"
      ],
      "metadata": {
        "colab": {
          "base_uri": "https://localhost:8080/"
        },
        "id": "_vL0nmU2gj9l",
        "outputId": "28cf0ef7-557c-4b7f-f7e1-500008abfbad"
      },
      "execution_count": 77,
      "outputs": [
        {
          "output_type": "stream",
          "name": "stdout",
          "text": [
            "CPU times: user 16.8 s, sys: 2.87 s, total: 19.6 s\n",
            "Wall time: 23.1 s\n"
          ]
        }
      ]
    },
    {
      "cell_type": "code",
      "source": [
        "data_acc_df.memory_usage(deep = True)"
      ],
      "metadata": {
        "colab": {
          "base_uri": "https://localhost:8080/"
        },
        "id": "LKvOcpP_hBFs",
        "outputId": "a9918446-eeb2-4213-8ad8-be3647043690"
      },
      "execution_count": 78,
      "outputs": [
        {
          "output_type": "execute_result",
          "data": {
            "text/plain": [
              "Index                      128\n",
              "ID                   186681468\n",
              "Severity              22762736\n",
              "Start_Time            22762736\n",
              "End_Time              22762736\n",
              "City                 187248751\n",
              "Airport_Code         173288941\n",
              "Weather_Timestamp     22762736\n",
              "Weather_Condition    180900337\n",
              "Sunrise_Sunset       172701324\n",
              "dtype: int64"
            ]
          },
          "metadata": {},
          "execution_count": 78
        }
      ]
    },
    {
      "cell_type": "markdown",
      "source": [
        "---\n",
        "##### `CHUNKING`\n",
        "Tout en traitant des données volumineuses, nous pouvons charger et traiter les données par blocs, en ne chargeant qu'une partie du fichier en mémoire à un moment donné. c'est à dire\n",
        "Au lieu de tout lire en mémoire, Pandas nous permet de lire les données par petites portions. Dans le cas de CSV, nous ne pouvons charger que certaines lignes en mémoire à un moment donné. Et cela signifie que vous pouvez traiter des fichiers qui ne tiennent pas dans la mémoire.\n",
        "\n",
        "En particulier, si nous utilisons l'argument chunksize de pandas.read_csv, nous récupérons un itérateur sur des DataFrames, plutôt qu'un seul DataFrame. Chaque DataFrame correspond aux 1 000 lignes suivantes du CSV\n",
        "\n",
        "---"
      ],
      "metadata": {
        "id": "Cz7RSWaXhkaF"
      }
    },
    {
      "cell_type": "code",
      "source": [
        "for chunk in pd.read_csv(data_acc_path+'/US_Accidents_Dec21_updated.csv', chunksize=1000):\n",
        "  reader = chunk[cat]\n",
        "  result = reader.value_counts()\n",
        "\n",
        "result.sort_values(ascending=False, inplace=True)\n",
        "print(result)"
      ],
      "metadata": {
        "colab": {
          "base_uri": "https://localhost:8080/"
        },
        "id": "ENFyNIQfiFxe",
        "outputId": "d17e6715-e4ec-40be-d0e5-a02a5def360c"
      },
      "execution_count": 80,
      "outputs": [
        {
          "output_type": "stream",
          "name": "stdout",
          "text": [
            "Street              Side  City              County     State  Zipcode  Country  Timezone     Airport_Code  Wind_Direction  Weather_Condition  Sunrise_Sunset  Civil_Twilight  Nautical_Twilight  Astronomical_Twilight\n",
            "I-5 S               R     Grants Pass       Josephine  OR     97526    US       US/Pacific   KSXT          ENE             Fair               Night           Night           Night              Night                    3\n",
            "UT-201              R     Magna             Salt Lake  UT     84044    US       US/Mountain  KU42          N               Partly Cloudy      Day             Day             Day                Day                      2\n",
            "I-294 S             R     Oak Brook         DuPage     IL     60523    US       US/Central   KMDW          ENE             Partly Cloudy      Day             Day             Day                Day                      2\n",
            "US Highway 50       R     Gunnison          Gunnison   CO     81230    US       US/Mountain  KGUC          NNW             Cloudy             Day             Day             Day                Day                      2\n",
            "Astoria-Megler Brg  R     Naselle           Pacific    WA     98638    US       US/Pacific   KAST          NW              Mostly Cloudy      Day             Day             Day                Day                      2\n",
            "                                                                                                                                                                                                                         ..\n",
            "US-89 N             R     Brigham City      Box Elder  UT     84302    US       US/Mountain  KBMC          SW              Fair               Day             Day             Day                Day                      1\n",
            "UT-201 E            R     West Valley City  Salt Lake  UT     84120    US       US/Mountain  KU42          VAR             Partly Cloudy      Day             Day             Day                Day                      1\n",
            "UT-201 W            R     West Valley City  Salt Lake  UT     84120    US       US/Mountain  KU42          VAR             Partly Cloudy      Day             Day             Day                Day                      1\n",
            "W 400 N             R     Bountiful         Davis      UT     84010    US       US/Mountain  KSLC          CALM            Partly Cloudy      Day             Day             Day                Day                      1\n",
            "Westpark Tollway E  R     Houston           Harris     TX     77082    US       US/Central   KSGR          E               Fair               Day             Day             Day                Day                      1\n",
            "Length: 318, dtype: int64\n"
          ]
        }
      ]
    },
    {
      "cell_type": "markdown",
      "source": [
        "---\n",
        "### `DASK`\n",
        "\n",
        "---\n",
        "\n",
        "\n",
        "\n"
      ],
      "metadata": {
        "id": "MJ2GszbmjB7k"
      }
    },
    {
      "cell_type": "markdown",
      "source": [
        "En termes simples, dask est l'une des passerelles populaires vers le calcul parallèle en python. Donc, si votre machine est équipée d'un processeur quadricœur, elle peut les utiliser simultanément pour le calcul. Au sens le plus simple, le calcul parallèle est l'utilisation simultanée de plusieurs ressources de calcul pour résoudre un problème de calcul ! Dask contient des équivalents de bibliothèques python telles que numpy, pandas, etc. Nous utiliserons l'équivalent pandas : dask.dataframes\n",
        "Nous pouvons utiliser DASK en remplacement de PANDAS.\n",
        "\n",
        "Lien [calcul parallèle](https://www.techopedia.com/definition/8777/parallel-computing)."
      ],
      "metadata": {
        "id": "EDwfxZ6GjOFj"
      }
    },
    {
      "cell_type": "code",
      "source": [
        "#Installation de Dask\n",
        "!python -m pip install dask[dataframe]"
      ],
      "metadata": {
        "colab": {
          "base_uri": "https://localhost:8080/"
        },
        "id": "Y-rxdhwgj2Pw",
        "outputId": "8331ec22-b2dc-4ad7-e376-a7cd1a40c6c9"
      },
      "execution_count": 81,
      "outputs": [
        {
          "output_type": "stream",
          "name": "stdout",
          "text": [
            "Looking in indexes: https://pypi.org/simple, https://us-python.pkg.dev/colab-wheels/public/simple/\n",
            "Requirement already satisfied: dask[dataframe] in /usr/local/lib/python3.7/dist-packages (2.12.0)\n",
            "Requirement already satisfied: toolz>=0.7.3 in /usr/local/lib/python3.7/dist-packages (from dask[dataframe]) (0.12.0)\n",
            "Collecting partd>=0.3.10\n",
            "  Downloading partd-1.2.0-py3-none-any.whl (19 kB)\n",
            "Collecting fsspec>=0.6.0\n",
            "  Downloading fsspec-2022.7.1-py3-none-any.whl (141 kB)\n",
            "\u001b[K     |████████████████████████████████| 141 kB 3.4 MB/s \n",
            "\u001b[?25hRequirement already satisfied: numpy>=1.13.0 in /usr/local/lib/python3.7/dist-packages (from dask[dataframe]) (1.21.6)\n",
            "Requirement already satisfied: pandas>=0.23.0 in /usr/local/lib/python3.7/dist-packages (from dask[dataframe]) (1.3.5)\n",
            "Requirement already satisfied: pytz>=2017.3 in /usr/local/lib/python3.7/dist-packages (from pandas>=0.23.0->dask[dataframe]) (2022.1)\n",
            "Requirement already satisfied: python-dateutil>=2.7.3 in /usr/local/lib/python3.7/dist-packages (from pandas>=0.23.0->dask[dataframe]) (2.8.2)\n",
            "Collecting locket\n",
            "  Downloading locket-1.0.0-py2.py3-none-any.whl (4.4 kB)\n",
            "Requirement already satisfied: six>=1.5 in /usr/local/lib/python3.7/dist-packages (from python-dateutil>=2.7.3->pandas>=0.23.0->dask[dataframe]) (1.15.0)\n",
            "Installing collected packages: locket, partd, fsspec\n",
            "Successfully installed fsspec-2022.7.1 locket-1.0.0 partd-1.2.0\n"
          ]
        }
      ]
    },
    {
      "cell_type": "code",
      "source": [
        "import dask.dataframe as dd"
      ],
      "metadata": {
        "id": "ffDEd06DhJrF"
      },
      "execution_count": 82,
      "outputs": []
    },
    {
      "cell_type": "code",
      "source": [
        "%%time\n",
        "\n",
        "data_acc_df2 = dd.read_csv(data_acc_path+'/US_Accidents_Dec21_updated.csv')"
      ],
      "metadata": {
        "colab": {
          "base_uri": "https://localhost:8080/"
        },
        "id": "CeNBAPmwkUPS",
        "outputId": "89c167d0-3a38-4c79-d458-c119017b0db4"
      },
      "execution_count": 83,
      "outputs": [
        {
          "output_type": "stream",
          "name": "stdout",
          "text": [
            "CPU times: user 80.9 ms, sys: 4.11 ms, total: 85 ms\n",
            "Wall time: 215 ms\n"
          ]
        }
      ]
    },
    {
      "cell_type": "markdown",
      "source": [
        "Dask n'a pris qu'environ 100 à 200 millisecondes pour lire l'ensemble de données et le charger dans sa base de données. Voici un excellent article sur la façon dont Dask utilise l'espace disque pour réduire la mémoire.\n",
        "\n"
      ],
      "metadata": {
        "id": "B2PR_lKQk_2r"
      }
    },
    {
      "cell_type": "markdown",
      "source": [
        "---\n",
        "#### AUTRES PACKAGES\n",
        "\n",
        "\n",
        "\n",
        "- DATATABLE:  Documentation: https://datatable.readthedocs.io/en/latest/start/index-start.html#\n",
        "\n",
        "- Il y a aussi les methodes **Rapids** pour traiter les données  à l'echelle dicretcment sur du GPUs. \n",
        "  - Documentation: https://docs.rapids.ai/\n",
        "\n",
        "\n",
        "- Les API de PySpark,\n",
        "\n",
        "  - Documentation: https://spark.apache.org/docs/latest/api/python/index.html\n",
        "\n",
        "---"
      ],
      "metadata": {
        "id": "kR2G-L0WmFXa"
      }
    },
    {
      "cell_type": "markdown",
      "source": [
        "---\n",
        "#### SUGGESTIONS\n",
        "\n",
        "---\n",
        "![Capture d’écran 2022-07-31 à 14.15.46.png](data:image/png;base64,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)"
      ],
      "metadata": {
        "id": "oYsnMQyGnUhB"
      }
    },
    {
      "cell_type": "markdown",
      "source": [
        "---\n",
        "### QUELQUES REFERENCES\n",
        "\n",
        "[Further Reading](https://pythonspeed.com/articles/indexing-pandas-sqlite/)\n",
        "\n",
        "[Fast subsets of large datasets](https://pythonspeed.com/articles/pandas-reduce-memory-lossy/)\n",
        "\n",
        "[Lossy compression](https://blog.esciencecenter.nl/irregular-data-in-pandas-using-c-88ce311cb9ef)\n",
        "\n",
        "\n",
        "[Faster loading with python and c++](https://blog.esciencecenter.nl/irregular-data-in-pandas-using-c-88ce311cb9ef)\n",
        "\n",
        "[ML ET DASK](https://www.machinelearningplus.com/python/dask-tutorial/)\n",
        "\n",
        "\n",
        "---\n"
      ],
      "metadata": {
        "id": "4RW5HBohnmOZ"
      }
    }
  ],
  "metadata": {
    "colab": {
      "name": "Lecture_Fichiers_CSV.ipynb",
      "provenance": [],
      "include_colab_link": true
    },
    "kernelspec": {
      "display_name": "Python 3",
      "language": "python",
      "name": "python3"
    },
    "language_info": {
      "codemirror_mode": {
        "name": "ipython",
        "version": 3
      },
      "file_extension": ".py",
      "mimetype": "text/x-python",
      "name": "python",
      "nbconvert_exporter": "python",
      "pygments_lexer": "ipython3",
      "version": "3.7.4"
    }
  },
  "nbformat": 4,
  "nbformat_minor": 0
}