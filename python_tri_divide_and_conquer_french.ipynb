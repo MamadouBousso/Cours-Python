{
  "cells": [
    {
      "cell_type": "markdown",
      "metadata": {
        "id": "view-in-github",
        "colab_type": "text"
      },
      "source": [
        "<a href=\"https://colab.research.google.com/github/MamadouBousso/Cours-Python/blob/main/python_tri_divide_and_conquer_french.ipynb\" target=\"_parent\"><img src=\"https://colab.research.google.com/assets/colab-badge.svg\" alt=\"Open In Colab\"/></a>"
      ]
    },
    {
      "cell_type": "code",
      "execution_count": 1,
      "id": "b1246701",
      "metadata": {
        "colab": {
          "base_uri": "https://localhost:8080/"
        },
        "id": "b1246701",
        "outputId": "e2771892-6347-471b-e20d-338a60f2d0a3"
      },
      "outputs": [
        {
          "output_type": "stream",
          "name": "stdout",
          "text": [
            "\u001b[?25l\r\u001b[K     |████▊                           | 10 kB 19.3 MB/s eta 0:00:01\r\u001b[K     |█████████▌                      | 20 kB 26.1 MB/s eta 0:00:01\r\u001b[K     |██████████████▎                 | 30 kB 11.9 MB/s eta 0:00:01\r\u001b[K     |███████████████████             | 40 kB 9.0 MB/s eta 0:00:01\r\u001b[K     |███████████████████████▉        | 51 kB 4.7 MB/s eta 0:00:01\r\u001b[K     |████████████████████████████▋   | 61 kB 5.6 MB/s eta 0:00:01\r\u001b[K     |████████████████████████████████| 68 kB 3.3 MB/s \n",
            "\u001b[?25h  Building wheel for uuid (setup.py) ... \u001b[?25l\u001b[?25hdone\n"
          ]
        }
      ],
      "source": [
        "# Jovian Commit Essentials\n",
        "# Please retain and execute this cell without modifying the contents for `jovian.commit` to work\n",
        "!pip install jovian --upgrade -q\n",
        "import jovian\n",
        "jovian.set_project('python-sorting-divide-and-conquer-french')\n",
        "jovian.set_colab_id('1YIGnz86MFZIbGD6HaV229sce8MFwVMeg')"
      ]
    },
    {
      "cell_type": "markdown",
      "id": "bb05c93b",
      "metadata": {
        "id": "bb05c93b"
      },
      "source": [
        "# Les algorithmes Merge Sort, Quicksort et Divide-n-Conquer Algorithms en Python\n",
        "\n",
        "### Part 3 de \"Structures de données et  Algorithme en Python\"\n",
        "\n",
        "[Data Structures and Algorithms in Python](https://jovian.ai/learn/data-structures-and-algorithms-in-python) is a beginner-friendly introduction to common data structures (linked lists, stacks, queues, graphs) and algorithms (search, sorting, recursion, dynamic programming) in Python, designed to help you prepare for coding interviews and assessments. \n",
        "\n",
        "Earn a verified certificate of accomplishment for this course by signing up here: http://pythondsa.com. Ask questions, get help & participate in discussions on the [course community forum](https://jovian.ai/forum/c/data-structures-and-algorithms-in-python/78). \n"
      ]
    },
    {
      "cell_type": "markdown",
      "id": "9f4bd56f",
      "metadata": {
        "id": "9f4bd56f"
      },
      "source": [
        "### Prerequis\n",
        "\n",
        "Ce cours suppose très peu de connaissances en programmation et en mathématiques, et vous pouvez apprendre les concepts requis ici :\n",
        "\n",
        "- Programmation de base avec Python ([variables](https://jovian.ai/aakashns/first-steps-with-python), [types de données](https://jovian.ai/aakashns/python-variables-and- types de données), [boucles](https://jovian.ai/aakashns/python-branching-and-loops), [fonctions](https://jovian.ai/aakashns/python-functions-and-scope) etc.)\n",
        "- Quelques mathématiques du secondaire ([polynômes](https://www.youtube.com/watch?v=Vm7H0VTlIco), [vecteurs, matrices](https://www.youtube.com/watch?v=0oGJTQCy4cQ&list=PLSQl0a2vh4HCs4zPpOEdF2GuydqS90Yb6 ) et [probabilité](https://www.youtube.com/watch?v=uzkc-qNVoOk))\n",
        "- Aucune connaissance préalable des structures de données ou des algorithmes n'est requise\n",
        "\n",
        "Nous couvrirons tous les concepts mathématiques et théoriques supplémentaires dont nous avons besoin au fur et à mesure.\n",
        "\n"
      ]
    },
    {
      "cell_type": "markdown",
      "id": "95dc4dd4",
      "metadata": {
        "id": "95dc4dd4"
      },
      "source": [
        "### Comment exécuter le code\n",
        "\n",
        "La meilleure façon d'apprendre le matériel est d'exécuter le code et de l'expérimenter vous-même. Ce tutoriel est un exécutable [Jupyter notebook](https://jupyter.org). Vous pouvez _exécuter_ ce didacticiel et tester les exemples de code de plusieurs manières : *à l'aide de ressources en ligne gratuites* (recommandé) ou *sur votre ordinateur*.\n",
        "\n",
        "#### Option 1 : Exécution à l'aide de ressources en ligne gratuites (1 clic, recommandé)\n",
        "\n",
        "Le moyen le plus simple de commencer à exécuter le code est de cliquer sur le bouton **Exécuter** en haut de cette page et de sélectionner **Exécuter sur Binder**. Vous pouvez également sélectionner \"Exécuter sur Colab\" ou \"Exécuter sur Kaggle\", mais vous devrez créer un compte sur [Google Colab](https://colab.research.google.com) ou [Kaggle](https: //kaggle.com) pour utiliser ces plateformes.\n",
        "\n",
        "\n",
        "#### Option 2 : Exécution locale sur votre ordinateur\n",
        "\n",
        "Pour exécuter le code localement sur votre ordinateur, vous devez configurer [Python](https://www.python.org), télécharger le bloc-notes et installer les bibliothèques requises. Nous vous recommandons d'utiliser la distribution [Conda](https://docs.conda.io/projects/conda/en/latest/user-guide/install/) de Python. Cliquez sur le bouton **Exécuter** en haut de cette page, sélectionnez l'option **Exécuter localement** et suivez les instructions.\n",
        "\n"
      ]
    },
    {
      "cell_type": "markdown",
      "id": "7fc397ab",
      "metadata": {
        "id": "7fc397ab"
      },
      "source": [
        "## Probleme \n",
        "\n",
        "\n",
        "Dans ce notebook, nous allons nous concentrer sur la résolution du problème suivant :\n",
        "\n",
        "> **QUESTION 1** : Vous travaillez sur une nouvelle fonctionnalité sur la plateforme Jovian intitulée \"Top Notebooks of the Week\". Écrivez une fonction pour trier une liste de notebooks par ordre décroissant de likes. Gardez à l'esprit que jusqu'à des millions de notebooks peuvent être créés chaque semaine, votre fonction doit donc être aussi efficace que possible.\n",
        "\n",
        "\n",
        "Le problème du tri d'une liste d'objets revient sans cesse en informatique et en développement de logiciels, et il est important de comprendre les approches courantes de tri et les compromis qu'elles offrent. Avant de résoudre le problème ci-dessus, nous allons résoudre une version simplifiée du problème :\n",
        "\n",
        "> **QUESTION 2** : Écrivez un programme pour trier une liste de nombres.\n",
        "\n",
        "\n",
        "\"Trier\" fait généralement référence à \"trier par ordre croissant\", sauf indication contraire."
      ]
    },
    {
      "cell_type": "markdown",
      "id": "cc89c70b",
      "metadata": {
        "id": "cc89c70b"
      },
      "source": [
        "## Methodologie\n",
        "\n",
        "\n",
        "Voici une stratégie systématique que nous appliquerons pour résoudre les problèmes :\n",
        "\n",
        "1. Énoncez clairement le problème. Identifiez les formats d'entrée et de sortie.\n",
        "2. Trouvez des exemples d'entrées et de sorties. Essayez de couvrir tous les cas extrêmes.\n",
        "3. Trouvez une solution correcte au problème. Énoncez-le dans un anglais simple.\n",
        "4. Implémentez la solution et testez-la à l'aide d'exemples d'entrées. Corrigez les bogues, le cas échéant.\n",
        "5. Analysez la complexité de l'algorithme et identifiez les inefficacités, le cas échéant.\n",
        "6. Appliquer la bonne technique pour surmonter l'inefficacité. Répétez les étapes 3 à 6.\n",
        "\n",
        "\n"
      ]
    },
    {
      "cell_type": "markdown",
      "id": "dfa9f5e2",
      "metadata": {
        "id": "dfa9f5e2"
      },
      "source": [
        "## 1. Énoncez clairement le problème. Identifiez les formats d'entrée et de sortie.\n",
        "\n",
        "\n",
        "#### Problème\n",
        "\n",
        "> Nous devons écrire une fonction pour trier une liste de nombres par ordre croissant.\n",
        "\n",
        "#### Inputs\n",
        "\n",
        "1. `nums` : une liste de nombres, par ex. `[4, 2, 6, 3, 4, 6, 2, 1]`\n",
        "\n",
        "#### Outputs\n",
        "\n",
        "2. `sorted_nums` : la version triée de `nums`, par ex. `[1, 2, 2, 3, 4, 4, 6, 6]`\n",
        "\n",
        "\n",
        "La signature de notre fonction serait la suivante :"
      ]
    },
    {
      "cell_type": "code",
      "execution_count": null,
      "id": "1e25e41a",
      "metadata": {
        "id": "1e25e41a"
      },
      "outputs": [],
      "source": [
        "def sort(nums):\n",
        "    pass"
      ]
    },
    {
      "cell_type": "markdown",
      "id": "e667a201",
      "metadata": {
        "id": "e667a201"
      },
      "source": [
        "## 2. Trouvez des exemples d'entrées et de sorties.\n",
        "\n",
        "Voici quelques scénarios que nous voudrons peut-être tester :\n",
        "\n",
        "1. Quelques listes de nombres dans un ordre aléatoire.\n",
        "2. Une liste déjà triée.\n",
        "3. Une liste triée par ordre décroissant.\n",
        "4. Une liste contenant des éléments répétitifs.\n",
        "5. Une liste vide.\n",
        "6. Une liste contenant un seul élément.\n",
        "7. Une liste contenant un élément répété plusieurs fois.\n",
        "8. Une très longue liste.\n",
        "\n",
        "Créons quelques cas de test pour ces scénarios. Nous représenterons chaque cas de test sous forme de dictionnaire pour faciliter les tests automatisés."
      ]
    },
    {
      "cell_type": "code",
      "execution_count": 2,
      "id": "03316c02",
      "metadata": {
        "id": "03316c02"
      },
      "outputs": [],
      "source": [
        "# List of numbers in random order\n",
        "test0 = {\n",
        "    'input': {\n",
        "        'nums': [4, 2, 6, 3, 4, 6, 2, 1]\n",
        "    },\n",
        "    'output': [1, 2, 2, 3, 4, 4, 6, 6]\n",
        "}"
      ]
    },
    {
      "cell_type": "code",
      "execution_count": 3,
      "id": "6f2aa84d",
      "metadata": {
        "id": "6f2aa84d"
      },
      "outputs": [],
      "source": [
        "# List of numbers in random order\n",
        "test1 = {\n",
        "    'input': {\n",
        "        'nums': [5, 2, 6, 1, 23, 7, -12, 12, -243, 0]\n",
        "    },\n",
        "    'output': [-243, -12, 0, 1, 2, 5, 6, 7, 12, 23]\n",
        "}"
      ]
    },
    {
      "cell_type": "code",
      "execution_count": 4,
      "id": "9f4f3dd5",
      "metadata": {
        "id": "9f4f3dd5"
      },
      "outputs": [],
      "source": [
        "# A list that's already sorted\n",
        "test2 = {\n",
        "    'input': {\n",
        "        'nums': [3, 5, 6, 8, 9, 10, 99]\n",
        "    },\n",
        "    'output': [3, 5, 6, 8, 9, 10, 99]\n",
        "}"
      ]
    },
    {
      "cell_type": "code",
      "execution_count": 5,
      "id": "442cd79a",
      "metadata": {
        "id": "442cd79a"
      },
      "outputs": [],
      "source": [
        "# A list that's sorted in descending order\n",
        "test3 = {\n",
        "    'input': {\n",
        "        'nums': [99, 10, 9, 8, 6, 5, 3]\n",
        "    },\n",
        "    'output': [3, 5, 6, 8, 9, 10, 99]\n",
        "}"
      ]
    },
    {
      "cell_type": "code",
      "execution_count": 6,
      "id": "7421bb88",
      "metadata": {
        "id": "7421bb88"
      },
      "outputs": [],
      "source": [
        "# A list containing repeating elements\n",
        "test4 = {\n",
        "    'input': {\n",
        "        'nums': [5, -12, 2, 6, 1, 23, 7, 7, -12, 6, 12, 1, -243, 1, 0]\n",
        "    },\n",
        "    'output': [-243, -12, -12, 0, 1, 1, 1, 2, 5, 6, 6, 7, 7, 12, 23]\n",
        "}"
      ]
    },
    {
      "cell_type": "code",
      "execution_count": 7,
      "id": "4d812370",
      "metadata": {
        "id": "4d812370"
      },
      "outputs": [],
      "source": [
        "# An empty list \n",
        "test5 = {\n",
        "    'input': {\n",
        "        'nums': []\n",
        "    },\n",
        "    'output': []\n",
        "}"
      ]
    },
    {
      "cell_type": "code",
      "execution_count": 8,
      "id": "4c25d537",
      "metadata": {
        "id": "4c25d537"
      },
      "outputs": [],
      "source": [
        "# A list containing just one element\n",
        "test6 = {\n",
        "    'input': {\n",
        "        'nums': [23]\n",
        "    },\n",
        "    'output': [23]\n",
        "}"
      ]
    },
    {
      "cell_type": "code",
      "execution_count": 9,
      "id": "77c9db17",
      "metadata": {
        "id": "77c9db17"
      },
      "outputs": [],
      "source": [
        "# A list containing one element repeated many times\n",
        "test7 = {\n",
        "    'input': {\n",
        "        'nums': [42, 42, 42, 42, 42, 42, 42]\n",
        "    },\n",
        "    'output': [42, 42, 42, 42, 42, 42, 42]\n",
        "}"
      ]
    },
    {
      "cell_type": "markdown",
      "id": "79311e1a",
      "metadata": {
        "id": "79311e1a"
      },
      "source": [
        "Pour créer le cas de test final (une très longue liste), nous pouvons commencer avec une liste triée créée à l'aide de `range` et la mélanger pour créer l'entrée."
      ]
    },
    {
      "cell_type": "code",
      "execution_count": 10,
      "id": "bad5b088",
      "metadata": {
        "id": "bad5b088"
      },
      "outputs": [],
      "source": [
        "import random\n",
        "\n",
        "in_list = list(range(10000))\n",
        "out_list = list(range(10000))\n",
        "random.shuffle(in_list)\n",
        "\n",
        "test8 = {\n",
        "    'input': {\n",
        "        'nums': in_list\n",
        "    },\n",
        "    'output': out_list\n",
        "}"
      ]
    },
    {
      "cell_type": "code",
      "execution_count": 11,
      "id": "a9878274",
      "metadata": {
        "id": "a9878274"
      },
      "outputs": [],
      "source": [
        "tests = [test0, test1, test2, test3, test4, test5, test6, test7, test8]"
      ]
    },
    {
      "cell_type": "markdown",
      "id": "899121fa",
      "metadata": {
        "id": "899121fa"
      },
      "source": [
        "## 3. Trouver une solution correcte. Énoncez-le de maniere simple.\n",
        "\n",
        "Il est facile de trouver une solution correcte. En voici un :\n",
        "\n",
        "1. Itérer sur la liste des nombres, en commençant par la gauche\n",
        "2. Comparez chaque nombre avec le nombre qui le suit\n",
        "3. Si le nombre est supérieur à celui qui le suit, intervertissez les deux éléments\n",
        "4. Répétez les étapes 1 à 3 jusqu'à ce que la liste soit triée.\n",
        "\n",
        "Nous devons répéter les étapes 1 à 3 au plus \"n-1\" fois pour nous assurer que le tableau est trié. Pouvez-vous expliquer pourquoi? Astuce : Après une itération, le plus grand nombre de la liste.\n",
        "\n",
        "Cette méthode s'appelle le **tri par bulles**, car elle fait *buller* les éléments plus petits vers le haut et les plus gros vers *couler* vers le bas. Voici une représentation visuelle du processus:\n",
        "\n",
        "![](https://upload.wikimedia.org/wikipedia/commons/c/c8/Bubble-sort-example-300px.gif)\n",
        "\n"
      ]
    },
    {
      "cell_type": "markdown",
      "id": "823ceee4",
      "metadata": {
        "id": "823ceee4"
      },
      "source": [
        "## 4. Implémentez la solution et testez-la à l'aide d'exemples d'entrées.\n",
        "\n",
        "La mise en œuvre est simple. Nous allons créer une copie de la liste dans notre fonction, pour éviter de la modifier lors du tri."
      ]
    },
    {
      "cell_type": "code",
      "source": [
        "def bubble_sort(nums):\n",
        "  # Creer une copie de liste pour eviter de la changer\n",
        "  nums = list(nums)\n",
        "\n",
        "  # Repeter le processus n-1 fois\n",
        "  for _ in range(len(nums)-1):\n",
        "\n",
        "    # Parcourir les n-1 elements de la liste\n",
        "    for j in range(len(nums)-1):\n",
        "\n",
        "      # permuter les elements si necessaire\n",
        "      if nums[j] > nums[j+1]:\n",
        "    \n",
        "        nums[j+1],nums[j] = nums[j],nums[j+1]\n",
        "\n",
        "  return nums\n",
        "\n"
      ],
      "metadata": {
        "id": "AnHM56mo88wv"
      },
      "id": "AnHM56mo88wv",
      "execution_count": 13,
      "outputs": []
    },
    {
      "cell_type": "code",
      "source": [
        "out = bubble_sort(test0['input']['nums'])\n",
        "print(out)"
      ],
      "metadata": {
        "colab": {
          "base_uri": "https://localhost:8080/"
        },
        "id": "z3LMY_4g-v_0",
        "outputId": "5e6184a0-0595-49d8-a4f1-5ccf4a2403c2"
      },
      "id": "z3LMY_4g-v_0",
      "execution_count": 14,
      "outputs": [
        {
          "output_type": "stream",
          "name": "stdout",
          "text": [
            "[1, 2, 2, 3, 4, 4, 6, 6]\n"
          ]
        }
      ]
    },
    {
      "cell_type": "markdown",
      "id": "a5dee8c7",
      "metadata": {
        "id": "a5dee8c7"
      },
      "source": [
        "\n",
        "Remarquez comment nous utilisons une affectation de tuple pour échanger deux éléments dans une seule ligne de code."
      ]
    },
    {
      "cell_type": "code",
      "execution_count": 16,
      "id": "62aaf888",
      "metadata": {
        "colab": {
          "base_uri": "https://localhost:8080/"
        },
        "id": "62aaf888",
        "outputId": "43627df8-5790-4354-a314-2dff5ceed79b"
      },
      "outputs": [
        {
          "output_type": "execute_result",
          "data": {
            "text/plain": [
              "(3, 2)"
            ]
          },
          "metadata": {},
          "execution_count": 16
        }
      ],
      "source": [
        "x, y = 2, 3\n",
        "x, y = y, x\n",
        "x, y"
      ]
    },
    {
      "cell_type": "markdown",
      "id": "6e7f9f3f",
      "metadata": {
        "id": "6e7f9f3f"
      },
      "source": [
        "Testons un exemple"
      ]
    },
    {
      "cell_type": "code",
      "execution_count": 15,
      "id": "8b62dcb6",
      "metadata": {
        "colab": {
          "base_uri": "https://localhost:8080/"
        },
        "id": "8b62dcb6",
        "outputId": "a8f96987-c505-49de-e340-4d1080086b80"
      },
      "outputs": [
        {
          "output_type": "stream",
          "name": "stdout",
          "text": [
            "Input: [4, 2, 6, 3, 4, 6, 2, 1]\n",
            "Expected output: [1, 2, 2, 3, 4, 4, 6, 6]\n",
            "Actual output: [1, 2, 2, 3, 4, 4, 6, 6]\n",
            "Match: True\n"
          ]
        }
      ],
      "source": [
        "nums0, output0 = test0['input']['nums'], test0['output']\n",
        "\n",
        "print('Input:', nums0)\n",
        "print('Expected output:', output0)\n",
        "result0 = bubble_sort(nums0)\n",
        "print('Actual output:', result0)\n",
        "print('Match:', result0 == output0)"
      ]
    },
    {
      "cell_type": "code",
      "execution_count": 17,
      "id": "6a416e7b",
      "metadata": {
        "colab": {
          "base_uri": "https://localhost:8080/"
        },
        "id": "6a416e7b",
        "outputId": "83fd1755-2a95-4b4a-cf2c-aebd2d076a9f"
      },
      "outputs": [
        {
          "output_type": "execute_result",
          "data": {
            "text/plain": [
              "True"
            ]
          },
          "metadata": {},
          "execution_count": 17
        }
      ],
      "source": [
        "result0 == output0"
      ]
    },
    {
      "cell_type": "markdown",
      "id": "146ad400",
      "metadata": {
        "id": "146ad400"
      },
      "source": [
        "Nous pouvons evaluer tous les cas de test en utilisant la fonction `evaluate_test_cases` de la librairie `jovian` ."
      ]
    },
    {
      "cell_type": "code",
      "execution_count": 18,
      "id": "a93f79c6",
      "metadata": {
        "id": "a93f79c6"
      },
      "outputs": [],
      "source": [
        "from jovian.pythondsa import evaluate_test_cases"
      ]
    },
    {
      "cell_type": "code",
      "execution_count": 19,
      "id": "65892f6f",
      "metadata": {
        "scrolled": true,
        "colab": {
          "base_uri": "https://localhost:8080/"
        },
        "id": "65892f6f",
        "outputId": "f3a1c711-d0a2-4a6e-e8f3-84831437f587"
      },
      "outputs": [
        {
          "output_type": "stream",
          "name": "stdout",
          "text": [
            "\n",
            "\u001b[1mTEST CASE #0\u001b[0m\n",
            "\n",
            "Input:\n",
            "{'nums': [4, 2, 6, 3, 4, 6, 2, 1]}\n",
            "\n",
            "Expected Output:\n",
            "[1, 2, 2, 3, 4, 4, 6, 6]\n",
            "\n",
            "\n",
            "Actual Output:\n",
            "[1, 2, 2, 3, 4, 4, 6, 6]\n",
            "\n",
            "Execution Time:\n",
            "0.023 ms\n",
            "\n",
            "Test Result:\n",
            "\u001b[92mPASSED\u001b[0m\n",
            "\n",
            "\n",
            "\u001b[1mTEST CASE #1\u001b[0m\n",
            "\n",
            "Input:\n",
            "{'nums': [5, 2, 6, 1, 23, 7, -12, 12, -243, 0]}\n",
            "\n",
            "Expected Output:\n",
            "[-243, -12, 0, 1, 2, 5, 6, 7, 12, 23]\n",
            "\n",
            "\n",
            "Actual Output:\n",
            "[-243, -12, 0, 1, 2, 5, 6, 7, 12, 23]\n",
            "\n",
            "Execution Time:\n",
            "0.032 ms\n",
            "\n",
            "Test Result:\n",
            "\u001b[92mPASSED\u001b[0m\n",
            "\n",
            "\n",
            "\u001b[1mTEST CASE #2\u001b[0m\n",
            "\n",
            "Input:\n",
            "{'nums': [3, 5, 6, 8, 9, 10, 99]}\n",
            "\n",
            "Expected Output:\n",
            "[3, 5, 6, 8, 9, 10, 99]\n",
            "\n",
            "\n",
            "Actual Output:\n",
            "[3, 5, 6, 8, 9, 10, 99]\n",
            "\n",
            "Execution Time:\n",
            "0.017 ms\n",
            "\n",
            "Test Result:\n",
            "\u001b[92mPASSED\u001b[0m\n",
            "\n",
            "\n",
            "\u001b[1mTEST CASE #3\u001b[0m\n",
            "\n",
            "Input:\n",
            "{'nums': [99, 10, 9, 8, 6, 5, 3]}\n",
            "\n",
            "Expected Output:\n",
            "[3, 5, 6, 8, 9, 10, 99]\n",
            "\n",
            "\n",
            "Actual Output:\n",
            "[3, 5, 6, 8, 9, 10, 99]\n",
            "\n",
            "Execution Time:\n",
            "0.021 ms\n",
            "\n",
            "Test Result:\n",
            "\u001b[92mPASSED\u001b[0m\n",
            "\n",
            "\n",
            "\u001b[1mTEST CASE #4\u001b[0m\n",
            "\n",
            "Input:\n",
            "{'nums': [5, -12, 2, 6, 1, 23, 7, 7, -12, 6, 12, 1, -243, 1, 0]}\n",
            "\n",
            "Expected Output:\n",
            "[-243, -12, -12, 0, 1, 1, 1, 2, 5, 6, 6, 7, 7, 12, 23]\n",
            "\n",
            "\n",
            "Actual Output:\n",
            "[-243, -12, -12, 0, 1, 1, 1, 2, 5, 6, 6, 7, 7, 12, 23]\n",
            "\n",
            "Execution Time:\n",
            "0.037 ms\n",
            "\n",
            "Test Result:\n",
            "\u001b[92mPASSED\u001b[0m\n",
            "\n",
            "\n",
            "\u001b[1mTEST CASE #5\u001b[0m\n",
            "\n",
            "Input:\n",
            "{'nums': []}\n",
            "\n",
            "Expected Output:\n",
            "[]\n",
            "\n",
            "\n",
            "Actual Output:\n",
            "[]\n",
            "\n",
            "Execution Time:\n",
            "0.003 ms\n",
            "\n",
            "Test Result:\n",
            "\u001b[92mPASSED\u001b[0m\n",
            "\n",
            "\n",
            "\u001b[1mTEST CASE #6\u001b[0m\n",
            "\n",
            "Input:\n",
            "{'nums': [23]}\n",
            "\n",
            "Expected Output:\n",
            "[23]\n",
            "\n",
            "\n",
            "Actual Output:\n",
            "[23]\n",
            "\n",
            "Execution Time:\n",
            "0.002 ms\n",
            "\n",
            "Test Result:\n",
            "\u001b[92mPASSED\u001b[0m\n",
            "\n",
            "\n",
            "\u001b[1mTEST CASE #7\u001b[0m\n",
            "\n",
            "Input:\n",
            "{'nums': [42, 42, 42, 42, 42, 42, 42]}\n",
            "\n",
            "Expected Output:\n",
            "[42, 42, 42, 42, 42, 42, 42]\n",
            "\n",
            "\n",
            "Actual Output:\n",
            "[42, 42, 42, 42, 42, 42, 42]\n",
            "\n",
            "Execution Time:\n",
            "0.008 ms\n",
            "\n",
            "Test Result:\n",
            "\u001b[92mPASSED\u001b[0m\n",
            "\n",
            "\n",
            "\u001b[1mTEST CASE #8\u001b[0m\n",
            "\n",
            "Input:\n",
            "{'nums': [2523, 2521, 9616, 3163, 4946, 8363, 953, 4367, 5628, 8228, 2355, 300, 6992, 3541, 8047, 44...\n",
            "\n",
            "Expected Output:\n",
            "[0, 1, 2, 3, 4, 5, 6, 7, 8, 9, 10, 11, 12, 13, 14, 15, 16, 17, 18, 19, 20, 21, 22, 23, 24, 25, 26, 2...\n",
            "\n",
            "\n",
            "Actual Output:\n",
            "[0, 1, 2, 3, 4, 5, 6, 7, 8, 9, 10, 11, 12, 13, 14, 15, 16, 17, 18, 19, 20, 21, 22, 23, 24, 25, 26, 2...\n",
            "\n",
            "Execution Time:\n",
            "15798.843 ms\n",
            "\n",
            "Test Result:\n",
            "\u001b[92mPASSED\u001b[0m\n",
            "\n",
            "\n",
            "\u001b[1mSUMMARY\u001b[0m\n",
            "\n",
            "TOTAL: 9, \u001b[92mPASSED\u001b[0m: 9, \u001b[91mFAILED\u001b[0m: 0\n"
          ]
        }
      ],
      "source": [
        "results = evaluate_test_cases(bubble_sort, tests)"
      ]
    },
    {
      "cell_type": "markdown",
      "id": "bbbfe4a1",
      "metadata": {
        "id": "bbbfe4a1"
      },
      "source": [
        " \n",
        "Génial, on dirait que tous nos cas de test ont réussi ! Bien que le dernier cas de test (une liste de 10 000 numéros) ait pris environ 12 secondes pour s'exécuter."
      ]
    },
    {
      "cell_type": "markdown",
      "id": "b667b821",
      "metadata": {
        "id": "b667b821"
      },
      "source": [
        "## 5. Analyser la complexité de l'algorithme et identifier les inefficacités\n",
        "\n",
        "Les opérations principales du tri à bulles sont \"comparer\" et \"échanger\". Pour analyser la complexité temporelle, nous pouvons simplement compter le nombre total de comparaisons effectuées, puisque le nombre total d'échanges sera inférieur ou égal au nombre total de comparaisons (comprenez-vous pourquoi ?).\n",
        "\n",
        "```\n",
        "for _ in range(len(nums) - 1):\n",
        "    for i in range(len(nums) - 1):\n",
        "        if nums[i] > nums[i+1]:\n",
        "            nums[i], nums[i+1] = nums[i+1], nums[i]\n",
        "```\n",
        "Il y a deux boucles, chacune de longueur `n-1`, où `n` est le nombre d'éléments dans `nums`. Ainsi, le nombre total de comparaisons est $(n-1)*(n-1)$ c'est-à-dire $(n-1)^2$ c'est-à-dire $n^2 - 2n + 1$.\n",
        "\n",
        "En exprimant cela dans la notation Big O, nous pouvons conclure que la complexité temporelle du tri à bulles est $O(n^2)$ (également connue sous le nom de complexité quadratique).\n",
        "\n",
        "**Exercice :** Vérifiez que le tri à bulles nécessite $O(1)$ d'espace supplémentaire.\n",
        "\n",
        "La complexité spatiale du tri à bulles est $O(n)$, même s'il ne nécessite qu'un espace supplémentaire constant/zéro, car l'espace requis pour stocker les entrées est également pris en compte lors du calcul de la complexité spatiale.\n",
        "\n",
        "Comme nous l'avons vu lors du dernier test, une liste de 10 000 numéros prend environ 12 secondes pour être triée à l'aide du tri à bulles. Une liste de dix fois la taille sera 100 fois plus longue soit environ 20 minutes pour être triée, ce qui est assez inefficace. Une liste d'un million d'éléments prendrait près de 2 jours pour être triée.\n",
        "\n",
        "\n",
        "L'inefficacité du tri à bulles vient du fait que nous décalons les éléments d'au plus une position à la fois.\n",
        "\n",
        "\n",
        "\n",
        "![](https://upload.wikimedia.org/wikipedia/commons/c/c8/Bubble-sort-example-300px.gif)\n"
      ]
    },
    {
      "cell_type": "markdown",
      "id": "7fca1d88",
      "metadata": {
        "id": "7fca1d88"
      },
      "source": [
        "### Tri par insertion\n",
        "\n",
        "Avant de chercher à explorer des techniques de tri plus efficaces, voici une autre technique de tri simple appelée tri par insertion, où nous gardons la partie initiale du tableau triée et insérons les éléments restants un par un à la bonne position.\n"
      ]
    },
    {
      "cell_type": "markdown",
      "source": [
        "![Capture d’écran 2022-03-07 à 11.29.13.png](data:image/png;base64,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)"
      ],
      "metadata": {
        "id": "u-lZb34hJE6D"
      },
      "id": "u-lZb34hJE6D"
    },
    {
      "cell_type": "markdown",
      "source": [
        "Source image: https://www.geeksforgeeks.org/insertion-sort/"
      ],
      "metadata": {
        "id": "qyUdX8DdJODU"
      },
      "id": "qyUdX8DdJODU"
    },
    {
      "cell_type": "code",
      "execution_count": 20,
      "id": "994537e9",
      "metadata": {
        "id": "994537e9"
      },
      "outputs": [],
      "source": [
        "def insertion_sort(nums):\n",
        "    nums = list(nums)\n",
        "    for i in range(len(nums)):\n",
        "        cur = nums.pop(i)\n",
        "        j = i-1\n",
        "        while j >=0 and nums[j] > cur:\n",
        "            j -= 1\n",
        "        nums.insert(j+1, cur)\n",
        "    return nums            "
      ]
    },
    {
      "cell_type": "code",
      "execution_count": 21,
      "id": "1946f608",
      "metadata": {
        "colab": {
          "base_uri": "https://localhost:8080/"
        },
        "id": "1946f608",
        "outputId": "4ead5f57-1021-47bb-8870-82db799146bf"
      },
      "outputs": [
        {
          "output_type": "stream",
          "name": "stdout",
          "text": [
            "Input: [4, 2, 6, 3, 4, 6, 2, 1]\n",
            "Expected output: [1, 2, 2, 3, 4, 4, 6, 6]\n",
            "Actual output: [1, 2, 2, 3, 4, 4, 6, 6]\n",
            "Match: True\n"
          ]
        }
      ],
      "source": [
        "nums0, output0 = test0['input']['nums'], test0['output']\n",
        "\n",
        "print('Input:', nums0)\n",
        "print('Expected output:', output0)\n",
        "result0 = insertion_sort(nums0)\n",
        "print('Actual output:', result0)\n",
        "print('Match:', result0 == output0)"
      ]
    },
    {
      "cell_type": "markdown",
      "source": [
        "**Exercices:**\n",
        "1. Lisez le code source de la fonction `insertion_sort` et décrivez l'algorithme en langage simple. La lecture du code source est une compétence essentielle pour le développement de logiciels.\n",
        "2. Déterminer la complexité temporelle et spatiale du tri par insertion. Est-ce mieux que le tri à bulles ? Pourquoi ou pourquoi pas?"
      ],
      "metadata": {
        "id": "6zp4eQMkLkiF"
      },
      "id": "6zp4eQMkLkiF"
    },
    {
      "cell_type": "code",
      "execution_count": null,
      "id": "59d18974",
      "metadata": {
        "id": "59d18974"
      },
      "outputs": [],
      "source": [
        "!pip install jovian --upgrade --quiet"
      ]
    },
    {
      "cell_type": "code",
      "execution_count": 22,
      "id": "ff19002e",
      "metadata": {
        "id": "ff19002e"
      },
      "outputs": [],
      "source": [
        "import jovian"
      ]
    },
    {
      "cell_type": "code",
      "execution_count": 23,
      "id": "df485070",
      "metadata": {
        "colab": {
          "base_uri": "https://localhost:8080/",
          "height": 124
        },
        "id": "df485070",
        "outputId": "029227e2-2115-4567-c8ff-214e89582033"
      },
      "outputs": [
        {
          "output_type": "stream",
          "name": "stdout",
          "text": [
            "[jovian] Detected Colab notebook...\u001b[0m\n",
            "[jovian] Please enter your API key ( from https://jovian.ai/ ):\u001b[0m\n",
            "API KEY: ··········\n",
            "[jovian] Uploading colab notebook to Jovian...\u001b[0m\n",
            "Committed successfully! https://jovian.ai/mbousso/python-sorting-divide-and-conquer-french\n"
          ]
        },
        {
          "output_type": "execute_result",
          "data": {
            "application/vnd.google.colaboratory.intrinsic+json": {
              "type": "string"
            },
            "text/plain": [
              "'https://jovian.ai/mbousso/python-sorting-divide-and-conquer-french'"
            ]
          },
          "metadata": {},
          "execution_count": 23
        }
      ],
      "source": [
        "jovian.commit()"
      ]
    },
    {
      "cell_type": "markdown",
      "id": "3a7244bf",
      "metadata": {
        "id": "3a7244bf"
      },
      "source": [
        "## 6. Appliquer la bonne technique pour surmonter l'inefficacité. Répétez les étapes 3 à 6.\n",
        "\n",
        "\n",
        "Pour effectuer un tri plus efficacement, nous appliquerons une stratégie appelée **Divide and Conquer**, qui comporte les étapes générales suivantes :\n",
        "\n",
        "1. Divisez les entrées en deux parties à peu près égales.\n",
        "2. Résolvez récursivement le problème individuellement pour chacune des deux parties.\n",
        "3. Combinez les résultats pour résoudre le problème pour les entrées d'origine.\n",
        "4. Inclure les conditions de terminaison pour les entrées petites ou indivisibles.\n",
        "\n",
        "Voici une représentation visuelle de la stratégie :\n",
        "\n",
        "![](https://www.educative.io/api/edpresso/shot/5327356208087040/image/6475288173084672)\n",
        "\n",
        "### Merge Sort\n",
        "\n",
        "Suite à une représentation visuelle du diviser pour régner appliqué pour le tri des nombres. Cet algorithme est connu sous le nom de tri par fusion :\n",
        "\n",
        "<img src=\"https://upload.wikimedia.org/wikipedia/commons/thumb/e/e6/Merge_sort_algorithm_diagram.svg/2560px-Merge_sort_algorithm_diagram.svg.png\" width=\"480\">\n",
        "\n"
      ]
    },
    {
      "cell_type": "markdown",
      "id": "0ad63f2d",
      "metadata": {
        "id": "0ad63f2d"
      },
      "source": [
        "## 7. Trouver une solution correcte. Énoncez-le en langage clair.\n",
        "\n",
        "Voici une description étape par étape du tri par fusion :\n",
        "\n",
        "1. Si la liste d'entrée est vide ou ne contient qu'un seul élément, elle est déjà triée. Retourne la.\n",
        "2. Sinon, divisez la liste de nombres en deux parties à peu près égales.\n",
        "3. Triez chaque partie de manière récursive à l'aide de l'algorithme de tri par fusion. Vous obtiendrez deux listes triées.\n",
        "4. Fusionnez les deux listes triées pour obtenir une seule liste triée\n",
        "Voir ce lien youtube pour comprendre la fusion: https://youtu.be/GW0USDwhBgo?t=28\n",
        "\n",
        "> **QUESTION 3**: Write a function to merge two sorted arrays.\n",
        "\n",
        "\n",
        "Try to explain how the merge operation works in your own words below:\n",
        "\n",
        "1. Prendre les deux premiers elements de chaque liste\n",
        "2. Comparer les deux elements\n",
        "3. Placer le plus petit element et l'enlever de sa liste\n",
        "4. Repeter le processus jusqu'à ce qu'il n'y ait plus d'éléments à comparer\n",
        "\n",
        "*QUESTION 3** : Écrivez une fonction pour fusionner deux tableaux triés.\n",
        "\n",
        "\n",
        "Essayez d'expliquer ci-dessous par vos propres mot comment l'opération de fusion fonctionne:\n",
        "\n"
      ]
    },
    {
      "cell_type": "code",
      "source": [
        "print(merge_sort([12,3,4,6,7,0,-1,-2]))"
      ],
      "metadata": {
        "colab": {
          "base_uri": "https://localhost:8080/"
        },
        "id": "paaGVPqUbDv8",
        "outputId": "1e9298b8-93ce-41d6-ce43-02eed039b5aa"
      },
      "id": "paaGVPqUbDv8",
      "execution_count": 28,
      "outputs": [
        {
          "output_type": "stream",
          "name": "stdout",
          "text": [
            "[-2, -1, 0, 3, 4, 6, 7, 12]\n"
          ]
        }
      ]
    },
    {
      "cell_type": "markdown",
      "id": "aa447819",
      "metadata": {
        "id": "aa447819"
      },
      "source": [
        "## 8. Implementation de la solution et test en utilisant des exemples d'inputs\n",
        "\n",
        "\n",
        "\n",
        "Implémentons l'algorithme de tri par fusion en supposant que nous avons déjà une fonction appelée `merge` pour fusionner deux tableaux triés."
      ]
    },
    {
      "cell_type": "markdown",
      "metadata": {
        "id": "ed942198"
      },
      "source": [
        "On fusionne deux tableaux triés, en comparant à plusieurs reprises les deux plus petits éléments de chaque tableau et copier le plus petit dans un nouveau tableau.\n",
        "\n",
        "Voici une représentation visuelle de l'opération de fusion :\n",
        "\n",
        "<img src=\"https://i.imgur.com/XeEpa0U.png\" width=\"480\">\n",
        "\n",
        "\n"
      ],
      "id": "ed942198"
    },
    {
      "cell_type": "code",
      "source": [
        "def merge(list1,list2):\n",
        "  \"\"\"\n",
        "  Merge two sorted lists in one sorted list\n",
        "  \"\"\"\n",
        "  # Initialisation\n",
        "  merge_list = []\n",
        "  i = 0\n",
        "  j = 0\n",
        "\n",
        "  while i < len(list1) and j < len(list2):\n",
        "    \n",
        "    # Ajoute le plus petit element et passe à l'element suivant \n",
        "    if list1[i] > list2[j]:\n",
        "      merge_list.append(list2[j])\n",
        "      j = j + 1\n",
        "          \n",
        "    else:\n",
        "      merge_list.append(list1[i])\n",
        "      i = i + 1\n",
        "  # Recupére le reste des listes, une des listes est vide\n",
        "  reste1 = list1[i:]\n",
        "  reste2 = list2[j:]          \n",
        "  \n",
        "  return merge_list + reste1 + reste2\n",
        "\n",
        "    \n"
      ],
      "metadata": {
        "id": "8MYvpADu-LHm"
      },
      "execution_count": null,
      "outputs": [],
      "id": "8MYvpADu-LHm"
    },
    {
      "cell_type": "code",
      "source": [
        "merge([1,2,3],[-1,0,1])"
      ],
      "metadata": {
        "colab": {
          "base_uri": "https://localhost:8080/"
        },
        "id": "kR3VCAr4UZDa",
        "outputId": "191db1a2-cc14-4bb9-81c3-465a798d10c7"
      },
      "execution_count": null,
      "outputs": [
        {
          "output_type": "execute_result",
          "data": {
            "text/plain": [
              "[-1, 0, 1, 1, 2, 3]"
            ]
          },
          "metadata": {},
          "execution_count": 25
        }
      ],
      "id": "kR3VCAr4UZDa"
    },
    {
      "cell_type": "code",
      "execution_count": null,
      "metadata": {
        "id": "3292a258"
      },
      "outputs": [],
      "source": [
        "def merge_sort(nums):\n",
        "    # Retourne nums si elle est de longueur 0 ou 1\n",
        "    if len(nums) <= 1:\n",
        "        return nums\n",
        "    \n",
        "    # Obtenir le point du milieu\n",
        "    mid = len(nums) // 2\n",
        "    \n",
        "    # Diviser nums en deux sous-listes\n",
        "    left = nums[:mid]\n",
        "    right = nums[mid:]\n",
        "    \n",
        "    # Trier chaque sous-liste recursivement\n",
        "    left_sorted, right_sorted = merge_sort(left), merge_sort(right)\n",
        "    \n",
        "    # Combiner les resultats des deux sous-listes\n",
        "    sorted_nums =  merge(left_sorted, right_sorted)\n",
        "    \n",
        "    return sorted_nums"
      ],
      "id": "3292a258"
    },
    {
      "cell_type": "markdown",
      "id": "12445328",
      "metadata": {
        "id": "12445328"
      },
      "source": [
        "Testons la fusion avant de faire le tri par fusion"
      ]
    },
    {
      "cell_type": "code",
      "execution_count": 29,
      "id": "0ac8812e",
      "metadata": {
        "colab": {
          "base_uri": "https://localhost:8080/"
        },
        "id": "0ac8812e",
        "outputId": "56f6a7ae-5204-426c-bcb0-60073a366209"
      },
      "outputs": [
        {
          "output_type": "execute_result",
          "data": {
            "text/plain": [
              "[-1, 0, 1, 2, 3, 4, 7, 8, 9, 11, 12]"
            ]
          },
          "metadata": {},
          "execution_count": 29
        }
      ],
      "source": [
        "merge([1, 4, 7, 9, 11], [-1, 0, 2, 3, 8, 12])"
      ]
    },
    {
      "cell_type": "markdown",
      "id": "a87ae7fd",
      "metadata": {
        "id": "a87ae7fd"
      },
      "source": [
        "OK tout semble correct teston la fonction `merge_sort` ."
      ]
    },
    {
      "cell_type": "code",
      "execution_count": 30,
      "id": "1a274a57",
      "metadata": {
        "colab": {
          "base_uri": "https://localhost:8080/"
        },
        "id": "1a274a57",
        "outputId": "a4fe9334-2a11-4a4a-ab84-8325f46827ab"
      },
      "outputs": [
        {
          "output_type": "stream",
          "name": "stdout",
          "text": [
            "Input: [4, 2, 6, 3, 4, 6, 2, 1]\n",
            "Expected output: [1, 2, 2, 3, 4, 4, 6, 6]\n",
            "Actual output: [1, 2, 2, 3, 4, 4, 6, 6]\n",
            "Match: True\n"
          ]
        }
      ],
      "source": [
        "nums0, output0 = test0['input']['nums'], test0['output']\n",
        "\n",
        "print('Input:', nums0)\n",
        "print('Expected output:', output0)\n",
        "result0 = merge_sort(nums0)\n",
        "print('Actual output:', result0)\n",
        "print('Match:', result0 == output0)"
      ]
    },
    {
      "cell_type": "markdown",
      "id": "c7751501",
      "metadata": {
        "id": "c7751501"
      },
      "source": [
        "Testons tous les cas avec la fonction `evaluate_test_cases` de `jovian`."
      ]
    },
    {
      "cell_type": "code",
      "execution_count": 31,
      "id": "6fea8180",
      "metadata": {
        "scrolled": true,
        "colab": {
          "base_uri": "https://localhost:8080/"
        },
        "id": "6fea8180",
        "outputId": "21adb630-f31b-4ac1-96c1-30c2cc1b3e05"
      },
      "outputs": [
        {
          "output_type": "stream",
          "name": "stdout",
          "text": [
            "\n",
            "\u001b[1mTEST CASE #0\u001b[0m\n",
            "\n",
            "Input:\n",
            "{'nums': [4, 2, 6, 3, 4, 6, 2, 1]}\n",
            "\n",
            "Expected Output:\n",
            "[1, 2, 2, 3, 4, 4, 6, 6]\n",
            "\n",
            "\n",
            "Actual Output:\n",
            "[1, 2, 2, 3, 4, 4, 6, 6]\n",
            "\n",
            "Execution Time:\n",
            "0.026 ms\n",
            "\n",
            "Test Result:\n",
            "\u001b[92mPASSED\u001b[0m\n",
            "\n",
            "\n",
            "\u001b[1mTEST CASE #1\u001b[0m\n",
            "\n",
            "Input:\n",
            "{'nums': [5, 2, 6, 1, 23, 7, -12, 12, -243, 0]}\n",
            "\n",
            "Expected Output:\n",
            "[-243, -12, 0, 1, 2, 5, 6, 7, 12, 23]\n",
            "\n",
            "\n",
            "Actual Output:\n",
            "[-243, -12, 0, 1, 2, 5, 6, 7, 12, 23]\n",
            "\n",
            "Execution Time:\n",
            "0.057 ms\n",
            "\n",
            "Test Result:\n",
            "\u001b[92mPASSED\u001b[0m\n",
            "\n",
            "\n",
            "\u001b[1mTEST CASE #2\u001b[0m\n",
            "\n",
            "Input:\n",
            "{'nums': [3, 5, 6, 8, 9, 10, 99]}\n",
            "\n",
            "Expected Output:\n",
            "[3, 5, 6, 8, 9, 10, 99]\n",
            "\n",
            "\n",
            "Actual Output:\n",
            "[3, 5, 6, 8, 9, 10, 99]\n",
            "\n",
            "Execution Time:\n",
            "0.027 ms\n",
            "\n",
            "Test Result:\n",
            "\u001b[92mPASSED\u001b[0m\n",
            "\n",
            "\n",
            "\u001b[1mTEST CASE #3\u001b[0m\n",
            "\n",
            "Input:\n",
            "{'nums': [99, 10, 9, 8, 6, 5, 3]}\n",
            "\n",
            "Expected Output:\n",
            "[3, 5, 6, 8, 9, 10, 99]\n",
            "\n",
            "\n",
            "Actual Output:\n",
            "[3, 5, 6, 8, 9, 10, 99]\n",
            "\n",
            "Execution Time:\n",
            "0.03 ms\n",
            "\n",
            "Test Result:\n",
            "\u001b[92mPASSED\u001b[0m\n",
            "\n",
            "\n",
            "\u001b[1mTEST CASE #4\u001b[0m\n",
            "\n",
            "Input:\n",
            "{'nums': [5, -12, 2, 6, 1, 23, 7, 7, -12, 6, 12, 1, -243, 1, 0]}\n",
            "\n",
            "Expected Output:\n",
            "[-243, -12, -12, 0, 1, 1, 1, 2, 5, 6, 6, 7, 7, 12, 23]\n",
            "\n",
            "\n",
            "Actual Output:\n",
            "[-243, -12, -12, 0, 1, 1, 1, 2, 5, 6, 6, 7, 7, 12, 23]\n",
            "\n",
            "Execution Time:\n",
            "0.071 ms\n",
            "\n",
            "Test Result:\n",
            "\u001b[92mPASSED\u001b[0m\n",
            "\n",
            "\n",
            "\u001b[1mTEST CASE #5\u001b[0m\n",
            "\n",
            "Input:\n",
            "{'nums': []}\n",
            "\n",
            "Expected Output:\n",
            "[]\n",
            "\n",
            "\n",
            "Actual Output:\n",
            "[]\n",
            "\n",
            "Execution Time:\n",
            "0.003 ms\n",
            "\n",
            "Test Result:\n",
            "\u001b[92mPASSED\u001b[0m\n",
            "\n",
            "\n",
            "\u001b[1mTEST CASE #6\u001b[0m\n",
            "\n",
            "Input:\n",
            "{'nums': [23]}\n",
            "\n",
            "Expected Output:\n",
            "[23]\n",
            "\n",
            "\n",
            "Actual Output:\n",
            "[23]\n",
            "\n",
            "Execution Time:\n",
            "0.003 ms\n",
            "\n",
            "Test Result:\n",
            "\u001b[92mPASSED\u001b[0m\n",
            "\n",
            "\n",
            "\u001b[1mTEST CASE #7\u001b[0m\n",
            "\n",
            "Input:\n",
            "{'nums': [42, 42, 42, 42, 42, 42, 42]}\n",
            "\n",
            "Expected Output:\n",
            "[42, 42, 42, 42, 42, 42, 42]\n",
            "\n",
            "\n",
            "Actual Output:\n",
            "[42, 42, 42, 42, 42, 42, 42]\n",
            "\n",
            "Execution Time:\n",
            "0.028 ms\n",
            "\n",
            "Test Result:\n",
            "\u001b[92mPASSED\u001b[0m\n",
            "\n",
            "\n",
            "\u001b[1mTEST CASE #8\u001b[0m\n",
            "\n",
            "Input:\n",
            "{'nums': [2523, 2521, 9616, 3163, 4946, 8363, 953, 4367, 5628, 8228, 2355, 300, 6992, 3541, 8047, 44...\n",
            "\n",
            "Expected Output:\n",
            "[0, 1, 2, 3, 4, 5, 6, 7, 8, 9, 10, 11, 12, 13, 14, 15, 16, 17, 18, 19, 20, 21, 22, 23, 24, 25, 26, 2...\n",
            "\n",
            "\n",
            "Actual Output:\n",
            "[0, 1, 2, 3, 4, 5, 6, 7, 8, 9, 10, 11, 12, 13, 14, 15, 16, 17, 18, 19, 20, 21, 22, 23, 24, 25, 26, 2...\n",
            "\n",
            "Execution Time:\n",
            "70.007 ms\n",
            "\n",
            "Test Result:\n",
            "\u001b[92mPASSED\u001b[0m\n",
            "\n",
            "\n",
            "\u001b[1mSUMMARY\u001b[0m\n",
            "\n",
            "TOTAL: 9, \u001b[92mPASSED\u001b[0m: 9, \u001b[91mFAILED\u001b[0m: 0\n"
          ]
        }
      ],
      "source": [
        "results = evaluate_test_cases(merge_sort, tests)"
      ]
    },
    {
      "cell_type": "markdown",
      "id": "ed427cf6",
      "metadata": {
        "id": "ed427cf6"
      },
      "source": [
        "Tous les cas de test ont réussi ! Notre fonction fonctionne comme prévu.\n",
        "\n",
        "Remarquez le dernier cas de test, la fonction de tri par fusion n'a pris que 70 millisecondes pour trier 10 000 numéros, ce qui a pris environ 12 secondes pour le tri à bulles."
      ]
    },
    {
      "cell_type": "code",
      "execution_count": 32,
      "id": "814cc700",
      "metadata": {
        "colab": {
          "base_uri": "https://localhost:8080/",
          "height": 89
        },
        "id": "814cc700",
        "outputId": "7605ca75-b135-495d-e5b1-3e41a444f085"
      },
      "outputs": [
        {
          "output_type": "stream",
          "name": "stdout",
          "text": [
            "[jovian] Detected Colab notebook...\u001b[0m\n",
            "[jovian] Uploading colab notebook to Jovian...\u001b[0m\n",
            "Committed successfully! https://jovian.ai/mbousso/python-sorting-divide-and-conquer-french\n"
          ]
        },
        {
          "output_type": "execute_result",
          "data": {
            "application/vnd.google.colaboratory.intrinsic+json": {
              "type": "string"
            },
            "text/plain": [
              "'https://jovian.ai/mbousso/python-sorting-divide-and-conquer-french'"
            ]
          },
          "metadata": {},
          "execution_count": 32
        }
      ],
      "source": [
        "jovian.commit()"
      ]
    },
    {
      "cell_type": "markdown",
      "id": "cd18c3bb",
      "metadata": {
        "id": "cd18c3bb"
      },
      "source": [
        "## 9. Analyser la complexité de l'algorithme et identifier les inefficacités\n",
        "\n",
        "L'analyse de la complexité des algorithmes récursifs peut être délicate. Il faudra suivre la chaîne d'appels récursifs. Ajouter quelques instructions d'impression à nos `merge_sort` et `merge_functions` pour afficher l'_arbre_ des appels de fonction récursifs."
      ]
    },
    {
      "cell_type": "code",
      "execution_count": 33,
      "id": "50c9e688",
      "metadata": {
        "id": "50c9e688"
      },
      "outputs": [],
      "source": [
        "def merge(nums1, nums2, depth=0):\n",
        "    print('  '*depth, 'merge:', nums1, nums2)\n",
        "    i, j, merged = 0, 0, []\n",
        "    while i < len(nums1) and j < len(nums2):\n",
        "        if nums1[i] <= nums2[j]:\n",
        "            merged.append(nums1[i])\n",
        "            i += 1\n",
        "        else:\n",
        "            merged.append(nums2[j])\n",
        "            j += 1\n",
        "    return merged + nums1[i:] + nums2[j:]\n",
        "        \n",
        "def merge_sort(nums, depth=0):\n",
        "    print('  '*depth, 'merge_sort:', nums)\n",
        "    if len(nums) < 2: \n",
        "        return nums\n",
        "    mid = len(nums) // 2\n",
        "    return merge(merge_sort(nums[:mid], depth+1), \n",
        "                 merge_sort(nums[mid:], depth+1), \n",
        "                 depth+1)"
      ]
    },
    {
      "cell_type": "code",
      "execution_count": 34,
      "id": "49a3e865",
      "metadata": {
        "colab": {
          "base_uri": "https://localhost:8080/"
        },
        "id": "49a3e865",
        "outputId": "54b946b1-fb71-4348-80dd-be3bb9cf9f02"
      },
      "outputs": [
        {
          "output_type": "stream",
          "name": "stdout",
          "text": [
            " merge_sort: [5, -12, 2, 6, 1, 23, 7, 7, -12]\n",
            "   merge_sort: [5, -12, 2, 6]\n",
            "     merge_sort: [5, -12]\n",
            "       merge_sort: [5]\n",
            "       merge_sort: [-12]\n",
            "       merge: [5] [-12]\n",
            "     merge_sort: [2, 6]\n",
            "       merge_sort: [2]\n",
            "       merge_sort: [6]\n",
            "       merge: [2] [6]\n",
            "     merge: [-12, 5] [2, 6]\n",
            "   merge_sort: [1, 23, 7, 7, -12]\n",
            "     merge_sort: [1, 23]\n",
            "       merge_sort: [1]\n",
            "       merge_sort: [23]\n",
            "       merge: [1] [23]\n",
            "     merge_sort: [7, 7, -12]\n",
            "       merge_sort: [7]\n",
            "       merge_sort: [7, -12]\n",
            "         merge_sort: [7]\n",
            "         merge_sort: [-12]\n",
            "         merge: [7] [-12]\n",
            "       merge: [7] [-12, 7]\n",
            "     merge: [1, 23] [-12, 7, 7]\n",
            "   merge: [-12, 2, 5, 6] [-12, 1, 7, 7, 23]\n"
          ]
        },
        {
          "output_type": "execute_result",
          "data": {
            "text/plain": [
              "[-12, -12, 1, 2, 5, 6, 7, 7, 23]"
            ]
          },
          "metadata": {},
          "execution_count": 34
        }
      ],
      "source": [
        "merge_sort([5, -12, 2, 6, 1, 23, 7, 7, -12])"
      ]
    },
    {
      "cell_type": "markdown",
      "id": "f2d0e78e",
      "metadata": {
        "id": "f2d0e78e"
      },
      "source": [
        "\n",
        "\n",
        "Nous pouvons maintenant voir que chaque appel `merge_sort` invoque lui-même `merge_sort` deux fois (mais avec un tableau deux fois plus petit), et appelle également la fonction `merge` une fois pour fusionner les deux tableaux résultants. Les deux appels à `merge_sort` effectuent eux-mêmes deux appels récursifs suivis d'une invocation de `merge`. La division continue jusqu'à ce que nous atteignions une liste de taille 1 ou 0. Ainsi, l'algorithme de tri par fusion se résume finalement à une série d'opérations de \"fusion\" effectuées sur des tableaux de tailles variables. Dans la fonction `merge`, nous effectuons des comparaisons et ajoutons des nombres à un nouveau tableau.\n",
        "\n",
        "**Exercice :** Vérifiez que la complexité temporelle de l'opération de fusion est $O(n)$, où $n$ est la somme des tailles des deux listes d'entrée. Astuce : Comptez le nombre de comparaisons.\n",
        "\n",
        "Pour trouver la complexité globale de `merge_sort`, nous avons simplement besoin de compter combien de fois la fonction `merge` a été invoquée et la taille de la liste d'entrée pour chaque invocation. Voici comment tous les sous-problèmes peuvent être visualisés :\n",
        "\n",
        "\n",
        "![](https://i.imgur.com/j1IuS2t.png)\n",
        "\n",
        "En partant du haut et en partant de 0, le niveau $k^{th}$ de l'arborescence ci-dessus implique $2^k$ invocations de `merge` avec des sous-listes de taille approximative $n / 2^k$, où $n$ est la taille de la liste d'entrée d'origine. Par conséquent, le nombre total de comparaisons à chaque niveau de l'arbre est $2^k * n/2^k = n$.\n",
        "\n",
        "Ainsi, si la hauteur de l'arbre est $h$, le nombre total de comparaisons est $n*h$. Puisqu'il y a $n$ sous-listes de taille 1 au niveau le plus bas, il s'ensuit que $2^{(h-1)} = n$ soit $h = \\log n + 1$. Ainsi, la complexité temporelle des algorithmes de tri par fusion est $O(n \\log n)$.\n",
        "\n",
        "Comme nous l'avons déjà vu, il n'a fallu que 50 ms pour trier un tableau de 10 000 éléments. Même un tableau de 1 million d'éléments ne prendra que quelques secondes pour être trié.\n",
        "\n",
        "\n",
        "\n",
        "### Complexite spatiale\n",
        "\n",
        "\n",
        "Pour trouver la complexité spatiale du tri par fusion, il est utile de rappeler qu'une nouvelle liste égale à la somme des tailles des deux listes est créée à chaque invocation de `merge`.\n",
        "\n",
        "\n",
        "```\n",
        "i, j, merged = 0, 0, []\n",
        "while i < len(nums1) and j < len(nums2):\n",
        "    if nums1[i] <= nums2[j]:\n",
        "        merged.append(nums1[i])\n",
        "        i += 1\n",
        "    else:\n",
        "        merged.append(nums2[j])\n",
        "        j += 1\n",
        "```\n",
        "À première vue, il peut sembler qu'un espace $O(n)$ est requis pour chaque niveau de l'arbre, donc la complexité spatiale du tri par fusion est $O(n \\log n)$.\n",
        "\n",
        "\n",
        "\n",
        "![](https://i.imgur.com/KTbibGC.png)\n",
        "\n",
        "\n",
        "\n",
        "Cependant, étant donné que les sous-listes d'origine peuvent être supprimées après l'opération de `merge`, l'espace supplémentaire peut être libéré ou réutilisé pour de futurs appels de fusion. Ainsi, le tri par fusion nécessite $O(n)$ d'espace supplémentaire, c'est-à-dire que la complexité de l'espace est de $O(n)$.\n",
        "\n",
        "\n",
        "Il existe plusieurs extensions et variantes et extensions du tri par fusion :\n",
        "\n",
        "* K-way merge sort: https://en.wikipedia.org/wiki/K-way_merge_algorithm\n",
        "* Counting inversions in an array: https://www.geeksforgeeks.org/counting-inversions/\n",
        "* Merge sort and insertion sort hybrids: https://en.wikipedia.org/wiki/Timsort\n"
      ]
    },
    {
      "cell_type": "code",
      "execution_count": 35,
      "id": "5093fc78",
      "metadata": {
        "colab": {
          "base_uri": "https://localhost:8080/",
          "height": 89
        },
        "id": "5093fc78",
        "outputId": "a2462010-50b6-48f2-89d6-79797948c718"
      },
      "outputs": [
        {
          "output_type": "stream",
          "name": "stdout",
          "text": [
            "[jovian] Detected Colab notebook...\u001b[0m\n",
            "[jovian] Uploading colab notebook to Jovian...\u001b[0m\n",
            "Committed successfully! https://jovian.ai/mbousso/python-sorting-divide-and-conquer-french\n"
          ]
        },
        {
          "output_type": "execute_result",
          "data": {
            "application/vnd.google.colaboratory.intrinsic+json": {
              "type": "string"
            },
            "text/plain": [
              "'https://jovian.ai/mbousso/python-sorting-divide-and-conquer-french'"
            ]
          },
          "metadata": {},
          "execution_count": 35
        }
      ],
      "source": [
        "jovian.commit()"
      ]
    },
    {
      "cell_type": "markdown",
      "source": [
        "### Exercice complementaires en divide and conquer\n"
      ],
      "metadata": {
        "id": "hkTxFDkxUNyZ"
      },
      "id": "hkTxFDkxUNyZ"
    },
    {
      "cell_type": "markdown",
      "source": [
        "#### Exercice 1\n",
        "Determiner les limites surpérieures asymptotiques de formules de recurrences suivantes:\n",
        "![image.png](data:image/png;base64,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)"
      ],
      "metadata": {
        "id": "2WiI6x-cUZtO"
      },
      "id": "2WiI6x-cUZtO"
    },
    {
      "cell_type": "markdown",
      "source": [
        "#### Exercice 2\n",
        "Ecrire un algorithme qui donne la position d'un element dans un tableau trie"
      ],
      "metadata": {
        "id": "Ed1b8aXmUplY"
      },
      "id": "Ed1b8aXmUplY"
    },
    {
      "cell_type": "markdown",
      "source": [
        "#### Exercice 3\n",
        "Ecrire un algorithme qui dit si un element x se trouve dans un tableau. Calculer sa complexite"
      ],
      "metadata": {
        "id": "sXTQ5az-VC5C"
      },
      "id": "sXTQ5az-VC5C"
    },
    {
      "cell_type": "markdown",
      "source": [
        "#### Exercice 4\n",
        "Trouver un algorithme qui permet de calculer $x^n$ en utilisant le fait que n= 2q+r.\n",
        "Comparer la complexité avec celle de la version iterative"
      ],
      "metadata": {
        "id": "jY0j8X3IVVx4"
      },
      "id": "jY0j8X3IVVx4"
    },
    {
      "cell_type": "markdown",
      "source": [
        "#### exercice 5\n",
        "Ecrire l'algo de Karatsuba vu en cours"
      ],
      "metadata": {
        "id": "to-A_QwnWShM"
      },
      "id": "to-A_QwnWShM"
    },
    {
      "cell_type": "markdown",
      "id": "4df30e1e",
      "metadata": {
        "id": "4df30e1e"
      },
      "source": [
        "## 10. Appliquer la bonne technique pour surmonter l'inefficacité. Répétez les étapes 3 à 6.\n",
        "\n",
        "Le fait que le tri par fusion nécessite d'allouer un espace supplémentaire aussi grand que l'entrée elle-même le rend quelque peu lent en pratique car l'allocation de mémoire est beaucoup plus coûteuse que les comparaisons ou l'échange.\n",
        "\n",
        "### Tri rapide (Quicksort)\n",
        "\n",
        "Pour surmonter les inefficacités spatiales du tri par fusion, nous étudierons un autre algorithme de tri basé sur la division pour régner appelé **quicksort**, qui fonctionne comme suit :\n",
        "\n",
        "1. Si la liste est vide ou ne contient qu'un seul élément, retournez-le. C'est déjà trié.\n",
        "2. Choisissez un élément aléatoire dans la liste. Cet élément est appelé un _pivot_.\n",
        "3. Réorganisez la liste de sorte que tous les éléments avec des valeurs inférieures ou égales au pivot viennent avant le pivot, tandis que tous les éléments avec des valeurs supérieures au pivot viennent après. Cette opération est appelée _partitionnement_.\n",
        "4. L'élément pivot divise le tableau en deux parties qui peuvent être triées indépendamment en faisant un appel récursif à quicksort.\n",
        "\n",
        "![](https://images.deepai.org/glossary-terms/a5228ea07c794b468efd1b7f758b9ead/Quicksort.png)\n",
        "\n",
        "\n",
        "\n",
        "L'observation clé ici est qu'après la partition, l'élément pivot est à sa bonne place dans le tableau trié, et les deux parties du tableau peuvent être triées indépendamment sur place.\n",
        "\n",
        "Voici une implémentation de quicksort, en supposant que nous ayons déjà une fonction appelée `partitions` qui sélectionne un pivot, partitionne le tableau sur place et renvoie la position de l'élément pivot."
      ]
    },
    {
      "cell_type": "code",
      "execution_count": null,
      "id": "6a03861d",
      "metadata": {
        "id": "6a03861d"
      },
      "outputs": [],
      "source": [
        "def quicksort(nums, start=0, end=None):\n",
        "    # print('quicksort', nums, start, end)\n",
        "    if end is None:\n",
        "        nums = list(nums)\n",
        "        end = len(nums) - 1\n",
        "    \n",
        "    if start < end:\n",
        "        pivot = partition(nums, start, end)\n",
        "        quicksort(nums, start, pivot-1)\n",
        "        quicksort(nums, pivot+1, end)\n",
        "\n",
        "    return nums"
      ]
    },
    {
      "cell_type": "markdown",
      "id": "ac76dbe6",
      "metadata": {
        "id": "ac76dbe6"
      },
      "source": [
        "Voici comment le partitionnement marche([source](https://medium.com/basecs/pivoting-to-understand-quicksort-part-1-75178dfb9313)):\n",
        "\n",
        "<img src=\"https://i.imgur.com/Igk7Kr4.png\" width=\"420\">\n",
        "\n",
        "\n",
        "Voici une implementation du pivot qui utilise le dernier element comme pivot:"
      ]
    },
    {
      "cell_type": "code",
      "execution_count": null,
      "id": "c8ffdeca",
      "metadata": {
        "id": "c8ffdeca"
      },
      "outputs": [],
      "source": [
        "def partition(nums, start=0, end=None):\n",
        "    # print('partition', nums, start, end)\n",
        "    if end is None:\n",
        "        end = len(nums) - 1\n",
        "    \n",
        "    # Initialize right and left pointers\n",
        "    l, r = start, end-1\n",
        "    \n",
        "    # Iterate while they're apart\n",
        "    while r > l:\n",
        "        # print('  ', nums, l, r)\n",
        "        # Increment left pointer if number is less or equal to pivot\n",
        "        if nums[l] <= nums[end]:\n",
        "            l += 1\n",
        "        \n",
        "        # Decrement right pointer if number is greater than pivot\n",
        "        elif nums[r] > nums[end]:\n",
        "            r -= 1\n",
        "        \n",
        "        # Two out-of-place elements found, swap them\n",
        "        else:\n",
        "            nums[l], nums[r] = nums[r], nums[l]\n",
        "    # print('  ', nums, l, r)\n",
        "    # Place the pivot between the two parts\n",
        "    if nums[l] > nums[end]:\n",
        "        nums[l], nums[end] = nums[end], nums[l]\n",
        "        return l\n",
        "    else:\n",
        "        return end"
      ]
    },
    {
      "cell_type": "markdown",
      "id": "fa457c40",
      "metadata": {
        "id": "fa457c40"
      },
      "source": [
        "Voyons la fonction partition en action:"
      ]
    },
    {
      "cell_type": "code",
      "execution_count": null,
      "id": "87bf382a",
      "metadata": {
        "colab": {
          "base_uri": "https://localhost:8080/"
        },
        "id": "87bf382a",
        "outputId": "b3a9678f-517d-4cfc-cbde-3219b87efeb3"
      },
      "outputs": [
        {
          "output_type": "stream",
          "name": "stdout",
          "text": [
            "[1, 0, 2, 3, 5, 11, 6] 3\n"
          ]
        }
      ],
      "source": [
        "l1 = [1, 5, 6, 2, 0, 11, 3]\n",
        "pivot = partition2(l1)\n",
        "print(l1, pivot)"
      ]
    },
    {
      "cell_type": "code",
      "source": [
        "def quicksort(nums,start = 0,end=None):\n",
        "  \n",
        "  if nums == [] or len(nums) == 1:\n",
        "    return nums\n",
        "  pivot_index = partition(nums,start,end)\n",
        "  nums_left = nums[:pivot_index]\n",
        "  nums_right = nums[pivot_index:]\n",
        "\n",
        "  return quicksort(nums_left,0,len(nums_left)-1)+quicksort(nums_right,0,len(nums_right)-1)"
      ],
      "metadata": {
        "id": "Lg8m3WXwZOnc"
      },
      "id": "Lg8m3WXwZOnc",
      "execution_count": null,
      "outputs": []
    },
    {
      "cell_type": "markdown",
      "id": "db02877b",
      "metadata": {
        "id": "db02877b"
      },
      "source": [
        "\n",
        "\n",
        "Comme prévu, la liste a été partitionnée en utilisant 3 comme élément pivot, qui se retrouve finalement à l'index 2 dans la liste partitionnée.\n",
        "\n",
        "**Exercice :** ajoutez des instructions d'impression à l'intérieur de la fonction de partition pour afficher la liste, le pointeur gauche et le pointeur droit au début et à la fin de chaque boucle, pour étudier le fonctionnement du partitionnement."
      ]
    },
    {
      "cell_type": "markdown",
      "id": "5df7d3fa",
      "metadata": {
        "id": "5df7d3fa"
      },
      "source": [
        "Testons quicksort:"
      ]
    },
    {
      "cell_type": "code",
      "execution_count": 36,
      "id": "bddb8b89",
      "metadata": {
        "colab": {
          "base_uri": "https://localhost:8080/",
          "height": 276
        },
        "id": "bddb8b89",
        "outputId": "33d4dd78-b441-4cdb-f637-d6b899ba89cd"
      },
      "outputs": [
        {
          "output_type": "stream",
          "name": "stdout",
          "text": [
            "Input: [4, 2, 6, 3, 4, 6, 2, 1]\n",
            "Expected output: [1, 2, 2, 3, 4, 4, 6, 6]\n"
          ]
        },
        {
          "output_type": "error",
          "ename": "NameError",
          "evalue": "ignored",
          "traceback": [
            "\u001b[0;31m---------------------------------------------------------------------------\u001b[0m",
            "\u001b[0;31mNameError\u001b[0m                                 Traceback (most recent call last)",
            "\u001b[0;32m<ipython-input-36-727bff32f7b3>\u001b[0m in \u001b[0;36m<module>\u001b[0;34m()\u001b[0m\n\u001b[1;32m      3\u001b[0m \u001b[0mprint\u001b[0m\u001b[0;34m(\u001b[0m\u001b[0;34m'Input:'\u001b[0m\u001b[0;34m,\u001b[0m \u001b[0mnums0\u001b[0m\u001b[0;34m)\u001b[0m\u001b[0;34m\u001b[0m\u001b[0;34m\u001b[0m\u001b[0m\n\u001b[1;32m      4\u001b[0m \u001b[0mprint\u001b[0m\u001b[0;34m(\u001b[0m\u001b[0;34m'Expected output:'\u001b[0m\u001b[0;34m,\u001b[0m \u001b[0moutput0\u001b[0m\u001b[0;34m)\u001b[0m\u001b[0;34m\u001b[0m\u001b[0;34m\u001b[0m\u001b[0m\n\u001b[0;32m----> 5\u001b[0;31m \u001b[0mresult0\u001b[0m \u001b[0;34m=\u001b[0m \u001b[0mquicksort\u001b[0m\u001b[0;34m(\u001b[0m\u001b[0mnums0\u001b[0m\u001b[0;34m)\u001b[0m\u001b[0;34m\u001b[0m\u001b[0;34m\u001b[0m\u001b[0m\n\u001b[0m\u001b[1;32m      6\u001b[0m \u001b[0mprint\u001b[0m\u001b[0;34m(\u001b[0m\u001b[0;34m'Actual output:'\u001b[0m\u001b[0;34m,\u001b[0m \u001b[0mresult0\u001b[0m\u001b[0;34m)\u001b[0m\u001b[0;34m\u001b[0m\u001b[0;34m\u001b[0m\u001b[0m\n\u001b[1;32m      7\u001b[0m \u001b[0mprint\u001b[0m\u001b[0;34m(\u001b[0m\u001b[0;34m'Match:'\u001b[0m\u001b[0;34m,\u001b[0m \u001b[0mresult0\u001b[0m \u001b[0;34m==\u001b[0m \u001b[0moutput0\u001b[0m\u001b[0;34m)\u001b[0m\u001b[0;34m\u001b[0m\u001b[0;34m\u001b[0m\u001b[0m\n",
            "\u001b[0;31mNameError\u001b[0m: name 'quicksort' is not defined"
          ]
        }
      ],
      "source": [
        "nums0, output0 = test0['input']['nums'], test0['output']\n",
        "\n",
        "print('Input:', nums0)\n",
        "print('Expected output:', output0)\n",
        "result0 = quicksort(nums0)\n",
        "print('Actual output:', result0)\n",
        "print('Match:', result0 == output0)"
      ]
    },
    {
      "cell_type": "markdown",
      "id": "8bda6a9f",
      "metadata": {
        "id": "8bda6a9f"
      },
      "source": [
        "Testons tous les cas en utilisant la fonction `evaluate_test_cases` de `jovian`."
      ]
    },
    {
      "cell_type": "code",
      "execution_count": null,
      "id": "314af8eb",
      "metadata": {
        "scrolled": true,
        "colab": {
          "base_uri": "https://localhost:8080/"
        },
        "id": "314af8eb",
        "outputId": "67cf63d2-8880-4076-aa6e-a92009eb55e8"
      },
      "outputs": [
        {
          "output_type": "stream",
          "name": "stdout",
          "text": [
            "\n",
            "\u001b[1mTEST CASE #0\u001b[0m\n",
            "\n",
            "Input:\n",
            "{'nums': [1, 2, 2, 3, 4, 4, 6, 6]}\n",
            "\n",
            "Expected Output:\n",
            "[1, 2, 2, 3, 4, 4, 6, 6]\n",
            "\n",
            "\n",
            "Actual Output:\n",
            "[1, 2, 2, 3, 4, 4, 6, 6]\n",
            "\n",
            "Execution Time:\n",
            "0.036 ms\n",
            "\n",
            "Test Result:\n",
            "\u001b[92mPASSED\u001b[0m\n",
            "\n",
            "\n",
            "\u001b[1mTEST CASE #1\u001b[0m\n",
            "\n",
            "Input:\n",
            "{'nums': [-243, -12, 0, 1, 23, 7, 2, 12, 5, 6]}\n",
            "\n",
            "Expected Output:\n",
            "[-243, -12, 0, 1, 2, 5, 6, 7, 12, 23]\n",
            "\n",
            "\n",
            "Actual Output:\n",
            "[-243, -12, 0, 1, 2, 5, 6, 7, 12, 23]\n",
            "\n",
            "Execution Time:\n",
            "0.045 ms\n",
            "\n",
            "Test Result:\n",
            "\u001b[92mPASSED\u001b[0m\n",
            "\n",
            "\n",
            "\u001b[1mTEST CASE #2\u001b[0m\n",
            "\n",
            "Input:\n",
            "{'nums': [3, 5, 6, 8, 9, 10, 99]}\n",
            "\n",
            "Expected Output:\n",
            "[3, 5, 6, 8, 9, 10, 99]\n",
            "\n",
            "\n",
            "Actual Output:\n",
            "[3, 5, 6, 8, 9, 10, 99]\n",
            "\n",
            "Execution Time:\n",
            "0.024 ms\n",
            "\n",
            "Test Result:\n",
            "\u001b[92mPASSED\u001b[0m\n",
            "\n",
            "\n",
            "\u001b[1mTEST CASE #3\u001b[0m\n",
            "\n",
            "Input:\n",
            "{'nums': [3, 10, 9, 8, 6, 5, 99]}\n",
            "\n",
            "Expected Output:\n",
            "[3, 5, 6, 8, 9, 10, 99]\n",
            "\n",
            "\n",
            "Actual Output:\n",
            "[3, 5, 6, 8, 9, 10, 99]\n",
            "\n",
            "Execution Time:\n",
            "0.027 ms\n",
            "\n",
            "Test Result:\n",
            "\u001b[92mPASSED\u001b[0m\n",
            "\n",
            "\n",
            "\u001b[1mTEST CASE #4\u001b[0m\n",
            "\n",
            "Input:\n",
            "{'nums': [-243, -12, -12, 0, 1, 23, 7, 7, 2, 6, 12, 1, 5, 1, 6]}\n",
            "\n",
            "Expected Output:\n",
            "[-243, -12, -12, 0, 1, 1, 1, 2, 5, 6, 6, 7, 7, 12, 23]\n",
            "\n",
            "\n",
            "Actual Output:\n",
            "[-243, -12, -12, 0, 1, 1, 1, 2, 5, 6, 6, 7, 7, 12, 23]\n",
            "\n",
            "Execution Time:\n",
            "0.053 ms\n",
            "\n",
            "Test Result:\n",
            "\u001b[92mPASSED\u001b[0m\n",
            "\n",
            "\n",
            "\u001b[1mTEST CASE #5\u001b[0m\n",
            "\n",
            "Input:\n",
            "{'nums': []}\n",
            "\n",
            "Expected Output:\n",
            "[]\n",
            "\n",
            "\n",
            "Actual Output:\n",
            "[]\n",
            "\n",
            "Execution Time:\n",
            "0.002 ms\n",
            "\n",
            "Test Result:\n",
            "\u001b[92mPASSED\u001b[0m\n",
            "\n",
            "\n",
            "\u001b[1mTEST CASE #6\u001b[0m\n",
            "\n",
            "Input:\n",
            "{'nums': [23]}\n",
            "\n",
            "Expected Output:\n",
            "[23]\n",
            "\n",
            "\n",
            "Actual Output:\n",
            "[23]\n",
            "\n",
            "Execution Time:\n",
            "0.003 ms\n",
            "\n",
            "Test Result:\n",
            "\u001b[92mPASSED\u001b[0m\n",
            "\n",
            "\n",
            "\u001b[1mTEST CASE #7\u001b[0m\n",
            "\n",
            "Input:\n",
            "{'nums': [42, 42, 42, 42, 42, 42, 42]}\n",
            "\n",
            "Expected Output:\n",
            "[42, 42, 42, 42, 42, 42, 42]\n",
            "\n",
            "\n",
            "Actual Output:\n",
            "[42, 42, 42, 42, 42, 42, 42]\n",
            "\n",
            "Execution Time:\n",
            "0.02 ms\n",
            "\n",
            "Test Result:\n",
            "\u001b[92mPASSED\u001b[0m\n",
            "\n",
            "\n",
            "\u001b[1mTEST CASE #8\u001b[0m\n",
            "\n",
            "Input:\n",
            "{'nums': [2010, 3007, 3831, 523, 4707, 3160, 1331, 1637, 2591, 2624, 3026, 3721, 2123, 1641, 866, 23...\n",
            "\n",
            "Expected Output:\n",
            "[0, 1, 2, 3, 4, 5, 6, 7, 8, 9, 10, 11, 12, 13, 14, 15, 16, 17, 18, 19, 20, 21, 22, 23, 24, 25, 26, 2...\n",
            "\n",
            "\n",
            "Actual Output:\n",
            "[0, 1, 2, 3, 4, 5, 6, 7, 8, 9, 10, 11, 12, 13, 14, 15, 16, 17, 18, 19, 20, 21, 22, 23, 24, 25, 26, 2...\n",
            "\n",
            "Execution Time:\n",
            "64.817 ms\n",
            "\n",
            "Test Result:\n",
            "\u001b[92mPASSED\u001b[0m\n",
            "\n",
            "\n",
            "\u001b[1mSUMMARY\u001b[0m\n",
            "\n",
            "TOTAL: 9, \u001b[92mPASSED\u001b[0m: 9, \u001b[91mFAILED\u001b[0m: 0\n"
          ]
        }
      ],
      "source": [
        "from jovian.pythondsa import evaluate_test_cases\n",
        "\n",
        "results = evaluate_test_cases(quicksort, tests)"
      ]
    },
    {
      "cell_type": "markdown",
      "id": "6e60ff27",
      "metadata": {
        "id": "6e60ff27"
      },
      "source": [
        "\n",
        "\n",
        "Tous les cas de test ont passé avec succès ! Vous remarquerez également que c'est également légèrement plus rapide que le tri par fusion pour les listes plus volumineuses."
      ]
    },
    {
      "cell_type": "markdown",
      "id": "956d578a",
      "metadata": {
        "id": "956d578a"
      },
      "source": [
        "### Complexite temporelle de Quicksort\n",
        "\n",
        "Nous distinguons deux cas:\n",
        "\n",
        "\n",
        "Best case partitioning:\n",
        "\n",
        "<img src=\"https://i.imgur.com/DgvYvnG.png\" width=\"480\">\n",
        "\n",
        "\n",
        "\n",
        "\n",
        "Si nous divisons la liste en deux parties presque égales, alors l'analyse de complexité est similaire à celle du tri par fusion et le tri rapide a la complexité $O(n \\log n)$. C'est ce qu'on appelle la complexité average-case.\n",
        "\n",
        "Worst case partitioning:\n",
        "\n",
        "\n",
        "<img src=\"https://cdn.kastatic.org/ka-perseus-images/7da2ac32779bef669a6f05decb62f219a9132158.png\" width=\"480\">\n",
        "\n",
        "\n",
        "Dans ce cas, la partition est appelée `n` fois avec des listes de tailles `n`, `n-1`... de sorte que les comparaisons totales sont $n + (n-1) + (n-2) + .. .+ 2 + 1 = n * (n-1) / 2$. Ainsi, la complexité la plus défavorable du tri rapide est $O(n^2)$.\n",
        "\n",
        "**Exercice :** Vérifiez que le tri rapide nécessite $O(1)$ d'espace supplémentaire.\n",
        "\n",
        "Malgré la complexité temporelle quadratique dans le pire des cas, Quicksort est préféré dans de nombreuses situations car son temps d'exécution est plus proche de $O(n \\log n)$ en pratique, en particulier avec une bonne stratégie pour choisir un pivot. Certains d'entre eux sont :\n",
        "\n",
        "- [Picking a random pivot](https://cs.stackexchange.com/questions/7582/what-is-the-advantage-of-randomized-quicksort)\n",
        "- [Picking median of medians](https://en.wikipedia.org/wiki/Median_of_medians)\n",
        "\n",
        "\n",
        "Voici quelques autres problèmes que vous pouvez résoudre en utilisant la stratégie de partitionnement de Quicksort : https://www.techiedelight.com/problems-solved-using-partitioning-logic-quicksort/\n",
        "\n",
        "\n",
        "\n"
      ]
    },
    {
      "cell_type": "markdown",
      "source": [
        ""
      ],
      "metadata": {
        "id": "1Z9aNQraf6ih"
      },
      "id": "1Z9aNQraf6ih"
    },
    {
      "cell_type": "code",
      "execution_count": 37,
      "id": "e1d843d2",
      "metadata": {
        "id": "e1d843d2",
        "colab": {
          "base_uri": "https://localhost:8080/",
          "height": 89
        },
        "outputId": "7679acf8-5989-46db-d905-904b0527a6a2"
      },
      "outputs": [
        {
          "output_type": "stream",
          "name": "stdout",
          "text": [
            "[jovian] Detected Colab notebook...\u001b[0m\n",
            "[jovian] Uploading colab notebook to Jovian...\u001b[0m\n",
            "Committed successfully! https://jovian.ai/mbousso/python-sorting-divide-and-conquer-french\n"
          ]
        },
        {
          "output_type": "execute_result",
          "data": {
            "application/vnd.google.colaboratory.intrinsic+json": {
              "type": "string"
            },
            "text/plain": [
              "'https://jovian.ai/mbousso/python-sorting-divide-and-conquer-french'"
            ]
          },
          "metadata": {},
          "execution_count": 37
        }
      ],
      "source": [
        "jovian.commit()"
      ]
    },
    {
      "cell_type": "code",
      "source": [
        ""
      ],
      "metadata": {
        "id": "L3c8Ipo6vIzf"
      },
      "id": "L3c8Ipo6vIzf",
      "execution_count": null,
      "outputs": []
    },
    {
      "cell_type": "markdown",
      "id": "5299f200",
      "metadata": {
        "id": "5299f200"
      },
      "source": [
        "## Fonctions de comparaison personnalisées\n",
        "\n",
        "Revenons maintenant à notre énoncé de problème d'origine.\n",
        "\n",
        "> **QUESTION 1** : Vous travaillez sur une nouvelle fonctionnalité sur Jovian intitulée \"Top Notebooks of the Week\". Écrivez une fonction pour trier une liste de notebooks par ordre décroissant de likes. Gardez à l'esprit que jusqu'à des millions de blocs-notes peuvent être créés chaque semaine, votre fonction doit donc être aussi efficace que possible.\n",
        "\n",
        "Tout d'abord, nous devons trier des objets, pas seulement des nombres. De plus, nous voulons les trier dans l'ordre décroissant des likes. Pour ce faire, tout ce dont nous avons besoin est une fonction de comparaison personnalisée pour comparer deux notebooks.\n",
        "\n",
        "Créons une classe qui capture des informations de base sur les blocs-notes."
      ]
    },
    {
      "cell_type": "code",
      "execution_count": 38,
      "id": "e4159152",
      "metadata": {
        "id": "e4159152"
      },
      "outputs": [],
      "source": [
        "class Notebook:\n",
        "    def __init__(self, title, username, likes):\n",
        "        self.title, self.username, self.likes = title, username, likes\n",
        "        \n",
        "    def __repr__(self):\n",
        "        return 'Notebook <\"{}/{}\", {} likes>'.format(self.username, self.title, self.likes)"
      ]
    },
    {
      "cell_type": "markdown",
      "id": "80ff1bec",
      "metadata": {
        "id": "80ff1bec"
      },
      "source": [
        "Let's create some sample notebooks"
      ]
    },
    {
      "cell_type": "code",
      "execution_count": 40,
      "id": "978da664",
      "metadata": {
        "id": "978da664"
      },
      "outputs": [],
      "source": [
        "nb0 = Notebook('pytorch-basics', 'aakashns', 373)\n",
        "nb1 = Notebook('linear-regression', 'siddhant', 532)\n",
        "nb2 = Notebook('logistic-regression', 'vikas', 31)\n",
        "nb3 = Notebook('feedforward-nn', 'sonaksh', 94)\n",
        "nb4 = Notebook('cifar10-cnn', 'bousso', 2)\n",
        "nb5 = Notebook('cifar10-resnet', 'tanya', 29)\n",
        "nb6 = Notebook('anime-gans', 'mamadou', 80)\n",
        "nb7 = Notebook('python-fundamentals', 'vishal', 136)\n",
        "nb8 = Notebook('python-functions', 'aakashns', 74)\n",
        "nb9 = Notebook('python-numpy', 'siddhant', 92)"
      ]
    },
    {
      "cell_type": "code",
      "execution_count": 41,
      "id": "697a53c3",
      "metadata": {
        "id": "697a53c3"
      },
      "outputs": [],
      "source": [
        "notebooks = [nb0, nb1, nb2, nb3, nb4, nb5,nb6, nb7, nb8, nb9]"
      ]
    },
    {
      "cell_type": "code",
      "execution_count": 42,
      "id": "49505796",
      "metadata": {
        "colab": {
          "base_uri": "https://localhost:8080/"
        },
        "id": "49505796",
        "outputId": "43e05348-60da-4715-96b2-722fbbe4c9d5"
      },
      "outputs": [
        {
          "output_type": "execute_result",
          "data": {
            "text/plain": [
              "[Notebook <\"aakashns/pytorch-basics\", 373 likes>,\n",
              " Notebook <\"siddhant/linear-regression\", 532 likes>,\n",
              " Notebook <\"vikas/logistic-regression\", 31 likes>,\n",
              " Notebook <\"sonaksh/feedforward-nn\", 94 likes>,\n",
              " Notebook <\"bousso/cifar10-cnn\", 2 likes>,\n",
              " Notebook <\"tanya/cifar10-resnet\", 29 likes>,\n",
              " Notebook <\"mamadou/anime-gans\", 80 likes>,\n",
              " Notebook <\"vishal/python-fundamentals\", 136 likes>,\n",
              " Notebook <\"aakashns/python-functions\", 74 likes>,\n",
              " Notebook <\"siddhant/python-numpy\", 92 likes>]"
            ]
          },
          "metadata": {},
          "execution_count": 42
        }
      ],
      "source": [
        "notebooks"
      ]
    },
    {
      "cell_type": "markdown",
      "id": "ec2c8438",
      "metadata": {
        "id": "ec2c8438"
      },
      "source": [
        "\n",
        "\n",
        "Ensuite, nous définirons une fonction de comparaison personnalisée pour comparer deux notebooks. Il retournera les chaînes `'inférieur'`, `'égal'` ou `'supérieur'` pour établir l'ordre entre les deux objets."
      ]
    },
    {
      "cell_type": "code",
      "execution_count": 43,
      "id": "8cbf538a",
      "metadata": {
        "id": "8cbf538a"
      },
      "outputs": [],
      "source": [
        "def compare_likes(nb1, nb2):\n",
        "    if nb1.likes > nb2.likes:\n",
        "        return 'lesser'\n",
        "    elif nb1.likes == nb2.likes:\n",
        "        return 'equal'\n",
        "    elif nb1.likes < nb2.likes:\n",
        "        return 'greater'"
      ]
    },
    {
      "cell_type": "markdown",
      "id": "a64aaa42",
      "metadata": {
        "id": "a64aaa42"
      },
      "source": [
        "\n",
        "\n",
        "Notez que nous disons que `nb1` est _lesser_ à `nb2` s'il a plus de likes, car nous voulons trier les cahiers par ordre décroissant de likes.\n",
        "\n",
        "Voici une implémentation du tri par fusion qui accepte une fonction de comparaison personnalisée."
      ]
    },
    {
      "cell_type": "code",
      "execution_count": 44,
      "id": "bb4816ef",
      "metadata": {
        "id": "bb4816ef"
      },
      "outputs": [],
      "source": [
        "def default_compare(x, y):\n",
        "    if x < y:\n",
        "        return 'less'\n",
        "    elif x == y:\n",
        "        return 'equal'\n",
        "    else:\n",
        "        return 'greater'\n",
        "\n",
        "def merge_sort(objs, compare=default_compare):\n",
        "    if len(objs) < 2:\n",
        "        return objs\n",
        "    mid = len(objs) // 2\n",
        "    return merge(merge_sort(objs[:mid], compare), \n",
        "                 merge_sort(objs[mid:], compare), \n",
        "                 compare)\n",
        "\n",
        "def merge(left, right, compare):\n",
        "    i, j, merged = 0, 0, []\n",
        "    while i < len(left) and j < len(right):\n",
        "        result = compare(left[i], right[j])\n",
        "        if result == 'lesser' or result == 'equal':\n",
        "            merged.append(left[i])\n",
        "            i += 1\n",
        "        else:\n",
        "            merged.append(right[j])\n",
        "            j += 1\n",
        "    return merged + left[i:] + right[j:]"
      ]
    },
    {
      "cell_type": "code",
      "execution_count": 45,
      "id": "38418b12",
      "metadata": {
        "id": "38418b12"
      },
      "outputs": [],
      "source": [
        "sorted_notebooks = merge_sort(notebooks, compare_likes)"
      ]
    },
    {
      "cell_type": "code",
      "execution_count": 46,
      "id": "a0760ff7",
      "metadata": {
        "colab": {
          "base_uri": "https://localhost:8080/"
        },
        "id": "a0760ff7",
        "outputId": "5d024485-cc7d-4aac-daf8-f55bca5d2de9"
      },
      "outputs": [
        {
          "output_type": "execute_result",
          "data": {
            "text/plain": [
              "[Notebook <\"siddhant/linear-regression\", 532 likes>,\n",
              " Notebook <\"aakashns/pytorch-basics\", 373 likes>,\n",
              " Notebook <\"vishal/python-fundamentals\", 136 likes>,\n",
              " Notebook <\"sonaksh/feedforward-nn\", 94 likes>,\n",
              " Notebook <\"siddhant/python-numpy\", 92 likes>,\n",
              " Notebook <\"mamadou/anime-gans\", 80 likes>,\n",
              " Notebook <\"aakashns/python-functions\", 74 likes>,\n",
              " Notebook <\"vikas/logistic-regression\", 31 likes>,\n",
              " Notebook <\"tanya/cifar10-resnet\", 29 likes>,\n",
              " Notebook <\"bousso/cifar10-cnn\", 2 likes>]"
            ]
          },
          "metadata": {},
          "execution_count": 46
        }
      ],
      "source": [
        "sorted_notebooks"
      ]
    },
    {
      "cell_type": "markdown",
      "id": "86e31dd9",
      "metadata": {
        "id": "86e31dd9"
      },
      "source": [
        "\n",
        "\n",
        "Comme vous pouvez le voir, les notebooks sont maintenant triés par likes. Puisque nous avons écrit une fonction générique `merge_sort` qui fonctionne avec n'importe quelle fonction de comparaison, nous pouvons également l'utiliser pour trier les notebooks par titre."
      ]
    },
    {
      "cell_type": "code",
      "execution_count": 47,
      "id": "7430bcc0",
      "metadata": {
        "id": "7430bcc0"
      },
      "outputs": [],
      "source": [
        "def compare_titles(nb1, nb2):\n",
        "    if nb1.title < nb2.title:\n",
        "        return 'lesser'\n",
        "    elif nb1.title == nb2.title:\n",
        "        return 'equal'\n",
        "    elif nb1.title > nb2.title:\n",
        "        return 'greater'"
      ]
    },
    {
      "cell_type": "code",
      "execution_count": 48,
      "id": "544ea2b2",
      "metadata": {
        "colab": {
          "base_uri": "https://localhost:8080/"
        },
        "id": "544ea2b2",
        "outputId": "313f2681-8f95-4e8b-9ed7-2be15ee29f0f"
      },
      "outputs": [
        {
          "output_type": "execute_result",
          "data": {
            "text/plain": [
              "[Notebook <\"mamadou/anime-gans\", 80 likes>,\n",
              " Notebook <\"bousso/cifar10-cnn\", 2 likes>,\n",
              " Notebook <\"tanya/cifar10-resnet\", 29 likes>,\n",
              " Notebook <\"sonaksh/feedforward-nn\", 94 likes>,\n",
              " Notebook <\"siddhant/linear-regression\", 532 likes>,\n",
              " Notebook <\"vikas/logistic-regression\", 31 likes>,\n",
              " Notebook <\"aakashns/python-functions\", 74 likes>,\n",
              " Notebook <\"vishal/python-fundamentals\", 136 likes>,\n",
              " Notebook <\"siddhant/python-numpy\", 92 likes>,\n",
              " Notebook <\"aakashns/pytorch-basics\", 373 likes>]"
            ]
          },
          "metadata": {},
          "execution_count": 48
        }
      ],
      "source": [
        "merge_sort(notebooks, compare_titles)"
      ]
    },
    {
      "cell_type": "markdown",
      "id": "e608525a",
      "metadata": {
        "id": "e608525a"
      },
      "source": [
        "**Exercice:** \n",
        "\n",
        "Implémentez et testez des versions génériques du tri à bulles, du tri par insertion et du tri rapide en utilisant les cellules vides ci-dessous."
      ]
    },
    {
      "cell_type": "code",
      "execution_count": null,
      "id": "609842da",
      "metadata": {
        "id": "609842da"
      },
      "outputs": [],
      "source": [
        ""
      ]
    },
    {
      "cell_type": "code",
      "execution_count": null,
      "id": "b10fae11",
      "metadata": {
        "id": "b10fae11"
      },
      "outputs": [],
      "source": [
        ""
      ]
    },
    {
      "cell_type": "code",
      "execution_count": null,
      "id": "4d8199e7",
      "metadata": {
        "id": "4d8199e7"
      },
      "outputs": [],
      "source": [
        ""
      ]
    },
    {
      "cell_type": "code",
      "execution_count": 49,
      "id": "986207b3",
      "metadata": {
        "id": "986207b3",
        "colab": {
          "base_uri": "https://localhost:8080/",
          "height": 89
        },
        "outputId": "5591d49a-a597-4d91-a567-b17e1767d4d1"
      },
      "outputs": [
        {
          "output_type": "stream",
          "name": "stdout",
          "text": [
            "[jovian] Detected Colab notebook...\u001b[0m\n",
            "[jovian] Uploading colab notebook to Jovian...\u001b[0m\n",
            "Committed successfully! https://jovian.ai/mbousso/python-sorting-divide-and-conquer-french\n"
          ]
        },
        {
          "output_type": "execute_result",
          "data": {
            "application/vnd.google.colaboratory.intrinsic+json": {
              "type": "string"
            },
            "text/plain": [
              "'https://jovian.ai/mbousso/python-sorting-divide-and-conquer-french'"
            ]
          },
          "metadata": {},
          "execution_count": 49
        }
      ],
      "source": [
        "jovian.commit()"
      ]
    },
    {
      "cell_type": "markdown",
      "id": "df23acb8",
      "metadata": {
        "id": "df23acb8"
      },
      "source": [
        "## En resume\n",
        "\n",
        "Nous avons couvert les algorithmes de tri suivants dans ce didacticiel :\n",
        "\n",
        "1. Tri à bulles\n",
        "2. Tri par insertion\n",
        "3. Tri par fusion\n",
        "4. Tri rapide\n",
        "\n",
        "Il existe plusieurs autres algorithmes de tri, et la plupart des langages fournissent des fonctions de bibliothèque pour le tri qui utilisent une approche hybride en fonction de la taille et du type d'élément dans la liste/le tableau.\n",
        "\n",
        "\n",
        "Essayez quelques problèmes sur le tri et diviser pour mieux régner ici :\n",
        "* https://leetcode.com/tag/sort/\n",
        "* https://www.techiedelight.com/sorting-interview-questions/\n",
        "* [HackerRank](https://www.hackerrank.com/domains/algorithms?filters%5Bsubdomains%5D%5B%5D=arrays-and-sorting)\n",
        "* https://leetcode.com/tag/divide-and-conquer/\n",
        "* https://www.geeksforgeeks.org/divide-and-conquer/\n",
        "\n",
        "Use this problem solving template: https://jovian.ai/aakashns/python-problem-solving-template"
      ]
    },
    {
      "cell_type": "code",
      "execution_count": null,
      "id": "166e4b08",
      "metadata": {
        "id": "166e4b08"
      },
      "outputs": [],
      "source": [
        ""
      ]
    }
  ],
  "metadata": {
    "kernelspec": {
      "display_name": "Python 3",
      "language": "python",
      "name": "python3"
    },
    "language_info": {
      "codemirror_mode": {
        "name": "ipython",
        "version": 3
      },
      "file_extension": ".py",
      "mimetype": "text/x-python",
      "name": "python",
      "nbconvert_exporter": "python",
      "pygments_lexer": "ipython3",
      "version": "3.8.6"
    },
    "colab": {
      "name": "python-tri-divide-and-conquer-french.ipynb",
      "provenance": [],
      "collapsed_sections": [
        "899121fa",
        "3a7244bf",
        "cd18c3bb",
        "f2d0e78e",
        "4df30e1e",
        "956d578a",
        "5299f200",
        "df23acb8"
      ],
      "include_colab_link": true
    }
  },
  "nbformat": 4,
  "nbformat_minor": 5
}