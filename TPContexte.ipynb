{
  "nbformat": 4,
  "nbformat_minor": 0,
  "metadata": {
    "colab": {
      "name": "TPContexte.ipynb",
      "provenance": [],
      "include_colab_link": true
    },
    "kernelspec": {
      "name": "python3",
      "display_name": "Python 3"
    },
    "language_info": {
      "name": "python"
    }
  },
  "cells": [
    {
      "cell_type": "markdown",
      "metadata": {
        "id": "view-in-github",
        "colab_type": "text"
      },
      "source": [
        "<a href=\"https://colab.research.google.com/github/MamadouBousso/Cours-Python/blob/main/TPContexte.ipynb\" target=\"_parent\"><img src=\"https://colab.research.google.com/assets/colab-badge.svg\" alt=\"Open In Colab\"/></a>"
      ]
    },
    {
      "cell_type": "markdown",
      "metadata": {
        "id": "vFTZmWm8dxG6"
      },
      "source": [
        "# Gestionnaire de contexte"
      ]
    },
    {
      "cell_type": "markdown",
      "metadata": {
        "id": "QE21W3Cud15H"
      },
      "source": [
        "## Problémes"
      ]
    },
    {
      "cell_type": "code",
      "metadata": {
        "id": "rQ7uUJHedvxk"
      },
      "source": [
        "#Si une exception survient durant l'ecriture rien ne garantit que le fichier sera  fermé\n",
        "file = open(\"myfile.txt\", \"w\")\n",
        "file.write(\"Hello, World!\")\n",
        "file.close()"
      ],
      "execution_count": null,
      "outputs": []
    },
    {
      "cell_type": "markdown",
      "metadata": {
        "id": "mxm_9jpmgtFR"
      },
      "source": [
        "## Solutions avec try .... finally\n"
      ]
    },
    {
      "cell_type": "code",
      "metadata": {
        "id": "7O2D4ozsg6BT"
      },
      "source": [
        "# Safely open the file\n",
        "file = open(\"myfile.txt\", \"w\")\n",
        "\n",
        "try:\n",
        "    file.write(\"Hello, World!\")\n",
        "finally:\n",
        "    # Finally nous permet de nous assurer de la fermeture du fichier\n",
        "    file.close()"
      ],
      "execution_count": null,
      "outputs": []
    },
    {
      "cell_type": "code",
      "metadata": {
        "id": "M3lQ7_J2hPnx"
      },
      "source": [
        "# Ou plus proprement ajouter un try except durant l'ecriture qui permet de capturer toutes les exceptions eventuelles\n",
        "file = open(\"hello.txt\", \"w\")\n",
        "\n",
        "try:\n",
        "    file.write(\"Hello, World!\")\n",
        "except Exception as e:\n",
        "    print(f\"An error occurred while writing to the file: {e}\")\n",
        "finally:\n",
        "    # Finally nous permet de nous assurer de la fermeture du fichier\n",
        "    file.close()"
      ],
      "execution_count": null,
      "outputs": []
    },
    {
      "cell_type": "markdown",
      "metadata": {
        "id": "rz3pDDNHlxMY"
      },
      "source": [
        "## Solutions avec with"
      ]
    },
    {
      "cell_type": "code",
      "metadata": {
        "colab": {
          "base_uri": "https://localhost:8080/",
          "height": 181
        },
        "id": "Br83S1f6l3Cs",
        "outputId": "091e4092-2b02-4bcd-e129-0ae6c830228c"
      },
      "source": [
        "with expression as target_var:\n",
        "    do_something(target_var)"
      ],
      "execution_count": null,
      "outputs": [
        {
          "output_type": "error",
          "ename": "NameError",
          "evalue": "ignored",
          "traceback": [
            "\u001b[0;31m---------------------------------------------------------------------------\u001b[0m",
            "\u001b[0;31mNameError\u001b[0m                                 Traceback (most recent call last)",
            "\u001b[0;32m<ipython-input-12-78755cb83cc6>\u001b[0m in \u001b[0;36m<module>\u001b[0;34m()\u001b[0m\n\u001b[0;32m----> 1\u001b[0;31m \u001b[0;32mwith\u001b[0m \u001b[0mexpression\u001b[0m \u001b[0;32mas\u001b[0m \u001b[0mtarget_var\u001b[0m\u001b[0;34m:\u001b[0m\u001b[0;34m\u001b[0m\u001b[0;34m\u001b[0m\u001b[0m\n\u001b[0m\u001b[1;32m      2\u001b[0m     \u001b[0mdo_something\u001b[0m\u001b[0;34m(\u001b[0m\u001b[0mtarget_var\u001b[0m\u001b[0;34m)\u001b[0m\u001b[0;34m\u001b[0m\u001b[0;34m\u001b[0m\u001b[0m\n",
            "\u001b[0;31mNameError\u001b[0m: name 'expression' is not defined"
          ]
        }
      ]
    },
    {
      "cell_type": "code",
      "metadata": {
        "id": "NlaHvzKNthfZ"
      },
      "source": [
        "with open(\"myfile.txt\", mode=\"w\") as file:\n",
        "    file.write(\"Hello, World!\")"
      ],
      "execution_count": null,
      "outputs": []
    },
    {
      "cell_type": "code",
      "metadata": {
        "colab": {
          "base_uri": "https://localhost:8080/",
          "height": 198
        },
        "id": "8RRdHWD8cs2L",
        "outputId": "7e16eda0-8f60-497a-84b3-0629c576a9e6"
      },
      "source": [
        "with open(\"myfile.txt\", mode=\"w\") as file:\n",
        "    file.write(\"Hello, World!\")\n",
        "\n",
        "file.write(\"Bonjour\")"
      ],
      "execution_count": null,
      "outputs": [
        {
          "output_type": "error",
          "ename": "ValueError",
          "evalue": "ignored",
          "traceback": [
            "\u001b[0;31m---------------------------------------------------------------------------\u001b[0m",
            "\u001b[0;31mValueError\u001b[0m                                Traceback (most recent call last)",
            "\u001b[0;32m<ipython-input-11-b11158fb2630>\u001b[0m in \u001b[0;36m<module>\u001b[0;34m()\u001b[0m\n\u001b[1;32m      2\u001b[0m     \u001b[0mfile\u001b[0m\u001b[0;34m.\u001b[0m\u001b[0mwrite\u001b[0m\u001b[0;34m(\u001b[0m\u001b[0;34m\"Hello, World!\"\u001b[0m\u001b[0;34m)\u001b[0m\u001b[0;34m\u001b[0m\u001b[0;34m\u001b[0m\u001b[0m\n\u001b[1;32m      3\u001b[0m \u001b[0;34m\u001b[0m\u001b[0m\n\u001b[0;32m----> 4\u001b[0;31m \u001b[0mfile\u001b[0m\u001b[0;34m.\u001b[0m\u001b[0mwrite\u001b[0m\u001b[0;34m(\u001b[0m\u001b[0;34m\"Bonjour\"\u001b[0m\u001b[0;34m)\u001b[0m\u001b[0;34m\u001b[0m\u001b[0;34m\u001b[0m\u001b[0m\n\u001b[0m",
            "\u001b[0;31mValueError\u001b[0m: I/O operation on closed file."
          ]
        }
      ]
    },
    {
      "cell_type": "code",
      "metadata": {
        "id": "J7GIEEa5wKwy"
      },
      "source": [
        "#Possibilité d'avoir plus contextes d'execution\n",
        "with open(\"myfile.txt\") as in_file, open(\"output.txt\", \"w\") as out_file:\n",
        "    # lire le contenu de input.txt\n",
        "    contenu = in_file.read()\n",
        "    # Transformer le contenu\n",
        "    contenu = contenu + \" ajout de texte\"\n",
        "    # Ecrire le contenu transforme dans output.txt\n",
        "    out_file.write(contenu)\n",
        "    #pass"
      ],
      "execution_count": null,
      "outputs": []
    },
    {
      "cell_type": "code",
      "metadata": {
        "colab": {
          "base_uri": "https://localhost:8080/"
        },
        "id": "FUKv6hc3xXU5",
        "outputId": "9fa4abeb-6cb8-47f2-c6d5-e35dd70027e6"
      },
      "source": [
        "import os\n",
        "# Parcourir les repertoires avec os.scandir qui retourne un iterateur sur objet os.DirEntry qui supporte le management context protocole\n",
        "with os.scandir(\".\") as entries:\n",
        "  \n",
        "  for entry in entries:\n",
        "    print(entry.name, \"->\", entry.stat().st_size, \"bytes\")"
      ],
      "execution_count": null,
      "outputs": [
        {
          "output_type": "stream",
          "name": "stdout",
          "text": [
            ".config -> 4096 bytes\n",
            "myfile.txt -> 13 bytes\n",
            "output.txt -> 28 bytes\n",
            "hello.txt -> 13 bytes\n",
            "sample_data -> 4096 bytes\n"
          ]
        }
      ]
    },
    {
      "cell_type": "markdown",
      "metadata": {
        "id": "1ji6TZMqzImv"
      },
      "source": [
        "##  Problémes et exemples"
      ]
    },
    {
      "cell_type": "code",
      "metadata": {
        "colab": {
          "base_uri": "https://localhost:8080/",
          "height": 215
        },
        "id": "HGdJdO7nzLtn",
        "outputId": "170d479c-daf3-4882-f96e-c86b101cf9b9"
      },
      "source": [
        "file = open(\"myfile.txt\", mode=\"w\")\n",
        "\n",
        "with file:\n",
        "  file.write(\"Bonjour, le monde!\")\n",
        "\n",
        "\n",
        "with file:\n",
        "  file.write(\"Bienvenu au cours de Python!\")"
      ],
      "execution_count": null,
      "outputs": [
        {
          "output_type": "error",
          "ename": "ValueError",
          "evalue": "ignored",
          "traceback": [
            "\u001b[0;31m---------------------------------------------------------------------------\u001b[0m",
            "\u001b[0;31mValueError\u001b[0m                                Traceback (most recent call last)",
            "\u001b[0;32m<ipython-input-15-fb0b5be68a7a>\u001b[0m in \u001b[0;36m<module>\u001b[0;34m()\u001b[0m\n\u001b[1;32m      5\u001b[0m \u001b[0;34m\u001b[0m\u001b[0m\n\u001b[1;32m      6\u001b[0m \u001b[0;34m\u001b[0m\u001b[0m\n\u001b[0;32m----> 7\u001b[0;31m \u001b[0;32mwith\u001b[0m \u001b[0mfile\u001b[0m\u001b[0;34m:\u001b[0m\u001b[0;34m\u001b[0m\u001b[0;34m\u001b[0m\u001b[0m\n\u001b[0m\u001b[1;32m      8\u001b[0m   \u001b[0mfile\u001b[0m\u001b[0;34m.\u001b[0m\u001b[0mwrite\u001b[0m\u001b[0;34m(\u001b[0m\u001b[0;34m\"Bienvenu au cours de Python!\"\u001b[0m\u001b[0;34m)\u001b[0m\u001b[0;34m\u001b[0m\u001b[0;34m\u001b[0m\u001b[0m\n",
            "\u001b[0;31mValueError\u001b[0m: I/O operation on closed file."
          ]
        }
      ]
    },
    {
      "cell_type": "markdown",
      "metadata": {
        "id": "Vto3iQcpzyxJ"
      },
      "source": [
        "Solution au probleme: utiliser [pathlib.Path.open](https://docs.python.org/3/library/pathlib.html#pathlib.Path.open)"
      ]
    },
    {
      "cell_type": "code",
      "metadata": {
        "id": "FMEJWtyo0Aox"
      },
      "source": [
        "import pathlib\n",
        "\n",
        "file_path = pathlib.Path(\"myfile.txt\")\n",
        "\n",
        "with file_path.open(\"w\") as file:\n",
        "  file.write(\"Bonjour, le monde!\")\n",
        "\n",
        "with file_path.open(\"w\") as file:\n",
        "  file.write(\"Bienvenu au cours de Python!\")"
      ],
      "execution_count": null,
      "outputs": []
    },
    {
      "cell_type": "markdown",
      "metadata": {
        "id": "YczAjC5w1WlM"
      },
      "source": [
        "Enfin, chaque fois que vous chargez un fichier externe, votre programme doit rechercher d'éventuels problèmes, tels qu'un fichier manquant, l'accès en écriture et en lecture, etc. Voici un modèle général que vous devriez envisager d'utiliser lorsque vous travaillez avec des fichiers:"
      ]
    },
    {
      "cell_type": "code",
      "metadata": {
        "id": "ef0q2wSC1cgf"
      },
      "source": [
        "import pathlib\n",
        "import logging\n",
        "\n",
        "file_path = pathlib.Path(\"\")\n",
        "\n",
        "try:\n",
        "    with file_path.open(mode=\"w\") as file:\n",
        "        file.write(\"Hello, World!\")\n",
        "except OSError as error:\n",
        "    logging.error(\"Echec Ecriture dans le fichier %s due a: %s\", file_path, error)"
      ],
      "execution_count": null,
      "outputs": []
    },
    {
      "cell_type": "markdown",
      "metadata": {
        "id": "WLvqaMhf25_m"
      },
      "source": [
        "Exemple avec les decimaux\n",
        "Il est possible d'augmenter la precision des décimaux dans un calcul et d'effectuer des calculs de haute precision avec [localcontext](https://docs.python.org/3/library/decimal.html#decimal.localcontext)"
      ]
    },
    {
      "cell_type": "code",
      "metadata": {
        "id": "MxOvzN7d24wW"
      },
      "source": [
        "from decimal import Decimal, localcontext\n",
        "\n",
        "with localcontext() as ctx:\n",
        "  ctx.prec = 52\n",
        "  print(Decimal(\"5\") / Decimal(\"42\"))\n",
        "  print(Decimal(\"83.3\") - Decimal(\"100\"))\n",
        "\n",
        "\n",
        "Decimal(\"5\") / Decimal(\"42\")\n"
      ],
      "execution_count": null,
      "outputs": []
    },
    {
      "cell_type": "code",
      "metadata": {
        "id": "FS05ocBEePzk"
      },
      "source": [
        "print(Decimal(\"83.3\") - Decimal(\"100\"))"
      ],
      "execution_count": null,
      "outputs": []
    },
    {
      "cell_type": "markdown",
      "metadata": {
        "id": "M4ZdwHlrqpQB"
      },
      "source": [
        "## Classe personnalisée de gestion de contexte"
      ]
    },
    {
      "cell_type": "code",
      "metadata": {
        "id": "N1eCcPftqxpE"
      },
      "source": [
        "class GestionnaireContexte:\n",
        "  def __enter__(self):\n",
        "    print(\"J'entre dans le contexte\")\n",
        "    return self\n",
        "\n",
        "  def __exit__(self,ctx_excpt,ctx_value,ctx_tb):\n",
        "    print(\"Bye Bye je sors du contexte\")\n",
        "    print(ctx_excpt,ctx_value,ctx_tb)\n",
        "    return ctx_value\n",
        "\n",
        "  def afficher(self):\n",
        "    print(\"....je travaille dans le contexte\")\n",
        "  \n"
      ],
      "execution_count": null,
      "outputs": []
    },
    {
      "cell_type": "code",
      "metadata": {
        "id": "3XhwMIINtTxl"
      },
      "source": [
        "with GestionnaireContexte() as gc:\n",
        "  gc.afficher()"
      ],
      "execution_count": null,
      "outputs": []
    },
    {
      "cell_type": "code",
      "metadata": {
        "id": "EzNIrfu4yRSq"
      },
      "source": [
        "with GestionnaireContexte() as gc:\n",
        "  gc.afficher(\"Hello world\")"
      ],
      "execution_count": null,
      "outputs": []
    },
    {
      "cell_type": "markdown",
      "metadata": {
        "id": "RHW0OkO82-Cx"
      },
      "source": [
        "**Ameliorons le code en gerant l'exception TypeError au cas où c'est la plus frequente**\n",
        "Dans .__ exit __ (), vous vérifiez si ctx_value est une instance de 'TypeError'. Si tel est le cas, vous imprimez quelques messages informatifs et renvoyez finalement  True. Le renvoi d'une valeur de vérité permet d'avaler l'exception et de continuer l'exécution normale après le code du bloc with."
      ]
    },
    {
      "cell_type": "code",
      "metadata": {
        "id": "KuAZUZQW23f5"
      },
      "source": [
        "class GestionnaireContexte2:\n",
        "  def __enter__(self):\n",
        "    print(\"J'entre dans le contexte\")\n",
        "    return self\n",
        "\n",
        "  def __exit__(self,ctx_excpt,ctx_value,ctx_tb):\n",
        "    print(\"Bye Bye je sors du contexte\")\n",
        "    if isinstance(ctx_value, TypeError):\n",
        "      print(ctx_excpt,ctx_tb)\n",
        "      return True\n",
        "    return False\n",
        "\n",
        "\n",
        "  def write(self):\n",
        "    print(\"....je travaille dans le contexte\")\n"
      ],
      "execution_count": null,
      "outputs": []
    },
    {
      "cell_type": "code",
      "metadata": {
        "id": "ZO8bIZYL35bX"
      },
      "source": [
        "with GestionnaireContexte2() as gc:\n",
        "  gc.write(\"test\")"
      ],
      "execution_count": null,
      "outputs": []
    },
    {
      "cell_type": "markdown",
      "metadata": {
        "id": "oMA7aC6WfWMI"
      },
      "source": [
        "### Réutilisation"
      ]
    },
    {
      "cell_type": "code",
      "metadata": {
        "id": "CAEVjhzufZlc"
      },
      "source": [
        "ctx = GestionnaireContexte2()\n",
        "with ctx:\n",
        "  pass\n",
        " \n",
        "with ctx:\n",
        "  pass\n",
        "  \n",
        "with open(\"myfile.txt\",\"w\") as file:\n",
        "  file.write(\"test\")\n",
        "with open(\"myfile.txt\",\"w\") as file:\n",
        "  file.write(\"test\")"
      ],
      "execution_count": null,
      "outputs": []
    },
    {
      "cell_type": "markdown",
      "metadata": {
        "id": "bYeEga98hVWH"
      },
      "source": [
        "### Réentrance\n"
      ]
    },
    {
      "cell_type": "code",
      "metadata": {
        "id": "1cvcMTIrheC6"
      },
      "source": [
        "with ctx:\n",
        "  with ctx:\n",
        "    with ctx:\n",
        "      pass"
      ],
      "execution_count": null,
      "outputs": []
    },
    {
      "cell_type": "code",
      "metadata": {
        "id": "PX8r6gr0NGJ1"
      },
      "source": [
        "with GestionnaireContexte2():\n",
        "  with GestionnaireContexte2():\n",
        "    with GestionnaireContexte2():\n",
        "      pass\n"
      ],
      "execution_count": null,
      "outputs": []
    },
    {
      "cell_type": "markdown",
      "metadata": {
        "id": "NB7ZEZMEiq_s"
      },
      "source": [
        "**Probleme avec Lock de Threading qui est réutilisable mais pas réentrant**"
      ]
    },
    {
      "cell_type": "code",
      "metadata": {
        "id": "CifPTGB3i0Lm"
      },
      "source": [
        "from threading import Lock\n",
        "lock = Lock()\n",
        "# Le bloc exterieur attend la fin du bloc interieur pour liberer la ressource\n",
        "with lock:\n",
        "  #le bloc intérieur demande l’accès à une ressource (lock) déjà occupée par le bloc extérieur\n",
        "  with lock:\n",
        "    pass\n",
        "#Python est bloqué"
      ],
      "execution_count": null,
      "outputs": []
    },
    {
      "cell_type": "code",
      "metadata": {
        "id": "ZctTYAcnkB7y"
      },
      "source": [
        "from threading import RLock\n",
        "lock = RLock()\n",
        "\n",
        "with lock:\n",
        "  \n",
        "  with lock:\n",
        "    pass\n"
      ],
      "execution_count": null,
      "outputs": []
    },
    {
      "cell_type": "markdown",
      "metadata": {
        "id": "dpGHw5V16KOg"
      },
      "source": [
        "**Correction exercice**"
      ]
    },
    {
      "cell_type": "code",
      "metadata": {
        "id": "HDJ4mk5p7bmn"
      },
      "source": [
        "class Indenter:\n",
        "    def __init__(self):\n",
        "        self.level = -1\n",
        "\n",
        "    def __enter__(self):\n",
        "        #print(\"J'entre dans le contexte\")\n",
        "        self.level += 1\n",
        "        return self\n",
        "\n",
        "    def __exit__(self, exc_type, exc_value, exc_tb):\n",
        "        #print(\"Bye Bye Je sors du contexte\")\n",
        "        self.level -= 1\n",
        "\n",
        "    def print(self, text):\n",
        "        print(\"***\" * self.level + \" \"+text+\" \"+\"***\"* self.level)"
      ],
      "execution_count": null,
      "outputs": []
    },
    {
      "cell_type": "code",
      "metadata": {
        "id": "zkUS7kT77did"
      },
      "source": [
        "with Indenter() as indent:\n",
        "  indent.print(\"Bonjour pas d'indentation\")\n",
        "  with indent as ind:\n",
        "    ind.print(f\"Bonjour indentation niveau {ind.level} avec des etoiles\")\n",
        "    with ind as i:\n",
        "      i.print(f\"Bonjour indentation niveau {i.level}\")\n",
        "  indent.print(\"Sortie\")\n"
      ],
      "execution_count": null,
      "outputs": []
    },
    {
      "cell_type": "code",
      "metadata": {
        "id": "pP9t4cwq6OZQ"
      },
      "source": [
        "class OpenFile:\n",
        "    def __init__(self, file_path,param):\n",
        "        self.file_path = file_path\n",
        "        self.param = param\n",
        "\n",
        "    def __enter__(self):\n",
        "        self.file_obj = open(self.file_path, mode= self.param)\n",
        "        return self.file_obj\n",
        "\n",
        "    def __exit__(self, exc_type, exc_val, exc_tb):\n",
        "        if self.file_obj:\n",
        "            self.file_obj.close()"
      ],
      "execution_count": null,
      "outputs": []
    },
    {
      "cell_type": "code",
      "metadata": {
        "id": "BpBDE3-W6ZBi"
      },
      "source": [
        "with OpenFile(\"myfile.txt\",\"w\") as file:\n",
        "  file.write(\"De nouveau present\")"
      ],
      "execution_count": null,
      "outputs": []
    },
    {
      "cell_type": "code",
      "metadata": {
        "id": "1VPx_WR47Mtq"
      },
      "source": [
        "with OpenFile(\"myfile.txt\",\"r\") as file:\n",
        "  l = file.read()\n",
        "  print(l)"
      ],
      "execution_count": null,
      "outputs": []
    },
    {
      "cell_type": "markdown",
      "metadata": {
        "id": "2D4hp1nBad7Z"
      },
      "source": [
        "## Utilisation de Contextlib"
      ]
    },
    {
      "cell_type": "code",
      "metadata": {
        "id": "VfSNmn99ajeI"
      },
      "source": [
        "# Creation d'une classe gestionnaire de contexte qui permet de mesurer les temps d'execution d'une suite d'instruction\n",
        "from contextlib import ContextDecorator\n",
        "import time\n",
        "\n",
        "class SpentTime(ContextDecorator):\n",
        "    def __enter__(self):\n",
        "        self.start = time.time()\n",
        "    def __exit__(self, *_):\n",
        "        print('Elapsed {:.3}s'.format(time.time() - self.start))"
      ],
      "execution_count": null,
      "outputs": []
    },
    {
      "cell_type": "code",
      "metadata": {
        "id": "GFQ3xuOGa0h2"
      },
      "source": [
        "from math import factorial\n",
        "#On peut l'utiliser avec with\n",
        "with SpentTime():\n",
        "  factorial(9009)\n"
      ],
      "execution_count": null,
      "outputs": []
    },
    {
      "cell_type": "code",
      "metadata": {
        "id": "wGlfsiLtciea"
      },
      "source": [
        "@SpentTime()\n",
        "def factoriel(n):\n",
        "  if n == 0:\n",
        "    return 1\n",
        "  else:\n",
        "    return n*factoriel(n-1)"
      ],
      "execution_count": null,
      "outputs": []
    },
    {
      "cell_type": "code",
      "metadata": {
        "id": "7TCkg4eIc7wi"
      },
      "source": [
        "factoriel(10)"
      ],
      "execution_count": null,
      "outputs": []
    },
    {
      "cell_type": "code",
      "metadata": {
        "id": "pgGi4OqAQZBK"
      },
      "source": [
        "@SpentTime()\n",
        "def factorielBis(n):\n",
        "  P = 1\n",
        "  for i in range(1,n+1):\n",
        "    P = P*i\n",
        "  return P"
      ],
      "execution_count": null,
      "outputs": []
    },
    {
      "cell_type": "code",
      "metadata": {
        "id": "ydXvH3w_QtG_"
      },
      "source": [
        "factorielBis(10)"
      ],
      "execution_count": null,
      "outputs": []
    },
    {
      "cell_type": "markdown",
      "metadata": {
        "id": "hsjJRmsCmU1Z"
      },
      "source": [
        "**Exercice sur la redirection**"
      ]
    },
    {
      "cell_type": "code",
      "metadata": {
        "id": "AqHPfUzgmYnL"
      },
      "source": [
        "import sys\n",
        "import contextlib as cl\n",
        "class Redirection(cl.ContextDecorator):\n",
        "    def __init__(self,fichier):\n",
        "      self.fichier = fichier\n",
        "      \n",
        "    def __enter__(self):\n",
        "        self.old_stdout = sys.stdout\n",
        "        sys.stdout = self.fichier\n",
        "\n",
        "    def __exit__(self, *_):\n",
        "        sys.stdout = self.old_stdout\n",
        "        "
      ],
      "execution_count": null,
      "outputs": []
    },
    {
      "cell_type": "code",
      "metadata": {
        "id": "sNpDKA4Bnr51"
      },
      "source": [
        "\n",
        "output = open(\"myfile.txt\",\"w\")\n",
        "with Redirection(output):\n",
        "  print('ceci est écrit dans output et est verifiable')\n",
        "\n",
        "\n"
      ],
      "execution_count": null,
      "outputs": []
    },
    {
      "cell_type": "code",
      "metadata": {
        "id": "h1gagnTxp-nG"
      },
      "source": [
        "output = open(\"myfile.txt\",\"w\")\n",
        "@Redirection(output)\n",
        "def addition(a, b):\n",
        "  print('result =', a + b)"
      ],
      "execution_count": null,
      "outputs": []
    },
    {
      "cell_type": "code",
      "metadata": {
        "id": "mSJGNjJPqKGN"
      },
      "source": [
        "addition(2,3)"
      ],
      "execution_count": null,
      "outputs": []
    },
    {
      "cell_type": "code",
      "metadata": {
        "id": "15WiKlgLrbz-"
      },
      "source": [
        "#Réentrance\n",
        "output = open(\"myfile.txt\",\"w\")\n",
        "with Redirection(output):\n",
        "  print('ceci est ecrit dans loutput1 ')\n",
        "  \n",
        "  \n",
        "  with Redirection(output):\n",
        "    print('ceci est ecrit dans loutput2 ')\n",
        "\n",
        "print('ceci est ecrit dans quoi')\n",
        "print('ceci est ecrit dans quoi 2')\n"
      ],
      "execution_count": null,
      "outputs": []
    },
    {
      "cell_type": "code",
      "metadata": {
        "id": "Zz-qJ1cps-p6"
      },
      "source": [
        "import sys\n",
        "class RedirectionPile(cl.ContextDecorator):\n",
        "    def __init__(self,fichier):\n",
        "      self.fichier = fichier\n",
        "      self.stack = []\n",
        "    def __enter__(self):\n",
        "        self.stack.append(sys.stdout)\n",
        "        sys.stdout = self.fichier\n",
        "\n",
        "\n",
        "    def __exit__(self, *_):\n",
        "        sys.stdout = self.stack.pop()"
      ],
      "execution_count": null,
      "outputs": []
    },
    {
      "cell_type": "code",
      "metadata": {
        "id": "qMu6eK5Zu_tn"
      },
      "source": [
        "#Réentrance\n",
        "output = open(\"myfile.txt\",\"w\")\n",
        "with RedirectionPile(output):\n",
        "  \n",
        "  \n",
        "  with RedirectionPile(output):\n",
        "    print('ceci est ecrit dans la console ')\n",
        "print('ceci est ecrit dans quoi')\n",
        "print('ceci est ecrit dans quoi 2')\n"
      ],
      "execution_count": null,
      "outputs": []
    },
    {
      "cell_type": "code",
      "metadata": {
        "id": "ks1ej5VBEfec"
      },
      "source": [
        "def myxml(balise,contenu,** kwargs):\n",
        "  attrs = ' '.join([' '+tup[0]+'='+f'\"{tup[1]}\"' for tup in list(kwargs.items())])\n",
        "  return f\"<{balise}{attrs}>{contenu}</{balise}>\""
      ],
      "execution_count": null,
      "outputs": []
    },
    {
      "cell_type": "code",
      "metadata": {
        "id": "OmPo0dUXFIxb"
      },
      "source": [
        "myxml(\"balise\",\"contenu\",a = 1,b=2,c=3)"
      ],
      "execution_count": null,
      "outputs": []
    },
    {
      "cell_type": "code",
      "metadata": {
        "id": "QdqjP9sHIbor"
      },
      "source": [
        "def myxml2(balise,contenu,** kwargs):\n",
        "  attrs = ' '.join([f' {cle} = \"{valeur}\"' for cle, valeur in kwargs.items()])\n",
        "  return f\"<{balise}{attrs}>{contenu}</{balise}>\""
      ],
      "execution_count": null,
      "outputs": []
    },
    {
      "cell_type": "code",
      "metadata": {
        "id": "tMYjX7_gI3W0"
      },
      "source": [
        "myxml2(\"balise\",\"contenu\",a = 1,b=2,c=3)"
      ],
      "execution_count": null,
      "outputs": []
    }
  ]
}