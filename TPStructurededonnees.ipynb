{
  "nbformat": 4,
  "nbformat_minor": 0,
  "metadata": {
    "colab": {
      "name": "TPStructurededonnees.ipynb",
      "provenance": [],
      "authorship_tag": "ABX9TyPEd8Wvco0Hwn4Zker/GfVp",
      "include_colab_link": true
    },
    "kernelspec": {
      "name": "python3",
      "display_name": "Python 3"
    },
    "language_info": {
      "name": "python"
    }
  },
  "cells": [
    {
      "cell_type": "markdown",
      "metadata": {
        "id": "view-in-github",
        "colab_type": "text"
      },
      "source": [
        "<a href=\"https://colab.research.google.com/github/MamadouBousso/Cours-Python/blob/main/TPStructurededonnees.ipynb\" target=\"_parent\"><img src=\"https://colab.research.google.com/assets/colab-badge.svg\" alt=\"Open In Colab\"/></a>"
      ]
    },
    {
      "cell_type": "markdown",
      "metadata": {
        "id": "oTDTXNHMM6kR"
      },
      "source": [
        "## Liste"
      ]
    },
    {
      "cell_type": "code",
      "metadata": {
        "id": "pzmzXg1CM4TP"
      },
      "source": [
        "L = [12,13,4, 5]"
      ],
      "execution_count": null,
      "outputs": []
    },
    {
      "cell_type": "code",
      "metadata": {
        "colab": {
          "base_uri": "https://localhost:8080/"
        },
        "id": "Z1gTWJWINCNW",
        "outputId": "47b90891-92fe-4ec1-9a91-8d42cb0d47f1"
      },
      "source": [
        "a = L.pop(3)\n",
        "print(a)"
      ],
      "execution_count": null,
      "outputs": [
        {
          "output_type": "stream",
          "text": [
            "5\n"
          ],
          "name": "stdout"
        }
      ]
    },
    {
      "cell_type": "code",
      "metadata": {
        "colab": {
          "base_uri": "https://localhost:8080/"
        },
        "id": "9QJCCplsNNEr",
        "outputId": "f2d8f195-33ae-4f7b-e533-1250dd1b2403"
      },
      "source": [
        "print(L)"
      ],
      "execution_count": null,
      "outputs": [
        {
          "output_type": "stream",
          "text": [
            "[12, 13, 4]\n"
          ],
          "name": "stdout"
        }
      ]
    },
    {
      "cell_type": "markdown",
      "metadata": {
        "id": "4T9y09oNNYea"
      },
      "source": [
        ""
      ]
    },
    {
      "cell_type": "code",
      "metadata": {
        "colab": {
          "base_uri": "https://localhost:8080/"
        },
        "id": "PBOyiu5ENV9Y",
        "outputId": "1240a009-55cf-4a3d-fc61-6239534f5bee"
      },
      "source": [
        "del L[2]\n",
        "print(L)"
      ],
      "execution_count": null,
      "outputs": [
        {
          "output_type": "stream",
          "text": [
            "[12, 13]\n"
          ],
          "name": "stdout"
        }
      ]
    },
    {
      "cell_type": "code",
      "metadata": {
        "colab": {
          "base_uri": "https://localhost:8080/"
        },
        "id": "FRlV4t4RNlxX",
        "outputId": "2e413753-60f6-465f-84a2-8d5c54d08cdd"
      },
      "source": [
        "L.clear()\n",
        "print(L)"
      ],
      "execution_count": null,
      "outputs": [
        {
          "output_type": "stream",
          "text": [
            "[]\n"
          ],
          "name": "stdout"
        }
      ]
    },
    {
      "cell_type": "markdown",
      "metadata": {
        "id": "GdTN_A1wNt2m"
      },
      "source": [
        "## Tuple"
      ]
    },
    {
      "cell_type": "code",
      "metadata": {
        "id": "CEsqO2anNwPY"
      },
      "source": [
        "T = (1,4,7)"
      ],
      "execution_count": null,
      "outputs": []
    },
    {
      "cell_type": "code",
      "metadata": {
        "colab": {
          "base_uri": "https://localhost:8080/",
          "height": 164
        },
        "id": "Bk7R_mWWNzyq",
        "outputId": "1f30e1ed-d2b0-4158-d02c-57cc0be5afef"
      },
      "source": [
        "T[2]=7"
      ],
      "execution_count": null,
      "outputs": [
        {
          "output_type": "error",
          "ename": "TypeError",
          "evalue": "ignored",
          "traceback": [
            "\u001b[0;31m---------------------------------------------------------------------------\u001b[0m",
            "\u001b[0;31mTypeError\u001b[0m                                 Traceback (most recent call last)",
            "\u001b[0;32m<ipython-input-7-970f82f55467>\u001b[0m in \u001b[0;36m<module>\u001b[0;34m()\u001b[0m\n\u001b[0;32m----> 1\u001b[0;31m \u001b[0mT\u001b[0m\u001b[0;34m[\u001b[0m\u001b[0;36m2\u001b[0m\u001b[0;34m]\u001b[0m\u001b[0;34m=\u001b[0m\u001b[0;36m7\u001b[0m\u001b[0;34m\u001b[0m\u001b[0;34m\u001b[0m\u001b[0m\n\u001b[0m",
            "\u001b[0;31mTypeError\u001b[0m: 'tuple' object does not support item assignment"
          ]
        }
      ]
    },
    {
      "cell_type": "code",
      "metadata": {
        "colab": {
          "base_uri": "https://localhost:8080/",
          "height": 164
        },
        "id": "z-lt4jsGN-27",
        "outputId": "23b4f42e-c531-4f9a-a986-48e9016022b7"
      },
      "source": [
        "T.clear()"
      ],
      "execution_count": null,
      "outputs": [
        {
          "output_type": "error",
          "ename": "AttributeError",
          "evalue": "ignored",
          "traceback": [
            "\u001b[0;31m---------------------------------------------------------------------------\u001b[0m",
            "\u001b[0;31mAttributeError\u001b[0m                            Traceback (most recent call last)",
            "\u001b[0;32m<ipython-input-8-3324fc94e47b>\u001b[0m in \u001b[0;36m<module>\u001b[0;34m()\u001b[0m\n\u001b[0;32m----> 1\u001b[0;31m \u001b[0mT\u001b[0m\u001b[0;34m.\u001b[0m\u001b[0mclear\u001b[0m\u001b[0;34m(\u001b[0m\u001b[0;34m)\u001b[0m\u001b[0;34m\u001b[0m\u001b[0;34m\u001b[0m\u001b[0m\n\u001b[0m",
            "\u001b[0;31mAttributeError\u001b[0m: 'tuple' object has no attribute 'clear'"
          ]
        }
      ]
    },
    {
      "cell_type": "code",
      "metadata": {
        "id": "WR5BTQRlOQZf"
      },
      "source": [
        "L=[12,6,7,6,9,12,6]"
      ],
      "execution_count": null,
      "outputs": []
    },
    {
      "cell_type": "code",
      "metadata": {
        "colab": {
          "base_uri": "https://localhost:8080/"
        },
        "id": "C9tv59_6OUdm",
        "outputId": "f0ce5ba8-1ef3-4e93-e976-d6b34370ac2a"
      },
      "source": [
        "6 in L"
      ],
      "execution_count": null,
      "outputs": [
        {
          "output_type": "execute_result",
          "data": {
            "text/plain": [
              "True"
            ]
          },
          "metadata": {
            "tags": []
          },
          "execution_count": 11
        }
      ]
    },
    {
      "cell_type": "code",
      "metadata": {
        "colab": {
          "base_uri": "https://localhost:8080/"
        },
        "id": "QA_HMxXqOj3E",
        "outputId": "ccf32a56-3299-4cb2-87fe-239b7a431cd9"
      },
      "source": [
        "for i in L:\n",
        "  print(i)"
      ],
      "execution_count": null,
      "outputs": [
        {
          "output_type": "stream",
          "text": [
            "12\n",
            "6\n",
            "7\n"
          ],
          "name": "stdout"
        }
      ]
    },
    {
      "cell_type": "code",
      "metadata": {
        "colab": {
          "base_uri": "https://localhost:8080/"
        },
        "id": "31UrgFYrOxhu",
        "outputId": "94240500-77b8-42b9-89e9-5037b360ad1f"
      },
      "source": [
        "L.index(6)"
      ],
      "execution_count": null,
      "outputs": [
        {
          "output_type": "execute_result",
          "data": {
            "text/plain": [
              "1"
            ]
          },
          "metadata": {
            "tags": []
          },
          "execution_count": 15
        }
      ]
    },
    {
      "cell_type": "code",
      "metadata": {
        "colab": {
          "base_uri": "https://localhost:8080/",
          "height": 164
        },
        "id": "25ElASmePJjM",
        "outputId": "9f3b3ae5-bdcc-427e-a79f-679845a122d1"
      },
      "source": [
        "L.index(14)"
      ],
      "execution_count": null,
      "outputs": [
        {
          "output_type": "error",
          "ename": "ValueError",
          "evalue": "ignored",
          "traceback": [
            "\u001b[0;31m---------------------------------------------------------------------------\u001b[0m",
            "\u001b[0;31mValueError\u001b[0m                                Traceback (most recent call last)",
            "\u001b[0;32m<ipython-input-16-457304a2a0ae>\u001b[0m in \u001b[0;36m<module>\u001b[0;34m()\u001b[0m\n\u001b[0;32m----> 1\u001b[0;31m \u001b[0mL\u001b[0m\u001b[0;34m.\u001b[0m\u001b[0mindex\u001b[0m\u001b[0;34m(\u001b[0m\u001b[0;36m14\u001b[0m\u001b[0;34m)\u001b[0m\u001b[0;34m\u001b[0m\u001b[0;34m\u001b[0m\u001b[0m\n\u001b[0m",
            "\u001b[0;31mValueError\u001b[0m: 14 is not in list"
          ]
        }
      ]
    },
    {
      "cell_type": "code",
      "metadata": {
        "colab": {
          "base_uri": "https://localhost:8080/"
        },
        "id": "mJatyURdPQUq",
        "outputId": "6bd2977c-d2b8-4de3-d3d7-8b3ad89723d3"
      },
      "source": [
        "L.count(6)"
      ],
      "execution_count": null,
      "outputs": [
        {
          "output_type": "execute_result",
          "data": {
            "text/plain": [
              "3"
            ]
          },
          "metadata": {
            "tags": []
          },
          "execution_count": 17
        }
      ]
    },
    {
      "cell_type": "code",
      "metadata": {
        "id": "kwz1L3mZPaCp"
      },
      "source": [
        "L.remove(6)"
      ],
      "execution_count": null,
      "outputs": []
    },
    {
      "cell_type": "code",
      "metadata": {
        "colab": {
          "base_uri": "https://localhost:8080/"
        },
        "id": "XY3VaYHlPgOx",
        "outputId": "f0fa315e-ce25-4242-d30c-b77598962b05"
      },
      "source": [
        "L"
      ],
      "execution_count": null,
      "outputs": [
        {
          "output_type": "execute_result",
          "data": {
            "text/plain": [
              "[12, 7, 6, 9, 12, 6]"
            ]
          },
          "metadata": {
            "tags": []
          },
          "execution_count": 19
        }
      ]
    },
    {
      "cell_type": "code",
      "metadata": {
        "id": "sS88rgWJPqEu"
      },
      "source": [
        "L1 = L"
      ],
      "execution_count": null,
      "outputs": []
    },
    {
      "cell_type": "code",
      "metadata": {
        "id": "DGHFOpkCP2cN"
      },
      "source": [
        "L1.append(15)"
      ],
      "execution_count": null,
      "outputs": []
    },
    {
      "cell_type": "code",
      "metadata": {
        "colab": {
          "base_uri": "https://localhost:8080/"
        },
        "id": "LHzekq2UP6iu",
        "outputId": "0e8315be-9da7-44aa-f5fb-2fe6280d4b4b"
      },
      "source": [
        "print(L)\n",
        "print(L1)"
      ],
      "execution_count": null,
      "outputs": [
        {
          "output_type": "stream",
          "text": [
            "[12, 7, 6, 9, 12, 6, 15]\n",
            "[12, 7, 6, 9, 12, 6, 15]\n"
          ],
          "name": "stdout"
        }
      ]
    },
    {
      "cell_type": "code",
      "metadata": {
        "colab": {
          "base_uri": "https://localhost:8080/"
        },
        "id": "azLE9NKcQGGP",
        "outputId": "404ea6c0-3ce8-41ff-e6b0-1027650710f9"
      },
      "source": [
        "L2 = L.copy()\n",
        "print(L2)\n",
        "L2.append(0)\n",
        "print(\"L2 à nouveau \",L2)\n",
        "print(\"L à nouveau \",L)"
      ],
      "execution_count": null,
      "outputs": [
        {
          "output_type": "stream",
          "text": [
            "[12, 7, 6, 9, 12, 6, 15]\n",
            "L2 à nouveau  [12, 7, 6, 9, 12, 6, 15, 0]\n",
            "L à nouveau  [12, 7, 6, 9, 12, 6, 15]\n"
          ],
          "name": "stdout"
        }
      ]
    },
    {
      "cell_type": "code",
      "metadata": {
        "id": "IMCN5kE3RgRc"
      },
      "source": [
        "destination = [v**2 for v in L]"
      ],
      "execution_count": null,
      "outputs": []
    },
    {
      "cell_type": "markdown",
      "metadata": {
        "id": "9ALe_2UwgKW9"
      },
      "source": [
        "[expression for parcours condition]"
      ]
    },
    {
      "cell_type": "code",
      "metadata": {
        "colab": {
          "base_uri": "https://localhost:8080/"
        },
        "id": "SGH5rahYRuMA",
        "outputId": "d4d63017-e873-435b-8cb5-1f2165980b4a"
      },
      "source": [
        "destination"
      ],
      "execution_count": null,
      "outputs": [
        {
          "output_type": "execute_result",
          "data": {
            "text/plain": [
              "[144, 49, 36, 81, 144, 36, 225]"
            ]
          },
          "metadata": {
            "tags": []
          },
          "execution_count": 25
        }
      ]
    },
    {
      "cell_type": "markdown",
      "metadata": {
        "id": "_lwD1N8XR7ZP"
      },
      "source": [
        "**Exercice**\n",
        "Creer une nouvelle liste qui contient les carrés des elements de L qui sont multiples de 2"
      ]
    },
    {
      "cell_type": "code",
      "metadata": {
        "id": "ZRwjh9opSHvM"
      },
      "source": [
        "S = \"abcde\""
      ],
      "execution_count": null,
      "outputs": []
    },
    {
      "cell_type": "code",
      "metadata": {
        "colab": {
          "base_uri": "https://localhost:8080/",
          "height": 164
        },
        "id": "jE4Ust58ln9v",
        "outputId": "2d2427d8-77c6-44dd-b76e-1e781807c2ad"
      },
      "source": [
        "S[2]='-'"
      ],
      "execution_count": null,
      "outputs": [
        {
          "output_type": "error",
          "ename": "TypeError",
          "evalue": "ignored",
          "traceback": [
            "\u001b[0;31m---------------------------------------------------------------------------\u001b[0m",
            "\u001b[0;31mTypeError\u001b[0m                                 Traceback (most recent call last)",
            "\u001b[0;32m<ipython-input-27-d44c45d25052>\u001b[0m in \u001b[0;36m<module>\u001b[0;34m()\u001b[0m\n\u001b[0;32m----> 1\u001b[0;31m \u001b[0mS\u001b[0m\u001b[0;34m[\u001b[0m\u001b[0;36m2\u001b[0m\u001b[0;34m]\u001b[0m\u001b[0;34m=\u001b[0m\u001b[0;34m'-'\u001b[0m\u001b[0;34m\u001b[0m\u001b[0;34m\u001b[0m\u001b[0m\n\u001b[0m",
            "\u001b[0;31mTypeError\u001b[0m: 'str' object does not support item assignment"
          ]
        }
      ]
    },
    {
      "cell_type": "markdown",
      "metadata": {
        "id": "H3uwYW5Hl_jT"
      },
      "source": [
        ""
      ]
    },
    {
      "cell_type": "code",
      "metadata": {
        "id": "fw51WDl_l__k"
      },
      "source": [
        "S = \"cours de python\""
      ],
      "execution_count": null,
      "outputs": []
    },
    {
      "cell_type": "code",
      "metadata": {
        "id": "k3R4y26PmD2I"
      },
      "source": [
        "S1= S.split(\" \")"
      ],
      "execution_count": null,
      "outputs": []
    },
    {
      "cell_type": "code",
      "metadata": {
        "colab": {
          "base_uri": "https://localhost:8080/"
        },
        "id": "lvKl8-XsmIUn",
        "outputId": "4db9efd9-de5f-4b3f-e0b1-8e464ba97b24"
      },
      "source": [
        "S1"
      ],
      "execution_count": null,
      "outputs": [
        {
          "output_type": "execute_result",
          "data": {
            "text/plain": [
              "['cours', 'de', 'python']"
            ]
          },
          "metadata": {
            "tags": []
          },
          "execution_count": 32
        }
      ]
    },
    {
      "cell_type": "code",
      "metadata": {
        "id": "U4kbBtKmmZFw"
      },
      "source": [
        "S2 = \"/\".join(S1)"
      ],
      "execution_count": null,
      "outputs": []
    },
    {
      "cell_type": "code",
      "metadata": {
        "colab": {
          "base_uri": "https://localhost:8080/",
          "height": 35
        },
        "id": "QA_uKEzqme-W",
        "outputId": "4a134aa0-33ea-4c82-8a0d-f6c0c0466277"
      },
      "source": [
        "S2"
      ],
      "execution_count": null,
      "outputs": [
        {
          "output_type": "execute_result",
          "data": {
            "application/vnd.google.colaboratory.intrinsic+json": {
              "type": "string"
            },
            "text/plain": [
              "'cours/de/python'"
            ]
          },
          "metadata": {
            "tags": []
          },
          "execution_count": 34
        }
      ]
    },
    {
      "cell_type": "code",
      "metadata": {
        "colab": {
          "base_uri": "https://localhost:8080/"
        },
        "id": "sXKozar6m6Lm",
        "outputId": "679798f7-de7f-48d9-c968-b856d8726f3b"
      },
      "source": [
        "dictionnaire = {'a':1,'b':5,'c':45}\n",
        "print(list(dictionnaire.keys()))\n",
        "print(list(dictionnaire.values()))\n",
        "print(dictionnaire['a'])"
      ],
      "execution_count": null,
      "outputs": [
        {
          "output_type": "stream",
          "text": [
            "['a', 'b', 'c']\n",
            "[1, 5, 45]\n",
            "1\n"
          ],
          "name": "stdout"
        }
      ]
    },
    {
      "cell_type": "code",
      "metadata": {
        "colab": {
          "base_uri": "https://localhost:8080/"
        },
        "id": "LJVECS5moRNB",
        "outputId": "237c7ae3-8736-494a-b824-f0bf8419d118"
      },
      "source": [
        "Nomcolonne = [\"id\",\"nom\",\"prenom\"]\n",
        "Valeurs = [\"123\",\"Bousso\",\"Mamadou\",\"12/12/80\"]\n",
        "list(zip(Nomcolonne,Valeurs))"
      ],
      "execution_count": null,
      "outputs": [
        {
          "output_type": "execute_result",
          "data": {
            "text/plain": [
              "[('id', '123'), ('nom', 'Bousso'), ('prenom', 'Mamadou')]"
            ]
          },
          "metadata": {
            "tags": []
          },
          "execution_count": 44
        }
      ]
    },
    {
      "cell_type": "code",
      "metadata": {
        "colab": {
          "base_uri": "https://localhost:8080/"
        },
        "id": "zJxd2c7jo4lD",
        "outputId": "2a316801-5687-4a9f-fc98-1c54dd97fd30"
      },
      "source": [
        "d1 = dict(zip(Nomcolonne,Valeurs))\n",
        "print(d1)"
      ],
      "execution_count": null,
      "outputs": [
        {
          "output_type": "stream",
          "text": [
            "{'id': '123', 'nom': 'Bousso', 'prenom': 'Mamadou'}\n"
          ],
          "name": "stdout"
        }
      ]
    },
    {
      "cell_type": "code",
      "metadata": {
        "colab": {
          "base_uri": "https://localhost:8080/"
        },
        "id": "hWdwFNnhpJ4o",
        "outputId": "137a647b-0e22-47a9-c546-c843b3e2c8c9"
      },
      "source": [
        "for i,(a,b) in enumerate(zip(Nomcolonne,Valeurs)):\n",
        "  print(i,a,b)"
      ],
      "execution_count": null,
      "outputs": [
        {
          "output_type": "stream",
          "text": [
            "0 id 123\n",
            "1 nom Bousso\n",
            "2 prenom Mamadou\n"
          ],
          "name": "stdout"
        }
      ]
    },
    {
      "cell_type": "code",
      "metadata": {
        "colab": {
          "base_uri": "https://localhost:8080/"
        },
        "id": "-uqLRjzIpqKS",
        "outputId": "d1eabcb0-9aa5-4546-d156-4006a8cdaff9"
      },
      "source": [
        "S1 = \"aruyytfhgdiuuieqxwngeztytyuiy\"\n",
        "#Creez un dictionnaire qui a pour clé un caractére de S1 et pour valeur le nombre de fois que ce caractére apparait dans la chaine?\n",
        "S2 = set(S1)\n",
        "print(S2)\n",
        "S3 = list(S2)\n",
        "print(S3)"
      ],
      "execution_count": null,
      "outputs": [
        {
          "output_type": "stream",
          "text": [
            "{'r', 'i', 't', 'g', 'n', 'h', 'd', 'q', 'z', 'u', 'f', 'a', 'x', 'y', 'w', 'e'}\n",
            "['r', 'i', 't', 'g', 'n', 'h', 'd', 'q', 'z', 'u', 'f', 'a', 'x', 'y', 'w', 'e']\n"
          ],
          "name": "stdout"
        }
      ]
    },
    {
      "cell_type": "code",
      "metadata": {
        "colab": {
          "base_uri": "https://localhost:8080/",
          "height": 164
        },
        "id": "by38-R3Vv5xH",
        "outputId": "21bd8681-8008-44d6-c7b7-b90659f36b91"
      },
      "source": [
        "S4 ={2,[2,3,4],'a'}"
      ],
      "execution_count": null,
      "outputs": [
        {
          "output_type": "error",
          "ename": "TypeError",
          "evalue": "ignored",
          "traceback": [
            "\u001b[0;31m---------------------------------------------------------------------------\u001b[0m",
            "\u001b[0;31mTypeError\u001b[0m                                 Traceback (most recent call last)",
            "\u001b[0;32m<ipython-input-51-286c85f4ab3d>\u001b[0m in \u001b[0;36m<module>\u001b[0;34m()\u001b[0m\n\u001b[0;32m----> 1\u001b[0;31m \u001b[0mS4\u001b[0m \u001b[0;34m=\u001b[0m\u001b[0;34m{\u001b[0m\u001b[0;36m2\u001b[0m\u001b[0;34m,\u001b[0m\u001b[0;34m[\u001b[0m\u001b[0;36m2\u001b[0m\u001b[0;34m,\u001b[0m\u001b[0;36m3\u001b[0m\u001b[0;34m,\u001b[0m\u001b[0;36m4\u001b[0m\u001b[0;34m]\u001b[0m\u001b[0;34m,\u001b[0m\u001b[0;34m'a'\u001b[0m\u001b[0;34m}\u001b[0m\u001b[0;34m\u001b[0m\u001b[0;34m\u001b[0m\u001b[0m\n\u001b[0m",
            "\u001b[0;31mTypeError\u001b[0m: unhashable type: 'list'"
          ]
        }
      ]
    },
    {
      "cell_type": "code",
      "metadata": {
        "id": "Gwhv7bjbwQFx"
      },
      "source": [
        "S5 ={2,'a'}"
      ],
      "execution_count": null,
      "outputs": []
    },
    {
      "cell_type": "code",
      "metadata": {
        "id": "cG4vxnmzwaC6"
      },
      "source": [
        "S6 = [{2,3},{2,3},{'2',3}]"
      ],
      "execution_count": null,
      "outputs": []
    },
    {
      "cell_type": "code",
      "metadata": {
        "id": "9dgRNgZ_ws8e"
      },
      "source": [
        "I = {2,'a',('a','b')}"
      ],
      "execution_count": null,
      "outputs": []
    },
    {
      "cell_type": "code",
      "metadata": {
        "id": "10NNOswtzXhy"
      },
      "source": [
        "class Cage():\n",
        "  def __init__(self, id_number):\n",
        "    self.id_number = id_number\n",
        "    self.animals = []\n",
        "  def add_animals(self, *animals):\n",
        "    for one_animal in animals:\n",
        "      self.animals.append(one_animal)\n",
        "  def __repr__(self):\n",
        "    output = f'Cage {self.id_number}\\n'\n",
        "    output += '\\n'.join('\\t' + str(animal) for animal in self.animals)\n",
        "    return output"
      ],
      "execution_count": null,
      "outputs": []
    },
    {
      "cell_type": "code",
      "metadata": {
        "id": "DI7YEFErz00O"
      },
      "source": [
        "class Animal:\n",
        "  '''\n",
        "  La classe parente animal a 4 attributs\n",
        "  '''\n",
        "  def __init__(self,espece,couleur,nbre_pieds):\n",
        "    self.name = self.__class__.__name__\n",
        "    self.espece = espece\n",
        "    self.couleur = couleur\n",
        "    self.nbre_pieds = nbre_pieds\n",
        "\n",
        "  def __str__(self):\n",
        "    return f'Le {self.name} a {self.nbre_pieds} pieds et de couleur {self.couleur} '\n",
        "\n",
        "  def __repr__(self):\n",
        "    return f'Animal(name={self.name}, couleur={self.couleur}, nombre de pieds = {self.nbre_pieds}, espece = {self.espece})'\n"
      ],
      "execution_count": null,
      "outputs": []
    },
    {
      "cell_type": "code",
      "metadata": {
        "id": "Q_AotzU9z1vg"
      },
      "source": [
        "class Mouton(Animal):\n",
        "  '''\n",
        "  La classe Mouton herite de la classe Animal\n",
        "  '''\n",
        "  def __init__(self,espece,couleur,nbre_pieds):\n",
        "    super().__init__(espece,couleur,nbre_pieds)\n",
        "    self.name = Mouton.__name__\n"
      ],
      "execution_count": null,
      "outputs": []
    },
    {
      "cell_type": "code",
      "metadata": {
        "id": "oZjT-dvVz5NE"
      },
      "source": [
        "class Loup(Animal):\n",
        "  '''\n",
        "  La classe Loup herite de la classe Animal\n",
        "  '''\n",
        "  def __init__(self,espece,couleur,nbre_pieds):\n",
        "    super().__init__(espece,couleur,nbre_pieds)\n",
        "    self.name = Loup.__name__"
      ],
      "execution_count": null,
      "outputs": []
    },
    {
      "cell_type": "code",
      "metadata": {
        "id": "icmRdCrIz-iA"
      },
      "source": [
        "class Serpent(Animal):\n",
        "  '''\n",
        "  La classe Serpent herite de la classe Animal\n",
        "  '''\n",
        "  def __init__(self,espece,couleur,nbre_pieds):\n",
        "    super().__init__(espece,couleur,nbre_pieds)\n",
        "    self.name = Loup.__name__"
      ],
      "execution_count": null,
      "outputs": []
    },
    {
      "cell_type": "code",
      "metadata": {
        "id": "W_M39Ult0BL0"
      },
      "source": [
        "class Perroquet(Animal):\n",
        "  '''\n",
        "  La classe Perroquet herite de la classe Animal\n",
        "  '''\n",
        "  def __init__(self,espece,couleur,nbre_pieds):\n",
        "    super().__init__(espece,couleur,nbre_pieds)\n",
        "    self.name = Perroquet.__name__"
      ],
      "execution_count": null,
      "outputs": []
    }
  ]
}