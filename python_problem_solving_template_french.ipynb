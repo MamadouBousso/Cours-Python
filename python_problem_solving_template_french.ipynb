{
  "cells": [
    {
      "cell_type": "markdown",
      "metadata": {
        "id": "view-in-github",
        "colab_type": "text"
      },
      "source": [
        "<a href=\"https://colab.research.google.com/github/MamadouBousso/Cours-Python/blob/main/python_problem_solving_template_french.ipynb\" target=\"_parent\"><img src=\"https://colab.research.google.com/assets/colab-badge.svg\" alt=\"Open In Colab\"/></a>"
      ]
    },
    {
      "cell_type": "markdown",
      "id": "da3bed51",
      "metadata": {
        "id": "da3bed51"
      },
      "source": [
        "# Modele pour la resolution de probléme \n",
        "\n",
        "\n",
        "\n",
        "\n"
      ]
    },
    {
      "cell_type": "markdown",
      "id": "fb8cbb1f",
      "metadata": {
        "id": "fb8cbb1f"
      },
      "source": [
        "## La méthode\n",
        "Voici la stratégie systématique que nous appliquerons pour résoudre les problèmes :\n",
        "\n",
        "\n",
        "\n",
        "1. Énoncez clairement le problème. Identifiez les formats d'entrée et de sortie\n",
        "2. Trouvez des exemples d'entrées et de sorties. Essayez de couvrir tous les cas extrêmes.\n",
        "3. Trouver une solution correcte au problème. Énoncez-le de maniere simple.\n",
        "4. Implémentez la solution et testez-la à l'aide d'exemples d'entrées. Corrigez les bogues, le cas échéant.\n",
        "5. Analysez la complexité de l'algorithme et identifiez les inefficacités, le cas échéant.\n",
        "6. Appliquer la technique appropriée pour surmonter l'inefficacité. Répétez les étapes 3 à 6.\n",
        " Appliquons cette approche étape par étape.\n",
        "\n"
      ]
    },
    {
      "cell_type": "markdown",
      "id": "abe4b9fe",
      "metadata": {
        "id": "abe4b9fe"
      },
      "source": [
        "## Solution\n",
        "\n",
        "\n",
        "### 1. Énoncez clairement le problème. Identifiez les formats d'entrée et de sortie\n",
        "\n",
        "Bien que ce problème soit énoncé assez clairement, il est toujours utile d'essayer de l'exprimer avec vos propres mots, d'une manière qui le rende plus clair pour vous.\n",
        "\n",
        "\n",
        "**Problème**\n",
        "\n",
        "\n",
        "> **???** (exprimer le probleme clairement avec vos propres mots, et en terme abstrait\n",
        "\n",
        "<br/>\n",
        "\n",
        "\n",
        "**Input**\n",
        "\n",
        "1. **???**\n",
        "2. **???**\n",
        "\n",
        "(ajouter plus s'il y a des données requises)\n",
        "\n",
        "\n",
        "**Output**\n",
        "\n",
        "1. **???**\n",
        "\n",
        "\n",
        "(ajouter plus s'il y a des données requises)\n",
        "\n",
        "<br/>\n",
        "\n",
        "Sur la base de ce qui précède, nous pouvons maintenant créer une signature de notre fonction :"
      ]
    },
    {
      "cell_type": "code",
      "execution_count": null,
      "id": "ec3a6298",
      "metadata": {
        "id": "ec3a6298"
      },
      "outputs": [],
      "source": [
        "# Créez une signature de fonction ici. Le corps de la fonction peut contenir une seule instruction : pass"
      ]
    },
    {
      "cell_type": "markdown",
      "id": "7e2d3368",
      "metadata": {
        "id": "7e2d3368"
      },
      "source": [
        " ### 2. Trouvez des exemples d'entrées et de sorties. Essayez de couvrir tous les cas extrêmes.\n",
        "\n",
        "Notre fonction devrait être capable de gérer n'importe quel ensemble d'entrées valides que nous lui transmettons. Voici une liste de quelques variantes possibles que nous pourrions rencontrer :\n",
        "\n",
        "1. **???**\n",
        "2. **???**\n",
        "3. **???**\n",
        "4. **???**\n",
        "5. **???**\n",
        "\n",
        "(en ajouter si nécessaire)\n",
        "\n",
        "\n",
        "Nous allons exprimer nos cas de test sous forme de dictionnaires, pour les tester facilement. Chaque dictionnaire contiendra 2 clés : `input` (un dictionnaire lui-même contenant une clé pour chaque argument de la fonction et `output` (le résultat attendu de la fonction)."
      ]
    },
    {
      "cell_type": "code",
      "execution_count": null,
      "id": "0ecbfe33",
      "metadata": {
        "id": "0ecbfe33"
      },
      "outputs": [],
      "source": [
        "test = {\n",
        "    'input': {\n",
        "        ???\n",
        "    },\n",
        "    'output': ???\n",
        "}"
      ]
    },
    {
      "cell_type": "markdown",
      "id": "14c3ebed",
      "metadata": {
        "id": "14c3ebed"
      },
      "source": [
        "\n",
        "\n",
        "Créez un scénario de test pour chacun des scénarios répertoriés ci-dessus. Nous stockerons nos cas de test dans un tableau appelé `tests`."
      ]
    },
    {
      "cell_type": "code",
      "execution_count": null,
      "id": "f19a71c2",
      "metadata": {
        "id": "f19a71c2"
      },
      "outputs": [],
      "source": [
        "tests = []"
      ]
    },
    {
      "cell_type": "code",
      "execution_count": null,
      "id": "72983633",
      "metadata": {
        "id": "72983633"
      },
      "outputs": [],
      "source": [
        "tests.append(test)"
      ]
    },
    {
      "cell_type": "code",
      "execution_count": null,
      "id": "f50f6bda",
      "metadata": {
        "id": "f50f6bda"
      },
      "outputs": [],
      "source": [
        "tests.append({\n",
        "    'input': {\n",
        "        ???\n",
        "    },\n",
        "    'output': ???\n",
        "})"
      ]
    },
    {
      "cell_type": "code",
      "execution_count": null,
      "id": "95b96cfb",
      "metadata": {
        "id": "95b96cfb"
      },
      "outputs": [],
      "source": [
        "# ajouter d'autres cas de test"
      ]
    },
    {
      "cell_type": "code",
      "execution_count": null,
      "id": "44d5cfba",
      "metadata": {
        "id": "44d5cfba"
      },
      "outputs": [],
      "source": [
        ""
      ]
    },
    {
      "cell_type": "markdown",
      "id": "59e3589c",
      "metadata": {
        "id": "59e3589c"
      },
      "source": [
        "\n",
        "\n",
        "### 3. Trouvez une solution correcte au problème. Énoncez-le dans un anglais simple.\n",
        "\n",
        "Notre premier objectif doit toujours être de trouver une solution _correcte_ au problème, qui n'est pas nécessairement la solution la plus _efficace_. Venez avec une solution correcte et expliquez-la en mots simples ci-dessous :\n",
        "\n",
        "1. **???**\n",
        "2. **???**\n",
        "3. **???**\n",
        "4. **???**\n",
        "5. **???**\n",
        "\n",
        "(ajouter plus d'étapes si nécessaire)\n",
        "\n",
        "\n",
        "\n",
        "\n"
      ]
    },
    {
      "cell_type": "markdown",
      "id": "faadaaea",
      "metadata": {
        "id": "faadaaea"
      },
      "source": [
        "\n",
        "\n",
        "### 4. Implémentez la solution et testez-la à l'aide d'exemples d'entrées. Corrigez les bogues, le cas échéant."
      ]
    },
    {
      "cell_type": "code",
      "execution_count": null,
      "id": "5d04cc2e",
      "metadata": {
        "id": "5d04cc2e"
      },
      "outputs": [],
      "source": [
        ""
      ]
    },
    {
      "cell_type": "code",
      "execution_count": null,
      "id": "4e05a0f4",
      "metadata": {
        "id": "4e05a0f4"
      },
      "outputs": [],
      "source": [
        ""
      ]
    },
    {
      "cell_type": "code",
      "execution_count": null,
      "id": "939af285",
      "metadata": {
        "id": "939af285"
      },
      "outputs": [],
      "source": [
        ""
      ]
    },
    {
      "cell_type": "code",
      "execution_count": null,
      "id": "b2936ed3",
      "metadata": {
        "id": "b2936ed3"
      },
      "outputs": [],
      "source": [
        ""
      ]
    },
    {
      "cell_type": "markdown",
      "id": "e45e2ab7",
      "metadata": {
        "id": "e45e2ab7"
      },
      "source": [
        "Nous pouvons tester la fonction en lui transmettant directement l'entrée ou en utilisant la fonction `evaluate_test_case` de `jovian`."
      ]
    },
    {
      "cell_type": "code",
      "execution_count": null,
      "id": "2efccbab",
      "metadata": {
        "id": "2efccbab"
      },
      "outputs": [],
      "source": [
        "from jovian.pythondsa import evaluate_test_case"
      ]
    },
    {
      "cell_type": "code",
      "execution_count": null,
      "id": "0b64ecdc",
      "metadata": {
        "id": "0b64ecdc"
      },
      "outputs": [],
      "source": [
        "evaluate_test_case(???)"
      ]
    },
    {
      "cell_type": "markdown",
      "id": "585a80b8",
      "metadata": {
        "id": "585a80b8"
      },
      "source": [
        "Évaluez votre fonction par rapport à tous les cas de test ensemble en utilisant la fonction `evaluate_test_cases` (pluriel) de `jovian`."
      ]
    },
    {
      "cell_type": "code",
      "execution_count": null,
      "id": "08a1f2f3",
      "metadata": {
        "id": "08a1f2f3"
      },
      "outputs": [],
      "source": [
        "from jovian.pythondsa import evaluate_test_cases"
      ]
    },
    {
      "cell_type": "code",
      "execution_count": null,
      "id": "42d01d8b",
      "metadata": {
        "id": "42d01d8b"
      },
      "outputs": [],
      "source": [
        "evaluate_test_cases(???)"
      ]
    },
    {
      "cell_type": "markdown",
      "id": "3e6b6e8a",
      "metadata": {
        "id": "3e6b6e8a"
      },
      "source": [
        "Vérifiez que tous les cas de test ont été évalués. Nous nous attendons à ce qu'ils échouent tous, car nous n'avons pas encore implémenté la fonction.\n",
        "\n"
      ]
    },
    {
      "cell_type": "markdown",
      "id": "8bda4df3",
      "metadata": {
        "id": "8bda4df3"
      },
      "source": [
        "### 5. Analysez la complexité de l'algorithme et identifiez les inefficacités, le cas échéant."
      ]
    },
    {
      "cell_type": "code",
      "execution_count": null,
      "id": "8921138e",
      "metadata": {
        "id": "8921138e"
      },
      "outputs": [],
      "source": [
        ""
      ]
    },
    {
      "cell_type": "code",
      "execution_count": null,
      "id": "91a82caf",
      "metadata": {
        "id": "91a82caf"
      },
      "outputs": [],
      "source": [
        ""
      ]
    },
    {
      "cell_type": "code",
      "execution_count": null,
      "id": "9baaf25d",
      "metadata": {
        "id": "9baaf25d"
      },
      "outputs": [],
      "source": [
        ""
      ]
    },
    {
      "cell_type": "markdown",
      "id": "261beb1d",
      "metadata": {
        "id": "261beb1d"
      },
      "source": [
        "### 6. Appliquez la bonne technique pour surmonter l'inefficacité. Répétez les étapes 3 à 6."
      ]
    },
    {
      "cell_type": "code",
      "execution_count": null,
      "id": "b5d7fc82",
      "metadata": {
        "id": "b5d7fc82"
      },
      "outputs": [],
      "source": [
        ""
      ]
    },
    {
      "cell_type": "code",
      "execution_count": null,
      "id": "faee8c10",
      "metadata": {
        "id": "faee8c10"
      },
      "outputs": [],
      "source": [
        ""
      ]
    },
    {
      "cell_type": "markdown",
      "id": "4c215494",
      "metadata": {
        "id": "4c215494"
      },
      "source": [
        "\n",
        "\n",
        "### 7. Trouvez une solution correcte au problème. Énoncez-le dans un anglais simple.\n",
        "\n",
        "Venez avec la solution correcte optimisée et expliquez-la en mots simples ci-dessous :\n",
        "\n",
        "1. **???**\n",
        "2. **???**\n",
        "3. **???**\n",
        "4. **???**\n",
        "5. **???**\n",
        "\n",
        "(ajouter plus d'étapes si nécessaire)\n",
        "\n",
        "\n"
      ]
    },
    {
      "cell_type": "code",
      "execution_count": null,
      "id": "1a348b22",
      "metadata": {
        "id": "1a348b22"
      },
      "outputs": [],
      "source": [
        ""
      ]
    },
    {
      "cell_type": "code",
      "execution_count": null,
      "id": "37021c25",
      "metadata": {
        "id": "37021c25"
      },
      "outputs": [],
      "source": [
        ""
      ]
    },
    {
      "cell_type": "code",
      "execution_count": null,
      "id": "439486a8",
      "metadata": {
        "id": "439486a8"
      },
      "outputs": [],
      "source": [
        ""
      ]
    },
    {
      "cell_type": "markdown",
      "id": "381045a8",
      "metadata": {
        "id": "381045a8"
      },
      "source": [
        "### 8. Implémentez la solution et testez-la à l'aide d'exemples d'entrées. Corrigez les bogues, le cas échéant."
      ]
    },
    {
      "cell_type": "code",
      "execution_count": null,
      "id": "9565634f",
      "metadata": {
        "id": "9565634f"
      },
      "outputs": [],
      "source": [
        ""
      ]
    },
    {
      "cell_type": "code",
      "execution_count": null,
      "id": "0491c52e",
      "metadata": {
        "id": "0491c52e"
      },
      "outputs": [],
      "source": [
        ""
      ]
    },
    {
      "cell_type": "code",
      "execution_count": null,
      "id": "dc11cbef",
      "metadata": {
        "id": "dc11cbef"
      },
      "outputs": [],
      "source": [
        ""
      ]
    },
    {
      "cell_type": "code",
      "execution_count": null,
      "id": "bc4813d5",
      "metadata": {
        "id": "bc4813d5"
      },
      "outputs": [],
      "source": [
        ""
      ]
    },
    {
      "cell_type": "markdown",
      "id": "1c4ec219",
      "metadata": {
        "id": "1c4ec219"
      },
      "source": [
        "### 9. Analysez la complexité de l'algorithme et identifiez les inefficacités, le cas échéant."
      ]
    },
    {
      "cell_type": "code",
      "execution_count": null,
      "id": "c372e56f",
      "metadata": {
        "id": "c372e56f"
      },
      "outputs": [],
      "source": [
        ""
      ]
    },
    {
      "cell_type": "code",
      "execution_count": null,
      "id": "b38a17dd",
      "metadata": {
        "id": "b38a17dd"
      },
      "outputs": [],
      "source": [
        ""
      ]
    },
    {
      "cell_type": "code",
      "execution_count": null,
      "id": "4f1800fd",
      "metadata": {
        "id": "4f1800fd"
      },
      "outputs": [],
      "source": [
        ""
      ]
    },
    {
      "cell_type": "code",
      "execution_count": null,
      "id": "2a46228c",
      "metadata": {
        "id": "2a46228c"
      },
      "outputs": [],
      "source": [
        ""
      ]
    }
  ],
  "metadata": {
    "kernelspec": {
      "display_name": "Python 3",
      "language": "python",
      "name": "python3"
    },
    "language_info": {
      "codemirror_mode": {
        "name": "ipython",
        "version": 3
      },
      "file_extension": ".py",
      "mimetype": "text/x-python",
      "name": "python",
      "nbconvert_exporter": "python",
      "pygments_lexer": "ipython3",
      "version": "3.8.6"
    },
    "colab": {
      "name": "python-problem-solving-template-french.ipynb",
      "provenance": [],
      "include_colab_link": true
    }
  },
  "nbformat": 4,
  "nbformat_minor": 5
}